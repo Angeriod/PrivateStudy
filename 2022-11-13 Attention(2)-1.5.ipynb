{
 "cells": [
  {
   "cell_type": "markdown",
   "id": "309136db",
   "metadata": {},
   "source": [
    "https://github.com/bentrevett/pytorch-seq2seq/blob/master/3%20-%20Neural%20Machine%20Translation%20by%20Jointly%20Learning%20to%20Align%20and%20Translate.ipynb"
   ]
  },
  {
   "cell_type": "code",
   "execution_count": 1,
   "id": "542632f8",
   "metadata": {},
   "outputs": [],
   "source": [
    "import torch\n",
    "import torch.nn as nn\n",
    "import torch.optim as optim\n",
    "import torch.nn.functional as F\n",
    "\n",
    "from torchtext.legacy.datasets import Multi30k\n",
    "from torchtext.legacy.data import Field, BucketIterator\n",
    "\n",
    "import spacy\n",
    "import numpy as np\n",
    "\n",
    "import random\n",
    "import math\n",
    "import time"
   ]
  },
  {
   "cell_type": "code",
   "execution_count": 2,
   "id": "49aad285",
   "metadata": {},
   "outputs": [],
   "source": [
    "seed=1234\n",
    "\n",
    "random.seed(seed)\n",
    "np.random.seed(seed)\n",
    "torch.manual_seed(seed)\n",
    "torch.cuda.manual_seed(seed)\n",
    "torch.backends.cudnn.deterministic=True"
   ]
  },
  {
   "cell_type": "code",
   "execution_count": 3,
   "id": "a012c8c4",
   "metadata": {},
   "outputs": [],
   "source": [
    "spacy_de=spacy.load('de_core_news_sm')\n",
    "spacy_en=spacy.load('en_core_web_sm')"
   ]
  },
  {
   "cell_type": "code",
   "execution_count": 4,
   "id": "5a5147e2",
   "metadata": {},
   "outputs": [],
   "source": [
    "def tokenize_de(text):\n",
    "    return [tok.text for tok in spacy_de.tokenizer(text)]\n",
    "\n",
    "def tokenize_en(text):\n",
    "    return [tok.text for tok in spacy_en.tokenizer(text)]"
   ]
  },
  {
   "cell_type": "code",
   "execution_count": 5,
   "id": "1414f6bb",
   "metadata": {},
   "outputs": [],
   "source": [
    "SRC=Field(tokenize=tokenize_de, init_token='', eos_token='',lower=True)\n",
    "TRG=Field(tokenize=tokenize_en, init_token='',eos_token='',lower=True)"
   ]
  },
  {
   "cell_type": "code",
   "execution_count": 6,
   "id": "7f25cb7c",
   "metadata": {},
   "outputs": [],
   "source": [
    "train_data,valid_data,test_data = Multi30k.splits(exts=('.de', '.en'), fields=(SRC,TRG))"
   ]
  },
  {
   "cell_type": "code",
   "execution_count": 7,
   "id": "31bf8c3e",
   "metadata": {},
   "outputs": [],
   "source": [
    "SRC.build_vocab(train_data, min_freq=2)\n",
    "TRG.build_vocab(train_data, min_freq=2)"
   ]
  },
  {
   "cell_type": "code",
   "execution_count": 8,
   "id": "8d008229",
   "metadata": {},
   "outputs": [],
   "source": [
    "device= torch.device('cuda:0' if torch.cuda.is_available() else 'cpu')"
   ]
  },
  {
   "cell_type": "code",
   "execution_count": 9,
   "id": "26e88af6",
   "metadata": {},
   "outputs": [],
   "source": [
    "BATCH_SIZE=128\n",
    "\n",
    "train_iterator, valid_iterator, test_iterator = BucketIterator.splits((train_data, valid_data, test_data), batch_size=BATCH_SIZE, device=device)"
   ]
  },
  {
   "cell_type": "code",
   "execution_count": 10,
   "id": "07409ed2",
   "metadata": {},
   "outputs": [],
   "source": [
    "class Encoder(nn.Module):\n",
    "    def __init__(self, input_dim, embdim, enc_hid_dim, dec_hid_dim, dropout):\n",
    "        super().__init__()\n",
    "        \n",
    "        self.embedding = nn.Embedding(input_dim,emb_dim)\n",
    "        #양방향=True\n",
    "        self.rnn = nn.GRU(emb_dim, enc_hid_dim, bidirectional=True)\n",
    "         # 양방향 rnn의 출력값을 concat 한 후에 fc layer에 전달합니다.\n",
    "        self.fc=nn.Linear(enc_hid_dim * 2, dec_hid_dim)\n",
    "        self.dropout=nn.Dropout(dropout)\n",
    "    def forward(self,src):\n",
    "        #src=[src len, batch_size]\n",
    "        embedded= self.dropout(self.embedding(src))\n",
    "        #embedded = [src len, batch_size, emb dim]\n",
    "        outputs, hidden = self.rnn(embedded)\n",
    "        #outputs=[단어길이, 배치사이즈, 은닉차원 * num_directions]\n",
    "        #hidden=[n_layers*num_direction(2), batch size, hid_dim]\n",
    "        #hidden layer는 [forward1,backward1,forward2,backward2... 식으로 쌓임]\n",
    "        #hidden[-2,:,:]--> 마지막 forward, hidden[-1,:,:]->마지막 backward\n",
    "        hidden = torch.tanh(self.fc(torch.cat((hidden[-2,:,:], hidden[-1,:,:]), dim = 1)))\n",
    "        \n",
    "        return outputs, hidden"
   ]
  },
  {
   "cell_type": "code",
   "execution_count": 11,
   "id": "cac1a791",
   "metadata": {},
   "outputs": [],
   "source": [
    "class Attention(nn.Module):\n",
    "    def __init__(self, enc_hid_dim, dec_hid_dim):\n",
    "        super().__init__()\n",
    "        \n",
    "        self.attn = nn.Linear((enc_hid_dim * 2) +dec_hid_dim, dec_hid_dim)\n",
    "        self.v = nn.Linear(dec_hid_dim,1, bias=False)\n",
    "    \n",
    "    def forward(self,hidden,encoder_outputs):\n",
    "        \n",
    "        batch_size=encoder_outputs.shape[1]\n",
    "        src_len=encoder_outputs.shape[0]\n",
    "        \n",
    "        hidden=hidden.unsqueeze(1).repeat(1, src_len, 1)\n",
    "        \n",
    "        encoder_outputs=encoder_outputs.permute(1,0,2)\n",
    "        \n",
    "        energy=torch.tanh(self.attn(torch.cat((hidden, encoder_outputs), dim=2)))\n",
    "        \n",
    "        attention=self.v(energy).squeeze(2)\n",
    "        \n",
    "        return F.softmax(attention, dim=1)"
   ]
  },
  {
   "cell_type": "code",
   "execution_count": 12,
   "id": "aa58e269",
   "metadata": {},
   "outputs": [],
   "source": [
    "class Decoder(nn.Module):\n",
    "    def __init__(self,output_dim, emb_dim, enc_hid_dim, dec_hid_dim, dropout, attention):\n",
    "        super().__init__()\n",
    "        \n",
    "        self.output_dim= output_dim\n",
    "        self.attention=attention\n",
    "        self.embedding=nn.Embedding(output_dim, emb_dim)\n",
    "        self.rnn = nn.GRU((enc_hid_dim*2) + emb_dim,dec_hid_dim)\n",
    "        self.fc_out=nn.Linear((enc_hid_dim*2)+dec_hid_dim + emb_dim, output_dim)\n",
    "        self.dropout=nn.Dropout(dropout)\n",
    "        \n",
    "    def forward(self, input, hidden, encoder_outputs):\n",
    "        \n",
    "        input= input.unsqueeze(0)\n",
    "        \n",
    "        embedded=self.dropout(self.embedding(input))\n",
    "        \n",
    "        a=self.attention(hidden, encoder_outputs)\n",
    "        \n",
    "        a=a.unsqueeze(1)\n",
    "        \n",
    "        encoder_outputs = encoder_outputs.permute(1,0,2)\n",
    "        \n",
    "        weighted=torch.bmm(a, encoder_outputs)\n",
    "        \n",
    "        weighted=weighted.permute(1,0,2)\n",
    "        \n",
    "        rnn_input=torch.cat((embedded, weighted), dim=2)\n",
    "        \n",
    "        output, hidden=self.rnn(rnn_input, hidden.unsqueeze(0))\n",
    "        \n",
    "        assert (output == hidden).all()\n",
    "        \n",
    "        embedded = embedded.squeeze(0)\n",
    "        output=output.squeeze(0)\n",
    "        weighted=weighted.squeeze(0)\n",
    "        \n",
    "        prediction=self.fc_out(torch.cat((output, weighted, embedded),dim=1))\n",
    "        \n",
    "        return prediction, hidden.squeeze(0)"
   ]
  }
 ],
 "metadata": {
  "kernelspec": {
   "display_name": "Python 3 (ipykernel)",
   "language": "python",
   "name": "python3"
  },
  "language_info": {
   "codemirror_mode": {
    "name": "ipython",
    "version": 3
   },
   "file_extension": ".py",
   "mimetype": "text/x-python",
   "name": "python",
   "nbconvert_exporter": "python",
   "pygments_lexer": "ipython3",
   "version": "3.9.7"
  }
 },
 "nbformat": 4,
 "nbformat_minor": 5
}
