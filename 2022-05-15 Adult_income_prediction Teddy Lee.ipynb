{
 "cells": [
  {
   "cell_type": "markdown",
   "id": "5ae7b560",
   "metadata": {},
   "source": [
    "https://www.kaggle.com/code/teddylee777/eda-lightgbm-pycaret"
   ]
  },
  {
   "cell_type": "code",
   "execution_count": 1,
   "id": "42a17f11",
   "metadata": {},
   "outputs": [
    {
     "name": "stdout",
     "output_type": "stream",
     "text": [
      "./csv\\adult_data.csv\n",
      "./csv\\adult_test.csv\n"
     ]
    }
   ],
   "source": [
    "import numpy as np # linear algebra\n",
    "import pandas as pd # data processing, CSV file I/O (e.g. pd.read_csv)\n",
    "\n",
    "import os\n",
    "for dirname, _, filenames in os.walk('./csv'): #경로 내에 있는 파일을 하나하나 돌아다니며 불러와\n",
    "    for filename in filenames: #근데 filename만 불러와야돼 (여기서는 CSV만)\n",
    "        print(os.path.join(dirname, filename)) #그리고 경로와 파일이름을 병합하여 새 경로 만들어줘"
   ]
  },
  {
   "cell_type": "code",
   "execution_count": 2,
   "id": "958f5f89",
   "metadata": {},
   "outputs": [],
   "source": [
    "import pandas as pd\n",
    "import numpy as np\n",
    "import matplotlib.pyplot as plt\n",
    "import seaborn as sns\n",
    "import warnings \n",
    "import os\n",
    "\n",
    "warnings.filterwarnings('ignore')\n",
    "\n",
    "SEED = 1234\n",
    "FIG_SIZE = (10, 7)"
   ]
  },
  {
   "cell_type": "code",
   "execution_count": 3,
   "id": "d0abca3d",
   "metadata": {},
   "outputs": [],
   "source": [
    "DIR = './csv'"
   ]
  },
  {
   "cell_type": "code",
   "execution_count": 4,
   "id": "4bece084",
   "metadata": {},
   "outputs": [],
   "source": [
    "train = pd.read_csv(os.path.join(DIR, 'adult_data.csv'))\n",
    "test = pd.read_csv(os.path.join(DIR, 'adult_test.csv'))"
   ]
  },
  {
   "cell_type": "code",
   "execution_count": 5,
   "id": "4d697db0",
   "metadata": {},
   "outputs": [
    {
     "name": "stdout",
     "output_type": "stream",
     "text": [
      "(32560, 15) (16280, 15)\n"
     ]
    }
   ],
   "source": [
    "print(train.shape, test.shape)"
   ]
  },
  {
   "cell_type": "code",
   "execution_count": 6,
   "id": "4f96a6dc",
   "metadata": {},
   "outputs": [
    {
     "data": {
      "text/html": [
       "<div>\n",
       "<style scoped>\n",
       "    .dataframe tbody tr th:only-of-type {\n",
       "        vertical-align: middle;\n",
       "    }\n",
       "\n",
       "    .dataframe tbody tr th {\n",
       "        vertical-align: top;\n",
       "    }\n",
       "\n",
       "    .dataframe thead th {\n",
       "        text-align: right;\n",
       "    }\n",
       "</style>\n",
       "<table border=\"1\" class=\"dataframe\">\n",
       "  <thead>\n",
       "    <tr style=\"text-align: right;\">\n",
       "      <th></th>\n",
       "      <th>39</th>\n",
       "      <th>State-gov</th>\n",
       "      <th>77516</th>\n",
       "      <th>Bachelors</th>\n",
       "      <th>13</th>\n",
       "      <th>Never-married</th>\n",
       "      <th>Adm-clerical</th>\n",
       "      <th>Not-in-family</th>\n",
       "      <th>White</th>\n",
       "      <th>Male</th>\n",
       "      <th>2174</th>\n",
       "      <th>0</th>\n",
       "      <th>40</th>\n",
       "      <th>United-States</th>\n",
       "      <th>&lt;=50K</th>\n",
       "    </tr>\n",
       "  </thead>\n",
       "  <tbody>\n",
       "    <tr>\n",
       "      <th>0</th>\n",
       "      <td>50</td>\n",
       "      <td>Self-emp-not-inc</td>\n",
       "      <td>83311</td>\n",
       "      <td>Bachelors</td>\n",
       "      <td>13</td>\n",
       "      <td>Married-civ-spouse</td>\n",
       "      <td>Exec-managerial</td>\n",
       "      <td>Husband</td>\n",
       "      <td>White</td>\n",
       "      <td>Male</td>\n",
       "      <td>0</td>\n",
       "      <td>0</td>\n",
       "      <td>13</td>\n",
       "      <td>United-States</td>\n",
       "      <td>&lt;=50K</td>\n",
       "    </tr>\n",
       "    <tr>\n",
       "      <th>1</th>\n",
       "      <td>38</td>\n",
       "      <td>Private</td>\n",
       "      <td>215646</td>\n",
       "      <td>HS-grad</td>\n",
       "      <td>9</td>\n",
       "      <td>Divorced</td>\n",
       "      <td>Handlers-cleaners</td>\n",
       "      <td>Not-in-family</td>\n",
       "      <td>White</td>\n",
       "      <td>Male</td>\n",
       "      <td>0</td>\n",
       "      <td>0</td>\n",
       "      <td>40</td>\n",
       "      <td>United-States</td>\n",
       "      <td>&lt;=50K</td>\n",
       "    </tr>\n",
       "    <tr>\n",
       "      <th>2</th>\n",
       "      <td>53</td>\n",
       "      <td>Private</td>\n",
       "      <td>234721</td>\n",
       "      <td>11th</td>\n",
       "      <td>7</td>\n",
       "      <td>Married-civ-spouse</td>\n",
       "      <td>Handlers-cleaners</td>\n",
       "      <td>Husband</td>\n",
       "      <td>Black</td>\n",
       "      <td>Male</td>\n",
       "      <td>0</td>\n",
       "      <td>0</td>\n",
       "      <td>40</td>\n",
       "      <td>United-States</td>\n",
       "      <td>&lt;=50K</td>\n",
       "    </tr>\n",
       "    <tr>\n",
       "      <th>3</th>\n",
       "      <td>28</td>\n",
       "      <td>Private</td>\n",
       "      <td>338409</td>\n",
       "      <td>Bachelors</td>\n",
       "      <td>13</td>\n",
       "      <td>Married-civ-spouse</td>\n",
       "      <td>Prof-specialty</td>\n",
       "      <td>Wife</td>\n",
       "      <td>Black</td>\n",
       "      <td>Female</td>\n",
       "      <td>0</td>\n",
       "      <td>0</td>\n",
       "      <td>40</td>\n",
       "      <td>Cuba</td>\n",
       "      <td>&lt;=50K</td>\n",
       "    </tr>\n",
       "    <tr>\n",
       "      <th>4</th>\n",
       "      <td>37</td>\n",
       "      <td>Private</td>\n",
       "      <td>284582</td>\n",
       "      <td>Masters</td>\n",
       "      <td>14</td>\n",
       "      <td>Married-civ-spouse</td>\n",
       "      <td>Exec-managerial</td>\n",
       "      <td>Wife</td>\n",
       "      <td>White</td>\n",
       "      <td>Female</td>\n",
       "      <td>0</td>\n",
       "      <td>0</td>\n",
       "      <td>40</td>\n",
       "      <td>United-States</td>\n",
       "      <td>&lt;=50K</td>\n",
       "    </tr>\n",
       "  </tbody>\n",
       "</table>\n",
       "</div>"
      ],
      "text/plain": [
       "   39          State-gov   77516   Bachelors   13        Never-married  \\\n",
       "0  50   Self-emp-not-inc   83311   Bachelors   13   Married-civ-spouse   \n",
       "1  38            Private  215646     HS-grad    9             Divorced   \n",
       "2  53            Private  234721        11th    7   Married-civ-spouse   \n",
       "3  28            Private  338409   Bachelors   13   Married-civ-spouse   \n",
       "4  37            Private  284582     Masters   14   Married-civ-spouse   \n",
       "\n",
       "         Adm-clerical   Not-in-family   White     Male   2174   0   40  \\\n",
       "0     Exec-managerial         Husband   White     Male      0   0   13   \n",
       "1   Handlers-cleaners   Not-in-family   White     Male      0   0   40   \n",
       "2   Handlers-cleaners         Husband   Black     Male      0   0   40   \n",
       "3      Prof-specialty            Wife   Black   Female      0   0   40   \n",
       "4     Exec-managerial            Wife   White   Female      0   0   40   \n",
       "\n",
       "    United-States   <=50K  \n",
       "0   United-States   <=50K  \n",
       "1   United-States   <=50K  \n",
       "2   United-States   <=50K  \n",
       "3            Cuba   <=50K  \n",
       "4   United-States   <=50K  "
      ]
     },
     "execution_count": 6,
     "metadata": {},
     "output_type": "execute_result"
    }
   ],
   "source": [
    "train.head()"
   ]
  },
  {
   "cell_type": "code",
   "execution_count": 7,
   "id": "844be3a4",
   "metadata": {},
   "outputs": [
    {
     "data": {
      "text/html": [
       "<div>\n",
       "<style scoped>\n",
       "    .dataframe tbody tr th:only-of-type {\n",
       "        vertical-align: middle;\n",
       "    }\n",
       "\n",
       "    .dataframe tbody tr th {\n",
       "        vertical-align: top;\n",
       "    }\n",
       "\n",
       "    .dataframe thead th {\n",
       "        text-align: right;\n",
       "    }\n",
       "</style>\n",
       "<table border=\"1\" class=\"dataframe\">\n",
       "  <thead>\n",
       "    <tr style=\"text-align: right;\">\n",
       "      <th></th>\n",
       "      <th>25</th>\n",
       "      <th>Private</th>\n",
       "      <th>226802</th>\n",
       "      <th>11th</th>\n",
       "      <th>7</th>\n",
       "      <th>Never-married</th>\n",
       "      <th>Machine-op-inspct</th>\n",
       "      <th>Own-child</th>\n",
       "      <th>Black</th>\n",
       "      <th>Male</th>\n",
       "      <th>0</th>\n",
       "      <th>0.1</th>\n",
       "      <th>40</th>\n",
       "      <th>United-States</th>\n",
       "      <th>&lt;=50K.</th>\n",
       "    </tr>\n",
       "  </thead>\n",
       "  <tbody>\n",
       "    <tr>\n",
       "      <th>0</th>\n",
       "      <td>38</td>\n",
       "      <td>Private</td>\n",
       "      <td>89814</td>\n",
       "      <td>HS-grad</td>\n",
       "      <td>9</td>\n",
       "      <td>Married-civ-spouse</td>\n",
       "      <td>Farming-fishing</td>\n",
       "      <td>Husband</td>\n",
       "      <td>White</td>\n",
       "      <td>Male</td>\n",
       "      <td>0</td>\n",
       "      <td>0</td>\n",
       "      <td>50</td>\n",
       "      <td>United-States</td>\n",
       "      <td>&lt;=50K.</td>\n",
       "    </tr>\n",
       "    <tr>\n",
       "      <th>1</th>\n",
       "      <td>28</td>\n",
       "      <td>Local-gov</td>\n",
       "      <td>336951</td>\n",
       "      <td>Assoc-acdm</td>\n",
       "      <td>12</td>\n",
       "      <td>Married-civ-spouse</td>\n",
       "      <td>Protective-serv</td>\n",
       "      <td>Husband</td>\n",
       "      <td>White</td>\n",
       "      <td>Male</td>\n",
       "      <td>0</td>\n",
       "      <td>0</td>\n",
       "      <td>40</td>\n",
       "      <td>United-States</td>\n",
       "      <td>&gt;50K.</td>\n",
       "    </tr>\n",
       "    <tr>\n",
       "      <th>2</th>\n",
       "      <td>44</td>\n",
       "      <td>Private</td>\n",
       "      <td>160323</td>\n",
       "      <td>Some-college</td>\n",
       "      <td>10</td>\n",
       "      <td>Married-civ-spouse</td>\n",
       "      <td>Machine-op-inspct</td>\n",
       "      <td>Husband</td>\n",
       "      <td>Black</td>\n",
       "      <td>Male</td>\n",
       "      <td>7688</td>\n",
       "      <td>0</td>\n",
       "      <td>40</td>\n",
       "      <td>United-States</td>\n",
       "      <td>&gt;50K.</td>\n",
       "    </tr>\n",
       "    <tr>\n",
       "      <th>3</th>\n",
       "      <td>18</td>\n",
       "      <td>?</td>\n",
       "      <td>103497</td>\n",
       "      <td>Some-college</td>\n",
       "      <td>10</td>\n",
       "      <td>Never-married</td>\n",
       "      <td>?</td>\n",
       "      <td>Own-child</td>\n",
       "      <td>White</td>\n",
       "      <td>Female</td>\n",
       "      <td>0</td>\n",
       "      <td>0</td>\n",
       "      <td>30</td>\n",
       "      <td>United-States</td>\n",
       "      <td>&lt;=50K.</td>\n",
       "    </tr>\n",
       "    <tr>\n",
       "      <th>4</th>\n",
       "      <td>34</td>\n",
       "      <td>Private</td>\n",
       "      <td>198693</td>\n",
       "      <td>10th</td>\n",
       "      <td>6</td>\n",
       "      <td>Never-married</td>\n",
       "      <td>Other-service</td>\n",
       "      <td>Not-in-family</td>\n",
       "      <td>White</td>\n",
       "      <td>Male</td>\n",
       "      <td>0</td>\n",
       "      <td>0</td>\n",
       "      <td>30</td>\n",
       "      <td>United-States</td>\n",
       "      <td>&lt;=50K.</td>\n",
       "    </tr>\n",
       "  </tbody>\n",
       "</table>\n",
       "</div>"
      ],
      "text/plain": [
       "   25     Private  226802           11th   7        Never-married  \\\n",
       "0  38     Private   89814        HS-grad   9   Married-civ-spouse   \n",
       "1  28   Local-gov  336951     Assoc-acdm  12   Married-civ-spouse   \n",
       "2  44     Private  160323   Some-college  10   Married-civ-spouse   \n",
       "3  18           ?  103497   Some-college  10        Never-married   \n",
       "4  34     Private  198693           10th   6        Never-married   \n",
       "\n",
       "    Machine-op-inspct       Own-child   Black     Male     0  0.1  40  \\\n",
       "0     Farming-fishing         Husband   White     Male     0    0  50   \n",
       "1     Protective-serv         Husband   White     Male     0    0  40   \n",
       "2   Machine-op-inspct         Husband   Black     Male  7688    0  40   \n",
       "3                   ?       Own-child   White   Female     0    0  30   \n",
       "4       Other-service   Not-in-family   White     Male     0    0  30   \n",
       "\n",
       "    United-States   <=50K.  \n",
       "0   United-States   <=50K.  \n",
       "1   United-States    >50K.  \n",
       "2   United-States    >50K.  \n",
       "3   United-States   <=50K.  \n",
       "4   United-States   <=50K.  "
      ]
     },
     "execution_count": 7,
     "metadata": {},
     "output_type": "execute_result"
    }
   ],
   "source": [
    "test.head()"
   ]
  },
  {
   "cell_type": "code",
   "execution_count": 8,
   "id": "c800227e",
   "metadata": {},
   "outputs": [
    {
     "data": {
      "text/html": [
       "<div>\n",
       "<style scoped>\n",
       "    .dataframe tbody tr th:only-of-type {\n",
       "        vertical-align: middle;\n",
       "    }\n",
       "\n",
       "    .dataframe tbody tr th {\n",
       "        vertical-align: top;\n",
       "    }\n",
       "\n",
       "    .dataframe thead th {\n",
       "        text-align: right;\n",
       "    }\n",
       "</style>\n",
       "<table border=\"1\" class=\"dataframe\">\n",
       "  <thead>\n",
       "    <tr style=\"text-align: right;\">\n",
       "      <th></th>\n",
       "      <th>age</th>\n",
       "      <th>workclass</th>\n",
       "      <th>fnlwgt</th>\n",
       "      <th>education</th>\n",
       "      <th>education_num</th>\n",
       "      <th>marital_status</th>\n",
       "      <th>occupation</th>\n",
       "      <th>relationship</th>\n",
       "      <th>race</th>\n",
       "      <th>sex</th>\n",
       "      <th>capital_gain</th>\n",
       "      <th>capital_loss</th>\n",
       "      <th>hours_per_week</th>\n",
       "      <th>native_country</th>\n",
       "      <th>income</th>\n",
       "    </tr>\n",
       "  </thead>\n",
       "  <tbody>\n",
       "    <tr>\n",
       "      <th>0</th>\n",
       "      <td>50</td>\n",
       "      <td>Self-emp-not-inc</td>\n",
       "      <td>83311</td>\n",
       "      <td>Bachelors</td>\n",
       "      <td>13</td>\n",
       "      <td>Married-civ-spouse</td>\n",
       "      <td>Exec-managerial</td>\n",
       "      <td>Husband</td>\n",
       "      <td>White</td>\n",
       "      <td>Male</td>\n",
       "      <td>0</td>\n",
       "      <td>0</td>\n",
       "      <td>13</td>\n",
       "      <td>United-States</td>\n",
       "      <td>&lt;=50K</td>\n",
       "    </tr>\n",
       "    <tr>\n",
       "      <th>1</th>\n",
       "      <td>38</td>\n",
       "      <td>Private</td>\n",
       "      <td>215646</td>\n",
       "      <td>HS-grad</td>\n",
       "      <td>9</td>\n",
       "      <td>Divorced</td>\n",
       "      <td>Handlers-cleaners</td>\n",
       "      <td>Not-in-family</td>\n",
       "      <td>White</td>\n",
       "      <td>Male</td>\n",
       "      <td>0</td>\n",
       "      <td>0</td>\n",
       "      <td>40</td>\n",
       "      <td>United-States</td>\n",
       "      <td>&lt;=50K</td>\n",
       "    </tr>\n",
       "    <tr>\n",
       "      <th>2</th>\n",
       "      <td>53</td>\n",
       "      <td>Private</td>\n",
       "      <td>234721</td>\n",
       "      <td>11th</td>\n",
       "      <td>7</td>\n",
       "      <td>Married-civ-spouse</td>\n",
       "      <td>Handlers-cleaners</td>\n",
       "      <td>Husband</td>\n",
       "      <td>Black</td>\n",
       "      <td>Male</td>\n",
       "      <td>0</td>\n",
       "      <td>0</td>\n",
       "      <td>40</td>\n",
       "      <td>United-States</td>\n",
       "      <td>&lt;=50K</td>\n",
       "    </tr>\n",
       "    <tr>\n",
       "      <th>3</th>\n",
       "      <td>28</td>\n",
       "      <td>Private</td>\n",
       "      <td>338409</td>\n",
       "      <td>Bachelors</td>\n",
       "      <td>13</td>\n",
       "      <td>Married-civ-spouse</td>\n",
       "      <td>Prof-specialty</td>\n",
       "      <td>Wife</td>\n",
       "      <td>Black</td>\n",
       "      <td>Female</td>\n",
       "      <td>0</td>\n",
       "      <td>0</td>\n",
       "      <td>40</td>\n",
       "      <td>Cuba</td>\n",
       "      <td>&lt;=50K</td>\n",
       "    </tr>\n",
       "    <tr>\n",
       "      <th>4</th>\n",
       "      <td>37</td>\n",
       "      <td>Private</td>\n",
       "      <td>284582</td>\n",
       "      <td>Masters</td>\n",
       "      <td>14</td>\n",
       "      <td>Married-civ-spouse</td>\n",
       "      <td>Exec-managerial</td>\n",
       "      <td>Wife</td>\n",
       "      <td>White</td>\n",
       "      <td>Female</td>\n",
       "      <td>0</td>\n",
       "      <td>0</td>\n",
       "      <td>40</td>\n",
       "      <td>United-States</td>\n",
       "      <td>&lt;=50K</td>\n",
       "    </tr>\n",
       "  </tbody>\n",
       "</table>\n",
       "</div>"
      ],
      "text/plain": [
       "   age          workclass  fnlwgt   education  education_num  \\\n",
       "0   50   Self-emp-not-inc   83311   Bachelors             13   \n",
       "1   38            Private  215646     HS-grad              9   \n",
       "2   53            Private  234721        11th              7   \n",
       "3   28            Private  338409   Bachelors             13   \n",
       "4   37            Private  284582     Masters             14   \n",
       "\n",
       "        marital_status          occupation    relationship    race      sex  \\\n",
       "0   Married-civ-spouse     Exec-managerial         Husband   White     Male   \n",
       "1             Divorced   Handlers-cleaners   Not-in-family   White     Male   \n",
       "2   Married-civ-spouse   Handlers-cleaners         Husband   Black     Male   \n",
       "3   Married-civ-spouse      Prof-specialty            Wife   Black   Female   \n",
       "4   Married-civ-spouse     Exec-managerial            Wife   White   Female   \n",
       "\n",
       "   capital_gain  capital_loss  hours_per_week  native_country  income  \n",
       "0             0             0              13   United-States   <=50K  \n",
       "1             0             0              40   United-States   <=50K  \n",
       "2             0             0              40   United-States   <=50K  \n",
       "3             0             0              40            Cuba   <=50K  \n",
       "4             0             0              40   United-States   <=50K  "
      ]
     },
     "execution_count": 8,
     "metadata": {},
     "output_type": "execute_result"
    }
   ],
   "source": [
    "import pandas as pd\n",
    "import numpy as np\n",
    "import matplotlib.pyplot as plt\n",
    "import seaborn as sns\n",
    "import warnings \n",
    "import os\n",
    "\n",
    "warnings.filterwarnings('ignore')\n",
    "train = pd.read_csv(\"./csv/adult_data.csv\")\n",
    "train.columns = ['age', 'workclass', 'fnlwgt', 'education', \n",
    "                 'education_num', 'marital_status', 'occupation',\n",
    "                 'relationship', 'race' ,'sex' ,'capital_gain', \n",
    "                 'capital_loss', 'hours_per_week', 'native_country','income']\n",
    "train.head(5)"
   ]
  },
  {
   "cell_type": "code",
   "execution_count": 9,
   "id": "d051e027",
   "metadata": {},
   "outputs": [
    {
     "data": {
      "text/html": [
       "<div>\n",
       "<style scoped>\n",
       "    .dataframe tbody tr th:only-of-type {\n",
       "        vertical-align: middle;\n",
       "    }\n",
       "\n",
       "    .dataframe tbody tr th {\n",
       "        vertical-align: top;\n",
       "    }\n",
       "\n",
       "    .dataframe thead th {\n",
       "        text-align: right;\n",
       "    }\n",
       "</style>\n",
       "<table border=\"1\" class=\"dataframe\">\n",
       "  <thead>\n",
       "    <tr style=\"text-align: right;\">\n",
       "      <th></th>\n",
       "      <th>age</th>\n",
       "      <th>workclass</th>\n",
       "      <th>fnlwgt</th>\n",
       "      <th>education</th>\n",
       "      <th>education_num</th>\n",
       "      <th>marital_status</th>\n",
       "      <th>occupation</th>\n",
       "      <th>relationship</th>\n",
       "      <th>race</th>\n",
       "      <th>sex</th>\n",
       "      <th>capital_gain</th>\n",
       "      <th>capital_loss</th>\n",
       "      <th>hours_per_week</th>\n",
       "      <th>native_country</th>\n",
       "      <th>income</th>\n",
       "    </tr>\n",
       "  </thead>\n",
       "  <tbody>\n",
       "    <tr>\n",
       "      <th>0</th>\n",
       "      <td>38</td>\n",
       "      <td>Private</td>\n",
       "      <td>89814</td>\n",
       "      <td>HS-grad</td>\n",
       "      <td>9</td>\n",
       "      <td>Married-civ-spouse</td>\n",
       "      <td>Farming-fishing</td>\n",
       "      <td>Husband</td>\n",
       "      <td>White</td>\n",
       "      <td>Male</td>\n",
       "      <td>0</td>\n",
       "      <td>0</td>\n",
       "      <td>50</td>\n",
       "      <td>United-States</td>\n",
       "      <td>&lt;=50K.</td>\n",
       "    </tr>\n",
       "    <tr>\n",
       "      <th>1</th>\n",
       "      <td>28</td>\n",
       "      <td>Local-gov</td>\n",
       "      <td>336951</td>\n",
       "      <td>Assoc-acdm</td>\n",
       "      <td>12</td>\n",
       "      <td>Married-civ-spouse</td>\n",
       "      <td>Protective-serv</td>\n",
       "      <td>Husband</td>\n",
       "      <td>White</td>\n",
       "      <td>Male</td>\n",
       "      <td>0</td>\n",
       "      <td>0</td>\n",
       "      <td>40</td>\n",
       "      <td>United-States</td>\n",
       "      <td>&gt;50K.</td>\n",
       "    </tr>\n",
       "    <tr>\n",
       "      <th>2</th>\n",
       "      <td>44</td>\n",
       "      <td>Private</td>\n",
       "      <td>160323</td>\n",
       "      <td>Some-college</td>\n",
       "      <td>10</td>\n",
       "      <td>Married-civ-spouse</td>\n",
       "      <td>Machine-op-inspct</td>\n",
       "      <td>Husband</td>\n",
       "      <td>Black</td>\n",
       "      <td>Male</td>\n",
       "      <td>7688</td>\n",
       "      <td>0</td>\n",
       "      <td>40</td>\n",
       "      <td>United-States</td>\n",
       "      <td>&gt;50K.</td>\n",
       "    </tr>\n",
       "    <tr>\n",
       "      <th>3</th>\n",
       "      <td>18</td>\n",
       "      <td>?</td>\n",
       "      <td>103497</td>\n",
       "      <td>Some-college</td>\n",
       "      <td>10</td>\n",
       "      <td>Never-married</td>\n",
       "      <td>?</td>\n",
       "      <td>Own-child</td>\n",
       "      <td>White</td>\n",
       "      <td>Female</td>\n",
       "      <td>0</td>\n",
       "      <td>0</td>\n",
       "      <td>30</td>\n",
       "      <td>United-States</td>\n",
       "      <td>&lt;=50K.</td>\n",
       "    </tr>\n",
       "    <tr>\n",
       "      <th>4</th>\n",
       "      <td>34</td>\n",
       "      <td>Private</td>\n",
       "      <td>198693</td>\n",
       "      <td>10th</td>\n",
       "      <td>6</td>\n",
       "      <td>Never-married</td>\n",
       "      <td>Other-service</td>\n",
       "      <td>Not-in-family</td>\n",
       "      <td>White</td>\n",
       "      <td>Male</td>\n",
       "      <td>0</td>\n",
       "      <td>0</td>\n",
       "      <td>30</td>\n",
       "      <td>United-States</td>\n",
       "      <td>&lt;=50K.</td>\n",
       "    </tr>\n",
       "  </tbody>\n",
       "</table>\n",
       "</div>"
      ],
      "text/plain": [
       "   age   workclass  fnlwgt      education  education_num       marital_status  \\\n",
       "0   38     Private   89814        HS-grad              9   Married-civ-spouse   \n",
       "1   28   Local-gov  336951     Assoc-acdm             12   Married-civ-spouse   \n",
       "2   44     Private  160323   Some-college             10   Married-civ-spouse   \n",
       "3   18           ?  103497   Some-college             10        Never-married   \n",
       "4   34     Private  198693           10th              6        Never-married   \n",
       "\n",
       "           occupation    relationship    race      sex  capital_gain  \\\n",
       "0     Farming-fishing         Husband   White     Male             0   \n",
       "1     Protective-serv         Husband   White     Male             0   \n",
       "2   Machine-op-inspct         Husband   Black     Male          7688   \n",
       "3                   ?       Own-child   White   Female             0   \n",
       "4       Other-service   Not-in-family   White     Male             0   \n",
       "\n",
       "   capital_loss  hours_per_week  native_country   income  \n",
       "0             0              50   United-States   <=50K.  \n",
       "1             0              40   United-States    >50K.  \n",
       "2             0              40   United-States    >50K.  \n",
       "3             0              30   United-States   <=50K.  \n",
       "4             0              30   United-States   <=50K.  "
      ]
     },
     "execution_count": 9,
     "metadata": {},
     "output_type": "execute_result"
    }
   ],
   "source": [
    "test =  pd.read_csv(\"./csv/adult_test.csv\")\n",
    "test.columns =  ['age', 'workclass', 'fnlwgt', 'education', \n",
    "                 'education_num', 'marital_status', 'occupation',\n",
    "                 'relationship', 'race' ,'sex' ,'capital_gain', \n",
    "                 'capital_loss', 'hours_per_week', 'native_country','income']\n",
    "test.head(5)"
   ]
  },
  {
   "cell_type": "code",
   "execution_count": 10,
   "id": "c29dafec",
   "metadata": {},
   "outputs": [
    {
     "data": {
      "text/plain": [
       "age                int64\n",
       "workclass         object\n",
       "fnlwgt             int64\n",
       "education         object\n",
       "education_num      int64\n",
       "marital_status    object\n",
       "occupation        object\n",
       "relationship      object\n",
       "race              object\n",
       "sex               object\n",
       "capital_gain       int64\n",
       "capital_loss       int64\n",
       "hours_per_week     int64\n",
       "native_country    object\n",
       "income            object\n",
       "dtype: object"
      ]
     },
     "execution_count": 10,
     "metadata": {},
     "output_type": "execute_result"
    }
   ],
   "source": [
    "train.dtypes"
   ]
  },
  {
   "cell_type": "code",
   "execution_count": 11,
   "id": "a3132354",
   "metadata": {},
   "outputs": [
    {
     "data": {
      "text/plain": [
       "array([' Self-emp-not-inc', ' Private', ' State-gov', ' Federal-gov',\n",
       "       ' Local-gov', ' ?', ' Self-emp-inc', ' Without-pay',\n",
       "       ' Never-worked'], dtype=object)"
      ]
     },
     "execution_count": 11,
     "metadata": {},
     "output_type": "execute_result"
    }
   ],
   "source": [
    "train[\"workclass\"].unique()# 공백이있음 .unique는 어떤값들이 있는지 알아보는 함수"
   ]
  },
  {
   "cell_type": "code",
   "execution_count": 12,
   "id": "ade413a8",
   "metadata": {},
   "outputs": [
    {
     "data": {
      "text/plain": [
       "array(['Self-emp-not-inc', 'Private', 'State-gov', 'Federal-gov',\n",
       "       'Local-gov', '?', 'Self-emp-inc', 'Without-pay', 'Never-worked'],\n",
       "      dtype=object)"
      ]
     },
     "execution_count": 12,
     "metadata": {},
     "output_type": "execute_result"
    }
   ],
   "source": [
    "train[\"workclass\"].map(lambda x : x.lstrip()).unique()#좌측 공백제거"
   ]
  },
  {
   "cell_type": "code",
   "execution_count": 13,
   "id": "8c8c0daa",
   "metadata": {},
   "outputs": [],
   "source": [
    "train[[\"workclass\",\"education\",\"marital_status\",\"occupation\",\n",
    "       \"relationship\",\"race\",\"sex\",\"native_country\"]] = \\\n",
    "train[[\"workclass\",\"education\",\"marital_status\",\"occupation\",\n",
    "       \"relationship\",\"race\",\"sex\",\"native_country\"]].applymap(lambda x : x.lstrip())"
   ]
  },
  {
   "cell_type": "code",
   "execution_count": 14,
   "id": "b7e0fb36",
   "metadata": {},
   "outputs": [],
   "source": [
    "test[[\"workclass\",\"education\",\"marital_status\",\"occupation\",\n",
    "       \"relationship\",\"race\",\"sex\",\"native_country\"]] = \\\n",
    "test[[\"workclass\",\"education\",\"marital_status\",\"occupation\",\n",
    "       \"relationship\",\"race\",\"sex\",\"native_country\"]].applymap(lambda x : x.lstrip())"
   ]
  },
  {
   "cell_type": "code",
   "execution_count": 15,
   "id": "b16bc5e3",
   "metadata": {},
   "outputs": [
    {
     "data": {
      "text/plain": [
       "array(['Self-emp-not-inc', 'Private', 'State-gov', 'Federal-gov',\n",
       "       'Local-gov', '?', 'Self-emp-inc', 'Without-pay', 'Never-worked'],\n",
       "      dtype=object)"
      ]
     },
     "execution_count": 15,
     "metadata": {},
     "output_type": "execute_result"
    }
   ],
   "source": [
    "train.workclass.unique()"
   ]
  },
  {
   "cell_type": "code",
   "execution_count": 16,
   "id": "2cb5ce92",
   "metadata": {},
   "outputs": [
    {
     "data": {
      "text/plain": [
       "array(['Private', 'Local-gov', '?', 'Self-emp-not-inc', 'Federal-gov',\n",
       "       'State-gov', 'Self-emp-inc', 'Without-pay', 'Never-worked'],\n",
       "      dtype=object)"
      ]
     },
     "execution_count": 16,
     "metadata": {},
     "output_type": "execute_result"
    }
   ],
   "source": [
    "test.workclass.unique()"
   ]
  },
  {
   "cell_type": "code",
   "execution_count": 17,
   "id": "a3fe79ca",
   "metadata": {},
   "outputs": [
    {
     "data": {
      "text/plain": [
       "array([' <=50K', ' >50K'], dtype=object)"
      ]
     },
     "execution_count": 17,
     "metadata": {},
     "output_type": "execute_result"
    }
   ],
   "source": [
    "train.income.unique()"
   ]
  },
  {
   "cell_type": "code",
   "execution_count": 18,
   "id": "5fd9c1d7",
   "metadata": {},
   "outputs": [],
   "source": [
    "train.income = train.income.replace([' <=50K', ' >50K'],['<=50K', '>50K'])\n",
    "test.income = test.income.replace([' <=50K', ' >50K'],['<=50K', '>50K']) #인컴 값바꿔주기"
   ]
  },
  {
   "cell_type": "code",
   "execution_count": 19,
   "id": "7c4ab543",
   "metadata": {},
   "outputs": [],
   "source": [
    "train = train.copy() #전처리한 데이터 copy 하기\n",
    "test = test.copy()"
   ]
  },
  {
   "cell_type": "code",
   "execution_count": 20,
   "id": "3518d627",
   "metadata": {},
   "outputs": [
    {
     "name": "stdout",
     "output_type": "stream",
     "text": [
      "(32560, 15) (16280, 15)\n"
     ]
    }
   ],
   "source": [
    "print(train.shape, test.shape)"
   ]
  },
  {
   "cell_type": "code",
   "execution_count": 21,
   "id": "bcc3600b",
   "metadata": {},
   "outputs": [
    {
     "data": {
      "text/plain": [
       "age               0\n",
       "workclass         0\n",
       "fnlwgt            0\n",
       "education         0\n",
       "education_num     0\n",
       "marital_status    0\n",
       "occupation        0\n",
       "relationship      0\n",
       "race              0\n",
       "sex               0\n",
       "capital_gain      0\n",
       "capital_loss      0\n",
       "hours_per_week    0\n",
       "native_country    0\n",
       "income            0\n",
       "dtype: int64"
      ]
     },
     "execution_count": 21,
     "metadata": {},
     "output_type": "execute_result"
    }
   ],
   "source": [
    "train.isnull().sum() #결측지 없음 "
   ]
  },
  {
   "cell_type": "code",
   "execution_count": 22,
   "id": "4e4c5dea",
   "metadata": {},
   "outputs": [
    {
     "data": {
      "text/plain": [
       "age               0\n",
       "workclass         0\n",
       "fnlwgt            0\n",
       "education         0\n",
       "education_num     0\n",
       "marital_status    0\n",
       "occupation        0\n",
       "relationship      0\n",
       "race              0\n",
       "sex               0\n",
       "capital_gain      0\n",
       "capital_loss      0\n",
       "hours_per_week    0\n",
       "native_country    0\n",
       "income            0\n",
       "dtype: int64"
      ]
     },
     "execution_count": 22,
     "metadata": {},
     "output_type": "execute_result"
    }
   ],
   "source": [
    "test.isnull().sum()#결측지 없음 "
   ]
  },
  {
   "cell_type": "code",
   "execution_count": 23,
   "id": "57116c54",
   "metadata": {},
   "outputs": [
    {
     "name": "stdout",
     "output_type": "stream",
     "text": [
      "<class 'pandas.core.frame.DataFrame'>\n",
      "RangeIndex: 32560 entries, 0 to 32559\n",
      "Data columns (total 15 columns):\n",
      " #   Column          Non-Null Count  Dtype \n",
      "---  ------          --------------  ----- \n",
      " 0   age             32560 non-null  int64 \n",
      " 1   workclass       32560 non-null  object\n",
      " 2   fnlwgt          32560 non-null  int64 \n",
      " 3   education       32560 non-null  object\n",
      " 4   education_num   32560 non-null  int64 \n",
      " 5   marital_status  32560 non-null  object\n",
      " 6   occupation      32560 non-null  object\n",
      " 7   relationship    32560 non-null  object\n",
      " 8   race            32560 non-null  object\n",
      " 9   sex             32560 non-null  object\n",
      " 10  capital_gain    32560 non-null  int64 \n",
      " 11  capital_loss    32560 non-null  int64 \n",
      " 12  hours_per_week  32560 non-null  int64 \n",
      " 13  native_country  32560 non-null  object\n",
      " 14  income          32560 non-null  object\n",
      "dtypes: int64(6), object(9)\n",
      "memory usage: 3.7+ MB\n"
     ]
    }
   ],
   "source": [
    "train.info()"
   ]
  },
  {
   "cell_type": "code",
   "execution_count": 24,
   "id": "7850fc26",
   "metadata": {},
   "outputs": [
    {
     "name": "stdout",
     "output_type": "stream",
     "text": [
      "<class 'pandas.core.frame.DataFrame'>\n",
      "RangeIndex: 16280 entries, 0 to 16279\n",
      "Data columns (total 15 columns):\n",
      " #   Column          Non-Null Count  Dtype \n",
      "---  ------          --------------  ----- \n",
      " 0   age             16280 non-null  int64 \n",
      " 1   workclass       16280 non-null  object\n",
      " 2   fnlwgt          16280 non-null  int64 \n",
      " 3   education       16280 non-null  object\n",
      " 4   education_num   16280 non-null  int64 \n",
      " 5   marital_status  16280 non-null  object\n",
      " 6   occupation      16280 non-null  object\n",
      " 7   relationship    16280 non-null  object\n",
      " 8   race            16280 non-null  object\n",
      " 9   sex             16280 non-null  object\n",
      " 10  capital_gain    16280 non-null  int64 \n",
      " 11  capital_loss    16280 non-null  int64 \n",
      " 12  hours_per_week  16280 non-null  int64 \n",
      " 13  native_country  16280 non-null  object\n",
      " 14  income          16280 non-null  object\n",
      "dtypes: int64(6), object(9)\n",
      "memory usage: 1.9+ MB\n"
     ]
    }
   ],
   "source": [
    "test.info()"
   ]
  },
  {
   "cell_type": "code",
   "execution_count": 25,
   "id": "8e83222d",
   "metadata": {},
   "outputs": [
    {
     "data": {
      "text/plain": [
       "<=50K    24719\n",
       ">50K      7841\n",
       "Name: income, dtype: int64"
      ]
     },
     "execution_count": 25,
     "metadata": {},
     "output_type": "execute_result"
    }
   ],
   "source": [
    "train['income'].value_counts()"
   ]
  },
  {
   "cell_type": "code",
   "execution_count": 26,
   "id": "2d8e096f",
   "metadata": {},
   "outputs": [
    {
     "data": {
      "text/plain": [
       "array(['<=50K', '>50K'], dtype=object)"
      ]
     },
     "execution_count": 26,
     "metadata": {},
     "output_type": "execute_result"
    }
   ],
   "source": [
    "train.income.unique()"
   ]
  },
  {
   "cell_type": "code",
   "execution_count": 27,
   "id": "82f1daf8",
   "metadata": {},
   "outputs": [
    {
     "data": {
      "text/plain": [
       "0    24719\n",
       "1     7841\n",
       "Name: income, dtype: int64"
      ]
     },
     "execution_count": 27,
     "metadata": {},
     "output_type": "execute_result"
    }
   ],
   "source": [
    "train.income = train.income.map(lambda x: 1 if x == '>50K' else 0) #범주형 0 1로 교체\n",
    "train.income.value_counts()"
   ]
  },
  {
   "cell_type": "code",
   "execution_count": 28,
   "id": "316a9485",
   "metadata": {},
   "outputs": [
    {
     "data": {
      "text/plain": [
       "array([' <=50K.', ' >50K.'], dtype=object)"
      ]
     },
     "execution_count": 28,
     "metadata": {},
     "output_type": "execute_result"
    }
   ],
   "source": [
    "test.income.unique()"
   ]
  },
  {
   "cell_type": "code",
   "execution_count": 29,
   "id": "0d921e28",
   "metadata": {},
   "outputs": [
    {
     "data": {
      "text/plain": [
       "0    12434\n",
       "1     3846\n",
       "Name: income, dtype: int64"
      ]
     },
     "execution_count": 29,
     "metadata": {},
     "output_type": "execute_result"
    }
   ],
   "source": [
    "test.income = test.income.map(lambda x: 1 if x == ' >50K.' else 0)\n",
    "test.income.value_counts()"
   ]
  },
  {
   "cell_type": "code",
   "execution_count": 30,
   "id": "eaa2c450",
   "metadata": {},
   "outputs": [],
   "source": [
    "all_data = pd.concat([train, test], sort=False)"
   ]
  },
  {
   "cell_type": "code",
   "execution_count": 31,
   "id": "cedeecbc",
   "metadata": {},
   "outputs": [
    {
     "data": {
      "text/plain": [
       "Private             33905\n",
       "Self-emp-not-inc     3862\n",
       "Local-gov            3136\n",
       "?                    2799\n",
       "State-gov            1980\n",
       "Self-emp-inc         1695\n",
       "Federal-gov          1432\n",
       "Without-pay            21\n",
       "Never-worked           10\n",
       "Name: workclass, dtype: int64"
      ]
     },
     "execution_count": 31,
     "metadata": {},
     "output_type": "execute_result"
    }
   ],
   "source": [
    "all_data['workclass'].value_counts()"
   ]
  },
  {
   "cell_type": "code",
   "execution_count": 32,
   "id": "db50f5a9",
   "metadata": {},
   "outputs": [
    {
     "data": {
      "text/plain": [
       "<AxesSubplot:xlabel='workclass'>"
      ]
     },
     "execution_count": 32,
     "metadata": {},
     "output_type": "execute_result"
    },
    {
     "data": {
      "image/png": "[encoded data removed]",
      "text/plain": [
       "<Figure size 720x504 with 1 Axes>"
      ]
     },
     "metadata": {
      "needs_background": "light"
     },
     "output_type": "display_data"
    }
   ],
   "source": [
    "all_data.groupby('workclass')['income'].mean().sort_values().plot(kind='bar', figsize=FIG_SIZE)#workclass에 대해서 income 값이 어떤지 본다"
   ]
  },
  {
   "cell_type": "markdown",
   "id": "4d321ecd",
   "metadata": {},
   "source": [
    "workclass_other = ['Without-pay', 'Never-worked']\n",
    "all_data['workclass'] = all_data['workclass'].apply(lambda x: 'Other' if x in workclass_other else x) withou-pay와 neverwork가 둘다 0이였으면 합침\n",
    "all_data['workclass'].value_counts()"
   ]
  },
  {
   "cell_type": "code",
   "execution_count": 33,
   "id": "c9b58548",
   "metadata": {},
   "outputs": [
    {
     "data": {
      "text/plain": [
       "<AxesSubplot:xlabel='age', ylabel='Density'>"
      ]
     },
     "execution_count": 33,
     "metadata": {},
     "output_type": "execute_result"
    },
    {
     "data": {
      "image/png": "[encoded data removed]",
      "text/plain": [
       "<Figure size 720x504 with 1 Axes>"
      ]
     },
     "metadata": {
      "needs_background": "light"
     },
     "output_type": "display_data"
    }
   ],
   "source": [
    "df1 = all_data.loc[all_data['income'] == 0, 'age'] #income별 나이분포 확인\n",
    "df2 = all_data.loc[all_data['income'] == 1, 'age']\n",
    "\n",
    "plt.figure(figsize=FIG_SIZE)\n",
    "sns.distplot(df1, kde=True, rug=True, hist=False, color='blue') #kde: 가우스 커널 밀도 추정값을 플로팅할지 여부:bool, rug:지지축에 러그플롯을 그릴지 여부입니다:bool, hist:정규화된 histogram을 그릴지 여부\n",
    "sns.distplot(df2, kde=True, rug=True, hist=False, color='red') # https://darkpgmr.tistory.com/147 커널 밀도 함수"
   ]
  },
  {
   "cell_type": "code",
   "execution_count": 34,
   "id": "3119fad1",
   "metadata": {},
   "outputs": [
    {
     "data": {
      "text/plain": [
       "<AxesSubplot:xlabel='fnlwgt', ylabel='Density'>"
      ]
     },
     "execution_count": 34,
     "metadata": {},
     "output_type": "execute_result"
    },
    {
     "data": {
      "image/png": "[encoded data removed]",
      "text/plain": [
       "<Figure size 720x504 with 1 Axes>"
      ]
     },
     "metadata": {
      "needs_background": "light"
     },
     "output_type": "display_data"
    }
   ],
   "source": [
    "df1 = all_data.loc[all_data['income'] == 0, 'fnlwgt']\n",
    "df2 = all_data.loc[all_data['income'] == 1, 'fnlwgt'] #사람의 대표성을 나타나는 가중치와 비교\n",
    "\n",
    "plt.figure(figsize=FIG_SIZE)\n",
    "sns.distplot(df1, kde=True, rug=True, hist=False, color='blue')\n",
    "sns.distplot(df2, kde=True, rug=True, hist=False, color='red') #차이가 거의없다 feature제거도 생각해볼만하다."
   ]
  },
  {
   "cell_type": "code",
   "execution_count": 35,
   "id": "1392f874",
   "metadata": {},
   "outputs": [
    {
     "data": {
      "text/plain": [
       "<seaborn.axisgrid.FacetGrid at 0x29faf780070>"
      ]
     },
     "execution_count": 35,
     "metadata": {},
     "output_type": "execute_result"
    },
    {
     "data": {
      "image/png": "[encoded data removed]",
      "text/plain": [
       "<Figure size 720x360 with 2 Axes>"
      ]
     },
     "metadata": {
      "needs_background": "light"
     },
     "output_type": "display_data"
    }
   ],
   "source": [
    "g = sns.FacetGrid(all_data, col=\"income\", height=5)\n",
    "g.map(sns.distplot, 'fnlwgt')"
   ]
  },
  {
   "cell_type": "code",
   "execution_count": 36,
   "id": "3bf90f0e",
   "metadata": {},
   "outputs": [],
   "source": [
    "all_data['fnlwgt_log'] = np.log(all_data['fnlwgt'])#로그 취해서 정규화 오른쪽 꼬리가 길다!"
   ]
  },
  {
   "cell_type": "code",
   "execution_count": 37,
   "id": "b4bd8e84",
   "metadata": {},
   "outputs": [
    {
     "data": {
      "text/plain": [
       "HS-grad         15784\n",
       "Some-college    10878\n",
       "Bachelors        8024\n",
       "Masters          2657\n",
       "Assoc-voc        2061\n",
       "11th             1811\n",
       "Assoc-acdm       1601\n",
       "10th             1389\n",
       "7th-8th           955\n",
       "Prof-school       834\n",
       "9th               756\n",
       "12th              657\n",
       "Doctorate         594\n",
       "5th-6th           509\n",
       "1st-4th           247\n",
       "Preschool          83\n",
       "Name: education, dtype: int64"
      ]
     },
     "execution_count": 37,
     "metadata": {},
     "output_type": "execute_result"
    }
   ],
   "source": [
    "all_data['education'].value_counts()"
   ]
  },
  {
   "cell_type": "code",
   "execution_count": 38,
   "id": "05e786c5",
   "metadata": {},
   "outputs": [
    {
     "data": {
      "text/plain": [
       "9     15784\n",
       "10    10878\n",
       "13     8024\n",
       "14     2657\n",
       "11     2061\n",
       "7      1811\n",
       "12     1601\n",
       "6      1389\n",
       "4       955\n",
       "15      834\n",
       "5       756\n",
       "8       657\n",
       "16      594\n",
       "3       509\n",
       "2       247\n",
       "1        83\n",
       "Name: education_num, dtype: int64"
      ]
     },
     "execution_count": 38,
     "metadata": {},
     "output_type": "execute_result"
    }
   ],
   "source": [
    "all_data['education_num'].value_counts() #둘의 value count값이 동일함. 하나 버리자"
   ]
  },
  {
   "cell_type": "code",
   "execution_count": 39,
   "id": "62aac461",
   "metadata": {},
   "outputs": [
    {
     "data": {
      "text/plain": [
       "0"
      ]
     },
     "execution_count": 39,
     "metadata": {},
     "output_type": "execute_result"
    }
   ],
   "source": [
    "all_data.loc[all_data['education'] == 'Preschool', 'income']=0 #값이 하나만 1이여서 0으로 만들어주었다. \n",
    "all_data.loc[all_data['education'] == 'Preschool', 'income'].sum()"
   ]
  },
  {
   "cell_type": "code",
   "execution_count": 40,
   "id": "269b4ec0",
   "metadata": {},
   "outputs": [
    {
     "data": {
      "text/html": [
       "<div>\n",
       "<style scoped>\n",
       "    .dataframe tbody tr th:only-of-type {\n",
       "        vertical-align: middle;\n",
       "    }\n",
       "\n",
       "    .dataframe tbody tr th {\n",
       "        vertical-align: top;\n",
       "    }\n",
       "\n",
       "    .dataframe thead th {\n",
       "        text-align: right;\n",
       "    }\n",
       "</style>\n",
       "<table border=\"1\" class=\"dataframe\">\n",
       "  <thead>\n",
       "    <tr style=\"text-align: right;\">\n",
       "      <th></th>\n",
       "      <th>mean</th>\n",
       "      <th>count</th>\n",
       "    </tr>\n",
       "    <tr>\n",
       "      <th>education</th>\n",
       "      <th></th>\n",
       "      <th></th>\n",
       "    </tr>\n",
       "  </thead>\n",
       "  <tbody>\n",
       "    <tr>\n",
       "      <th>Preschool</th>\n",
       "      <td>0.000000</td>\n",
       "      <td>83</td>\n",
       "    </tr>\n",
       "    <tr>\n",
       "      <th>1st-4th</th>\n",
       "      <td>0.032389</td>\n",
       "      <td>247</td>\n",
       "    </tr>\n",
       "    <tr>\n",
       "      <th>11th</th>\n",
       "      <td>0.050801</td>\n",
       "      <td>1811</td>\n",
       "    </tr>\n",
       "    <tr>\n",
       "      <th>5th-6th</th>\n",
       "      <td>0.053045</td>\n",
       "      <td>509</td>\n",
       "    </tr>\n",
       "    <tr>\n",
       "      <th>9th</th>\n",
       "      <td>0.054233</td>\n",
       "      <td>756</td>\n",
       "    </tr>\n",
       "    <tr>\n",
       "      <th>10th</th>\n",
       "      <td>0.062635</td>\n",
       "      <td>1389</td>\n",
       "    </tr>\n",
       "    <tr>\n",
       "      <th>7th-8th</th>\n",
       "      <td>0.064921</td>\n",
       "      <td>955</td>\n",
       "    </tr>\n",
       "    <tr>\n",
       "      <th>12th</th>\n",
       "      <td>0.073059</td>\n",
       "      <td>657</td>\n",
       "    </tr>\n",
       "    <tr>\n",
       "      <th>HS-grad</th>\n",
       "      <td>0.158578</td>\n",
       "      <td>15784</td>\n",
       "    </tr>\n",
       "    <tr>\n",
       "      <th>Some-college</th>\n",
       "      <td>0.189649</td>\n",
       "      <td>10878</td>\n",
       "    </tr>\n",
       "    <tr>\n",
       "      <th>Assoc-voc</th>\n",
       "      <td>0.253275</td>\n",
       "      <td>2061</td>\n",
       "    </tr>\n",
       "    <tr>\n",
       "      <th>Assoc-acdm</th>\n",
       "      <td>0.257964</td>\n",
       "      <td>1601</td>\n",
       "    </tr>\n",
       "    <tr>\n",
       "      <th>Bachelors</th>\n",
       "      <td>0.412886</td>\n",
       "      <td>8024</td>\n",
       "    </tr>\n",
       "    <tr>\n",
       "      <th>Masters</th>\n",
       "      <td>0.549116</td>\n",
       "      <td>2657</td>\n",
       "    </tr>\n",
       "    <tr>\n",
       "      <th>Doctorate</th>\n",
       "      <td>0.725589</td>\n",
       "      <td>594</td>\n",
       "    </tr>\n",
       "    <tr>\n",
       "      <th>Prof-school</th>\n",
       "      <td>0.739808</td>\n",
       "      <td>834</td>\n",
       "    </tr>\n",
       "  </tbody>\n",
       "</table>\n",
       "</div>"
      ],
      "text/plain": [
       "                  mean  count\n",
       "education                    \n",
       "Preschool     0.000000     83\n",
       "1st-4th       0.032389    247\n",
       "11th          0.050801   1811\n",
       "5th-6th       0.053045    509\n",
       "9th           0.054233    756\n",
       "10th          0.062635   1389\n",
       "7th-8th       0.064921    955\n",
       "12th          0.073059    657\n",
       "HS-grad       0.158578  15784\n",
       "Some-college  0.189649  10878\n",
       "Assoc-voc     0.253275   2061\n",
       "Assoc-acdm    0.257964   1601\n",
       "Bachelors     0.412886   8024\n",
       "Masters       0.549116   2657\n",
       "Doctorate     0.725589    594\n",
       "Prof-school   0.739808    834"
      ]
     },
     "execution_count": 40,
     "metadata": {},
     "output_type": "execute_result"
    }
   ],
   "source": [
    "all_data.groupby(['education'])['income'].agg(['mean', 'count']).sort_values('mean') #education은 income과 연관성이 있어보임\n",
    "#agg는 .aggregate() 내가 함수를 만듬. "
   ]
  },
  {
   "cell_type": "code",
   "execution_count": 41,
   "id": "d440eabd",
   "metadata": {},
   "outputs": [],
   "source": [
    "education_map = {\n",
    "    'Preschool': 'level_0', \n",
    "    '1st-4th': 'level_1', \n",
    "    '5th-6th': 'level_1', \n",
    "    '7th-8th': 'level_2', \n",
    "    '9th': 'level_2', \n",
    "    '10th': 'level_3', \n",
    "    '11th': 'level_3', \n",
    "    '12th': 'level_3', \n",
    "    'HS-grad': 'level_4', \n",
    "    'Some-college': 'level_5', \n",
    "    'Assoc-acdm': 'level_6', \n",
    "    'Assoc-voc': 'level_6', \n",
    "    'Bachelors': 'level_7', \n",
    "    'Masters': 'level_8', \n",
    "    'Prof-school': 'level_9', \n",
    "    'Doctorate': 'level_9',\n",
    "}"
   ]
  },
  {
   "cell_type": "code",
   "execution_count": 42,
   "id": "03bb1ef3",
   "metadata": {},
   "outputs": [],
   "source": [
    "all_data['education'] = all_data['education'].map(education_map)#값들을 변경"
   ]
  },
  {
   "cell_type": "code",
   "execution_count": 43,
   "id": "8bf96c09",
   "metadata": {},
   "outputs": [
    {
     "data": {
      "text/plain": [
       "level_4    15784\n",
       "level_5    10878\n",
       "level_7     8024\n",
       "level_3     3857\n",
       "level_6     3662\n",
       "level_8     2657\n",
       "level_2     1711\n",
       "level_9     1428\n",
       "level_1      756\n",
       "level_0       83\n",
       "Name: education, dtype: int64"
      ]
     },
     "execution_count": 43,
     "metadata": {},
     "output_type": "execute_result"
    }
   ],
   "source": [
    "all_data['education'].value_counts()"
   ]
  },
  {
   "cell_type": "code",
   "execution_count": 44,
   "id": "c5c2e3f9",
   "metadata": {},
   "outputs": [
    {
     "data": {
      "text/plain": [
       "<AxesSubplot:xlabel='education'>"
      ]
     },
     "execution_count": 44,
     "metadata": {},
     "output_type": "execute_result"
    },
    {
     "data": {
      "image/png": "[encoded data removed]",
      "text/plain": [
       "<Figure size 720x504 with 1 Axes>"
      ]
     },
     "metadata": {
      "needs_background": "light"
     },
     "output_type": "display_data"
    }
   ],
   "source": [
    "all_data.pivot_table(index='education', values=['income']).sort_values('income').plot(kind='bar', figsize=FIG_SIZE)\n",
    "#index=행위치에 들어갈 열, value=데이터로 들어갈열 df.plot이라고 생각하면 될듯? kind=바형\n",
    "#preschool의 income은 0"
   ]
  },
  {
   "cell_type": "code",
   "execution_count": 45,
   "id": "c459aa07",
   "metadata": {},
   "outputs": [],
   "source": [
    "all_data = all_data.drop('education_num', 1) #educatuon_num을 drop"
   ]
  },
  {
   "cell_type": "code",
   "execution_count": 46,
   "id": "4b32ccc1",
   "metadata": {},
   "outputs": [
    {
     "data": {
      "text/plain": [
       "Index(['age', 'workclass', 'fnlwgt', 'education', 'marital_status',\n",
       "       'occupation', 'relationship', 'race', 'sex', 'capital_gain',\n",
       "       'capital_loss', 'hours_per_week', 'native_country', 'income',\n",
       "       'fnlwgt_log'],\n",
       "      dtype='object')"
      ]
     },
     "execution_count": 46,
     "metadata": {},
     "output_type": "execute_result"
    }
   ],
   "source": [
    "all_data.columns"
   ]
  },
  {
   "cell_type": "code",
   "execution_count": 47,
   "id": "2dea19f3",
   "metadata": {},
   "outputs": [
    {
     "data": {
      "text/plain": [
       "Married-civ-spouse       22379\n",
       "Never-married            16115\n",
       "Divorced                  6633\n",
       "Separated                 1530\n",
       "Widowed                   1518\n",
       "Married-spouse-absent      628\n",
       "Married-AF-spouse           37\n",
       "Name: marital_status, dtype: int64"
      ]
     },
     "execution_count": 47,
     "metadata": {},
     "output_type": "execute_result"
    }
   ],
   "source": [
    "all_data['marital_status'].value_counts()"
   ]
  },
  {
   "cell_type": "code",
   "execution_count": 48,
   "id": "81b93d6e",
   "metadata": {
    "scrolled": true
   },
   "outputs": [
    {
     "data": {
      "text/html": [
       "<div>\n",
       "<style scoped>\n",
       "    .dataframe tbody tr th:only-of-type {\n",
       "        vertical-align: middle;\n",
       "    }\n",
       "\n",
       "    .dataframe tbody tr th {\n",
       "        vertical-align: top;\n",
       "    }\n",
       "\n",
       "    .dataframe thead tr th {\n",
       "        text-align: left;\n",
       "    }\n",
       "\n",
       "    .dataframe thead tr:last-of-type th {\n",
       "        text-align: right;\n",
       "    }\n",
       "</style>\n",
       "<table border=\"1\" class=\"dataframe\">\n",
       "  <thead>\n",
       "    <tr>\n",
       "      <th></th>\n",
       "      <th>mean</th>\n",
       "      <th>count</th>\n",
       "    </tr>\n",
       "    <tr>\n",
       "      <th></th>\n",
       "      <th>income</th>\n",
       "      <th>income</th>\n",
       "    </tr>\n",
       "    <tr>\n",
       "      <th>marital_status</th>\n",
       "      <th></th>\n",
       "      <th></th>\n",
       "    </tr>\n",
       "  </thead>\n",
       "  <tbody>\n",
       "    <tr>\n",
       "      <th>Never-married</th>\n",
       "      <td>0.045486</td>\n",
       "      <td>16115</td>\n",
       "    </tr>\n",
       "    <tr>\n",
       "      <th>Separated</th>\n",
       "      <td>0.064052</td>\n",
       "      <td>1530</td>\n",
       "    </tr>\n",
       "    <tr>\n",
       "      <th>Widowed</th>\n",
       "      <td>0.084321</td>\n",
       "      <td>1518</td>\n",
       "    </tr>\n",
       "    <tr>\n",
       "      <th>Married-spouse-absent</th>\n",
       "      <td>0.092357</td>\n",
       "      <td>628</td>\n",
       "    </tr>\n",
       "    <tr>\n",
       "      <th>Divorced</th>\n",
       "      <td>0.101161</td>\n",
       "      <td>6633</td>\n",
       "    </tr>\n",
       "    <tr>\n",
       "      <th>Married-AF-spouse</th>\n",
       "      <td>0.378378</td>\n",
       "      <td>37</td>\n",
       "    </tr>\n",
       "    <tr>\n",
       "      <th>Married-civ-spouse</th>\n",
       "      <td>0.446133</td>\n",
       "      <td>22379</td>\n",
       "    </tr>\n",
       "  </tbody>\n",
       "</table>\n",
       "</div>"
      ],
      "text/plain": [
       "                           mean  count\n",
       "                         income income\n",
       "marital_status                        \n",
       "Never-married          0.045486  16115\n",
       "Separated              0.064052   1530\n",
       "Widowed                0.084321   1518\n",
       "Married-spouse-absent  0.092357    628\n",
       "Divorced               0.101161   6633\n",
       "Married-AF-spouse      0.378378     37\n",
       "Married-civ-spouse     0.446133  22379"
      ]
     },
     "execution_count": 48,
     "metadata": {},
     "output_type": "execute_result"
    }
   ],
   "source": [
    "all_data.pivot_table(index='marital_status', values='income', aggfunc=['mean', 'count']).sort_values(('mean','income'))#aggfunc=데이터 집계함수"
   ]
  },
  {
   "cell_type": "code",
   "execution_count": 49,
   "id": "8dad3c55",
   "metadata": {},
   "outputs": [
    {
     "data": {
      "text/html": [
       "<div>\n",
       "<style scoped>\n",
       "    .dataframe tbody tr th:only-of-type {\n",
       "        vertical-align: middle;\n",
       "    }\n",
       "\n",
       "    .dataframe tbody tr th {\n",
       "        vertical-align: top;\n",
       "    }\n",
       "\n",
       "    .dataframe thead tr th {\n",
       "        text-align: left;\n",
       "    }\n",
       "\n",
       "    .dataframe thead tr:last-of-type th {\n",
       "        text-align: right;\n",
       "    }\n",
       "</style>\n",
       "<table border=\"1\" class=\"dataframe\">\n",
       "  <thead>\n",
       "    <tr>\n",
       "      <th></th>\n",
       "      <th>mean</th>\n",
       "      <th>count</th>\n",
       "    </tr>\n",
       "    <tr>\n",
       "      <th></th>\n",
       "      <th>income</th>\n",
       "      <th>income</th>\n",
       "    </tr>\n",
       "    <tr>\n",
       "      <th>marital_status</th>\n",
       "      <th></th>\n",
       "      <th></th>\n",
       "    </tr>\n",
       "  </thead>\n",
       "  <tbody>\n",
       "    <tr>\n",
       "      <th>Married-AF-spouse</th>\n",
       "      <td>0.378378</td>\n",
       "      <td>37</td>\n",
       "    </tr>\n",
       "    <tr>\n",
       "      <th>Married-spouse-absent</th>\n",
       "      <td>0.092357</td>\n",
       "      <td>628</td>\n",
       "    </tr>\n",
       "    <tr>\n",
       "      <th>Widowed</th>\n",
       "      <td>0.084321</td>\n",
       "      <td>1518</td>\n",
       "    </tr>\n",
       "    <tr>\n",
       "      <th>Separated</th>\n",
       "      <td>0.064052</td>\n",
       "      <td>1530</td>\n",
       "    </tr>\n",
       "    <tr>\n",
       "      <th>Divorced</th>\n",
       "      <td>0.101161</td>\n",
       "      <td>6633</td>\n",
       "    </tr>\n",
       "    <tr>\n",
       "      <th>Never-married</th>\n",
       "      <td>0.045486</td>\n",
       "      <td>16115</td>\n",
       "    </tr>\n",
       "    <tr>\n",
       "      <th>Married-civ-spouse</th>\n",
       "      <td>0.446133</td>\n",
       "      <td>22379</td>\n",
       "    </tr>\n",
       "  </tbody>\n",
       "</table>\n",
       "</div>"
      ],
      "text/plain": [
       "                           mean  count\n",
       "                         income income\n",
       "marital_status                        \n",
       "Married-AF-spouse      0.378378     37\n",
       "Married-spouse-absent  0.092357    628\n",
       "Widowed                0.084321   1518\n",
       "Separated              0.064052   1530\n",
       "Divorced               0.101161   6633\n",
       "Never-married          0.045486  16115\n",
       "Married-civ-spouse     0.446133  22379"
      ]
     },
     "execution_count": 49,
     "metadata": {},
     "output_type": "execute_result"
    }
   ],
   "source": [
    "all_data.pivot_table(index='marital_status', values='income', aggfunc=['mean', 'count']).sort_values(('count','income'))"
   ]
  },
  {
   "cell_type": "code",
   "execution_count": 50,
   "id": "43b28e16",
   "metadata": {},
   "outputs": [],
   "source": [
    "all_data.loc[all_data['marital_status'] == 'Married-AF-spouse', 'marital_status'] = 'Married-civ-spouse' \n",
    "#Married-AF-spouse를  Married-civ-spouse로 변경"
   ]
  },
  {
   "cell_type": "code",
   "execution_count": 51,
   "id": "e5f26ad8",
   "metadata": {},
   "outputs": [
    {
     "data": {
      "text/plain": [
       "Prof-specialty       6172\n",
       "Craft-repair         6112\n",
       "Exec-managerial      6086\n",
       "Adm-clerical         5610\n",
       "Sales                5504\n",
       "Other-service        4923\n",
       "Machine-op-inspct    3021\n",
       "?                    2809\n",
       "Transport-moving     2355\n",
       "Handlers-cleaners    2072\n",
       "Farming-fishing      1490\n",
       "Tech-support         1446\n",
       "Protective-serv       983\n",
       "Priv-house-serv       242\n",
       "Armed-Forces           15\n",
       "Name: occupation, dtype: int64"
      ]
     },
     "execution_count": 51,
     "metadata": {},
     "output_type": "execute_result"
    }
   ],
   "source": [
    "all_data['occupation'].value_counts()"
   ]
  },
  {
   "cell_type": "code",
   "execution_count": 52,
   "id": "10c5338a",
   "metadata": {},
   "outputs": [
    {
     "data": {
      "text/plain": [
       "<AxesSubplot:xlabel='occupation'>"
      ]
     },
     "execution_count": 52,
     "metadata": {},
     "output_type": "execute_result"
    },
    {
     "data": {
      "image/png": "[encoded data removed]",
      "text/plain": [
       "<Figure size 720x504 with 1 Axes>"
      ]
     },
     "metadata": {
      "needs_background": "light"
     },
     "output_type": "display_data"
    }
   ],
   "source": [
    "all_data.groupby('occupation')['income'].mean().sort_values().plot(kind='bar', figsize=FIG_SIZE)"
   ]
  },
  {
   "cell_type": "markdown",
   "id": "ba8416ef",
   "metadata": {},
   "source": [
    "all_data.loc[train['occupation'].isin(['Armed-Forces', 'Priv-house-serv']), 'income'].value_counts()\n",
    "all_data.loc[all_data['occupation'].isin(['Armed-Forces', 'Priv-house-serv']), 'occupation'] = 'Priv-house-serv'\n",
    "#occupation에서 armed-Forces와 priv-house-serv가 거의비슷할때, armed-force가 0값이 나오면, 과적합 줄이기위해 둘이 합침."
   ]
  },
  {
   "cell_type": "code",
   "execution_count": 53,
   "id": "b5658c99",
   "metadata": {},
   "outputs": [
    {
     "data": {
      "text/plain": [
       "441         Armed-Forces\n",
       "535      Priv-house-serv\n",
       "621      Priv-house-serv\n",
       "928      Priv-house-serv\n",
       "1037     Priv-house-serv\n",
       "              ...       \n",
       "15595    Priv-house-serv\n",
       "15758    Priv-house-serv\n",
       "15933    Priv-house-serv\n",
       "16044    Priv-house-serv\n",
       "16265    Priv-house-serv\n",
       "Name: occupation, Length: 257, dtype: object"
      ]
     },
     "execution_count": 53,
     "metadata": {},
     "output_type": "execute_result"
    }
   ],
   "source": [
    "all_data.loc[all_data['occupation'].isin(['Armed-Forces', 'Priv-house-serv']), 'occupation']"
   ]
  },
  {
   "cell_type": "code",
   "execution_count": 54,
   "id": "fd0fcb01",
   "metadata": {},
   "outputs": [
    {
     "data": {
      "text/plain": [
       "Husband           19716\n",
       "Not-in-family     12582\n",
       "Own-child          7580\n",
       "Unmarried          5125\n",
       "Wife               2331\n",
       "Other-relative     1506\n",
       "Name: relationship, dtype: int64"
      ]
     },
     "execution_count": 54,
     "metadata": {},
     "output_type": "execute_result"
    }
   ],
   "source": [
    "all_data['relationship'].value_counts()"
   ]
  },
  {
   "cell_type": "code",
   "execution_count": 55,
   "id": "571a6e04",
   "metadata": {},
   "outputs": [
    {
     "data": {
      "text/plain": [
       "<AxesSubplot:xlabel='relationship'>"
      ]
     },
     "execution_count": 55,
     "metadata": {},
     "output_type": "execute_result"
    },
    {
     "data": {
      "image/png": "[encoded data removed]",
      "text/plain": [
       "<Figure size 720x504 with 1 Axes>"
      ]
     },
     "metadata": {
      "needs_background": "light"
     },
     "output_type": "display_data"
    }
   ],
   "source": [
    "all_data.groupby('relationship')['income'].mean().plot(kind='bar', figsize=FIG_SIZE)#관련도 찾지 못해 방치"
   ]
  },
  {
   "cell_type": "code",
   "execution_count": 56,
   "id": "64e1ca28",
   "metadata": {},
   "outputs": [
    {
     "data": {
      "text/plain": [
       "White                 41761\n",
       "Black                  4684\n",
       "Asian-Pac-Islander     1519\n",
       "Amer-Indian-Eskimo      470\n",
       "Other                   406\n",
       "Name: race, dtype: int64"
      ]
     },
     "execution_count": 56,
     "metadata": {},
     "output_type": "execute_result"
    }
   ],
   "source": [
    "all_data['race'].value_counts()"
   ]
  },
  {
   "cell_type": "code",
   "execution_count": 57,
   "id": "57146bda",
   "metadata": {},
   "outputs": [
    {
     "data": {
      "text/plain": [
       "<AxesSubplot:xlabel='race'>"
      ]
     },
     "execution_count": 57,
     "metadata": {},
     "output_type": "execute_result"
    },
    {
     "data": {
      "image/png": "[encoded data removed]",
      "text/plain": [
       "<Figure size 720x504 with 1 Axes>"
      ]
     },
     "metadata": {
      "needs_background": "light"
     },
     "output_type": "display_data"
    }
   ],
   "source": [
    "all_data.groupby('race')['income'].mean().plot(kind='bar', figsize=FIG_SIZE)#얘도 방치 "
   ]
  },
  {
   "cell_type": "code",
   "execution_count": 58,
   "id": "1cd167b1",
   "metadata": {
    "scrolled": true
   },
   "outputs": [
    {
     "data": {
      "text/plain": [
       "Male      32648\n",
       "Female    16192\n",
       "Name: sex, dtype: int64"
      ]
     },
     "execution_count": 58,
     "metadata": {},
     "output_type": "execute_result"
    }
   ],
   "source": [
    "all_data['sex'].value_counts()"
   ]
  },
  {
   "cell_type": "code",
   "execution_count": 59,
   "id": "bbd8d5bf",
   "metadata": {},
   "outputs": [
    {
     "data": {
      "text/plain": [
       "<AxesSubplot:xlabel='sex'>"
      ]
     },
     "execution_count": 59,
     "metadata": {},
     "output_type": "execute_result"
    },
    {
     "data": {
      "image/png": "[encoded data removed]",
      "text/plain": [
       "<Figure size 720x504 with 1 Axes>"
      ]
     },
     "metadata": {
      "needs_background": "light"
     },
     "output_type": "display_data"
    }
   ],
   "source": [
    "all_data.groupby('sex')['income'].mean().plot(kind='bar', figsize=FIG_SIZE) #특이사항 x"
   ]
  },
  {
   "cell_type": "code",
   "execution_count": 60,
   "id": "bd4b59e5",
   "metadata": {},
   "outputs": [
    {
     "data": {
      "text/plain": [
       "<AxesSubplot:xlabel='capital_gain', ylabel='Density'>"
      ]
     },
     "execution_count": 60,
     "metadata": {},
     "output_type": "execute_result"
    },
    {
     "data": {
      "image/png": "[encoded data removed]",
      "text/plain": [
       "<Figure size 864x648 with 1 Axes>"
      ]
     },
     "metadata": {
      "needs_background": "light"
     },
     "output_type": "display_data"
    }
   ],
   "source": [
    "plt.figure(figsize=(12, 9))\n",
    "sns.distplot(all_data.loc[train['capital_gain'] > 0, 'capital_gain'])# capital gain >0 인것을 displot 자체가 그래프,hist 같이 있다."
   ]
  },
  {
   "cell_type": "code",
   "execution_count": 61,
   "id": "f7229d84",
   "metadata": {},
   "outputs": [
    {
     "data": {
      "text/plain": [
       "<seaborn.axisgrid.FacetGrid at 0x29faf2c4a00>"
      ]
     },
     "execution_count": 61,
     "metadata": {},
     "output_type": "execute_result"
    },
    {
     "data": {
      "image/png": "[encoded data removed]",
      "text/plain": [
       "<Figure size 1512x504 with 2 Axes>"
      ]
     },
     "metadata": {
      "needs_background": "light"
     },
     "output_type": "display_data"
    }
   ],
   "source": [
    "g = sns.FacetGrid(all_data.loc[all_data['capital_gain']> 0], col=\"income\", height=7, aspect=1.5)# aspect 가로 ,height 세로, \n",
    "#income은 분리 요소.\n",
    "g.map(sns.distplot, 'capital_gain')#x축"
   ]
  },
  {
   "cell_type": "code",
   "execution_count": 62,
   "id": "559f73cf",
   "metadata": {},
   "outputs": [
    {
     "data": {
      "image/png": "[encoded data removed]",
      "text/plain": [
       "<Figure size 1008x576 with 2 Axes>"
      ]
     },
     "metadata": {
      "needs_background": "light"
     },
     "output_type": "display_data"
    }
   ],
   "source": [
    "fig, axes = plt.subplots(1, 2,figsize=(14,8))\n",
    "#메소드에 전달 된 인수는 각각 그림의 너비와 높이를 인치 단위로 나타낸다.\n",
    "\n",
    "df1 = train.loc[(train['income'] == 0) & (train['capital_gain'] > 0), 'capital_gain'].value_counts().sort_index() #index로 정렬\n",
    "df1.plot(kind='bar', ax=axes[0])\n",
    "\n",
    "df1 = train.loc[(train['income'] == 1) & (train['capital_gain'] > 0), 'capital_gain'].value_counts().sort_index()\n",
    "df1.plot(kind='bar', ax=axes[1])\n",
    "\n",
    "plt.tight_layout()#자동으로 명시된 여백(padding)에 관련된 서브플롯 파라미터를 조정한다. \n",
    "plt.show()"
   ]
  },
  {
   "cell_type": "code",
   "execution_count": 63,
   "id": "07901a6f",
   "metadata": {},
   "outputs": [
    {
     "data": {
      "image/png": "[encoded data removed]",
      "text/plain": [
       "<Figure size 1440x576 with 2 Axes>"
      ]
     },
     "metadata": {
      "needs_background": "light"
     },
     "output_type": "display_data"
    }
   ],
   "source": [
    "fig, axes = plt.subplots(1, 2)\n",
    "fig.set_size_inches(20, 8)\n",
    "\n",
    "df1 = train.loc[(train['income'] == 0) & (train['capital_loss'] > 0), 'capital_loss'].value_counts().sort_index()\n",
    "df1.plot(kind='bar', ax=axes[0])\n",
    "\n",
    "df1 = train.loc[(train['income'] == 1) & (train['capital_loss'] > 0), 'capital_loss'].value_counts().sort_index()\n",
    "df1.plot(kind='bar', ax=axes[1])\n",
    "\n",
    "plt.tight_layout()\n",
    "plt.show()"
   ]
  },
  {
   "cell_type": "markdown",
   "id": "08ed2b00",
   "metadata": {},
   "source": [
    "capital_gain & capital_loss은 모두 Numerical 처럼 보이지만, categorical 로 만들어도 값의 variance가 크지 않습니다.\n",
    "\n",
    "그래서 value_counts()로 income 별 값 분포를 확인합니다.\n",
    "\n",
    "income == 1 인 그룹이 가지고 있는 특정 key와 income == 0 인 그룹이 가지고 있는 특정 key가 극명히 갈리는 것을 확인할 수 있습니다."
   ]
  },
  {
   "cell_type": "code",
   "execution_count": 64,
   "id": "987915a0",
   "metadata": {},
   "outputs": [],
   "source": [
    "all_data['capital_net'] = all_data['capital_gain'] - all_data['capital_loss']\n",
    "train['capital_net'] = train['capital_gain'] - train['capital_loss']\n",
    "test['capital_net'] = test['capital_gain'] - test['capital_loss']"
   ]
  },
  {
   "cell_type": "code",
   "execution_count": 65,
   "id": "e66d3519",
   "metadata": {},
   "outputs": [
    {
     "data": {
      "text/plain": [
       "<AxesSubplot:xlabel='capital_net', ylabel='Density'>"
      ]
     },
     "execution_count": 65,
     "metadata": {},
     "output_type": "execute_result"
    },
    {
     "data": {
      "image/png": "[encoded data removed]",
      "text/plain": [
       "<Figure size 1152x648 with 2 Axes>"
      ]
     },
     "metadata": {
      "needs_background": "light"
     },
     "output_type": "display_data"
    }
   ],
   "source": [
    "plt.figure(figsize=(16, 9))\n",
    "plt.subplot(1, 2,1) #nrows=1, ncols=2, index=1 index는 순서를 의미함\n",
    "sns.distplot(train.loc[ (train['capital_net'] > 0) & (train['income'] == 1), 'capital_net'])\n",
    "\n",
    "plt.subplot(1, 2, 2)\n",
    "sns.distplot(train.loc[ (train['capital_net'] > 0) & (train['income'] == 0), 'capital_net'])"
   ]
  },
  {
   "cell_type": "code",
   "execution_count": 66,
   "id": "846d1f6d",
   "metadata": {},
   "outputs": [
    {
     "data": {
      "image/png": "[encoded data removed]",
      "text/plain": [
       "<Figure size 1440x576 with 2 Axes>"
      ]
     },
     "metadata": {
      "needs_background": "light"
     },
     "output_type": "display_data"
    }
   ],
   "source": [
    "fig, axes = plt.subplots(1, 2)\n",
    "fig.set_size_inches(20, 8)\n",
    "\n",
    "df1 = all_data.loc[(all_data['income'] == 0) & (all_data['capital_net'] > 0), 'capital_net'].value_counts().sort_index()\n",
    "df1.plot(kind='bar', ax=axes[0])\n",
    "\n",
    "df2 = all_data.loc[(all_data['income'] == 1) & (all_data['capital_net'] > 0), 'capital_net'].value_counts().sort_index()\n",
    "df2.plot(kind='bar', ax=axes[1])\n",
    "\n",
    "plt.tight_layout()\n",
    "plt.show()"
   ]
  },
  {
   "cell_type": "code",
   "execution_count": 67,
   "id": "735cd793",
   "metadata": {},
   "outputs": [
    {
     "data": {
      "text/plain": [
       "[3103, 4386, 4687, 4787, 4934]"
      ]
     },
     "execution_count": 67,
     "metadata": {},
     "output_type": "execute_result"
    }
   ],
   "source": [
    "pos_key = all_data.loc[(all_data['income'] == 1) & (all_data['capital_net'] > 0), 'capital_net'].value_counts().sort_index().keys().tolist()\n",
    "all_key = all_data.loc[(all_data['income'] == 1) & (all_data['capital_net'] > 0), 'capital_net'].value_counts().sort_index().keys().tolist()\n",
    "all_key.extend(all_data.loc[(all_data['income'] == 0) & (all_data['capital_net'] > 0), 'capital_net'].value_counts().sort_index().keys().tolist())\n",
    "all_key[:5]#capital net 을 기준으로 income이 1이거나 0인 key값을 추출 "
   ]
  },
  {
   "cell_type": "code",
   "execution_count": 68,
   "id": "632f38b5",
   "metadata": {},
   "outputs": [
    {
     "data": {
      "text/plain": [
       "<AxesSubplot:>"
      ]
     },
     "execution_count": 68,
     "metadata": {},
     "output_type": "execute_result"
    },
    {
     "data": {
      "image/png": "[encoded data removed]",
      "text/plain": [
       "<Figure size 432x288 with 1 Axes>"
      ]
     },
     "metadata": {
      "needs_background": "light"
     },
     "output_type": "display_data"
    }
   ],
   "source": [
    "df1 = all_data.loc[(all_data['income'] == 0) & (all_data['capital_net'].isin(pos_key)), 'capital_net'].value_counts().sort_index()\n",
    "df1.plot(kind='bar')"
   ]
  },
  {
   "cell_type": "code",
   "execution_count": 69,
   "id": "b5ad5c2d",
   "metadata": {},
   "outputs": [
    {
     "name": "stdout",
     "output_type": "stream",
     "text": [
      "[3103, 4386, 4687, 4787, 4934],[114, 401, 594, 914, 991]\n"
     ]
    }
   ],
   "source": [
    "pos_key = all_data.loc[(all_data['income'] == 1) & (all_data['capital_net'] > 0), 'capital_net'].value_counts().sort_index().keys().tolist()\n",
    "neg_key = all_data.loc[(all_data['income'] == 0) & (all_data['capital_net'] > 0), 'capital_net'].value_counts().sort_index().keys().tolist()\n",
    "print(f'{pos_key[:5]},{neg_key[:5]}')"
   ]
  },
  {
   "cell_type": "code",
   "execution_count": 70,
   "id": "16d9ca68",
   "metadata": {},
   "outputs": [
    {
     "name": "stdout",
     "output_type": "stream",
     "text": [
      "[4687, 4787, 4934, 5178, 5556],[114, 401, 594, 914, 991]\n"
     ]
    }
   ],
   "source": [
    "capital_net_pos_key = [key for key in pos_key if key not in neg_key]\n",
    "capital_net_neg_key = [key for key in neg_key if key not in pos_key]\n",
    "print(f'{capital_net_pos_key[:5]},{capital_net_neg_key[:5]}')"
   ]
  },
  {
   "cell_type": "code",
   "execution_count": 71,
   "id": "53261dcc",
   "metadata": {},
   "outputs": [],
   "source": [
    "all_data['capital_net_pos_key'] = all_data['capital_net'].apply(lambda x: x in capital_net_pos_key)#apply는 함수 넣어줄때 사용 \n",
    "all_data['capital_net_neg_key'] = all_data['capital_net'].apply(lambda x: x in capital_net_neg_key)\n",
    "#겹치지 않는 키 추리기"
   ]
  },
  {
   "cell_type": "code",
   "execution_count": 72,
   "id": "156f4666",
   "metadata": {},
   "outputs": [
    {
     "data": {
      "text/plain": [
       "69        1\n",
       "94        1\n",
       "79        1\n",
       "87        1\n",
       "82        1\n",
       "      ...  \n",
       "35     1937\n",
       "60     2177\n",
       "45     2717\n",
       "50     4246\n",
       "40    22801\n",
       "Name: hours_per_week, Length: 96, dtype: int64"
      ]
     },
     "execution_count": 72,
     "metadata": {},
     "output_type": "execute_result"
    }
   ],
   "source": [
    "all_data['hours_per_week'].value_counts().sort_values()"
   ]
  },
  {
   "cell_type": "code",
   "execution_count": 73,
   "id": "1654fd41",
   "metadata": {},
   "outputs": [
    {
     "data": {
      "image/png": "[encoded data removed]",
      "text/plain": [
       "<Figure size 1440x576 with 2 Axes>"
      ]
     },
     "metadata": {
      "needs_background": "light"
     },
     "output_type": "display_data"
    }
   ],
   "source": [
    "fig, axes = plt.subplots(1, 2)\n",
    "fig.set_size_inches(20, 8)\n",
    "\n",
    "df1 = all_data.loc[(all_data['income'] == 0), 'hours_per_week'].value_counts().sort_index()\n",
    "df1.plot(kind='bar', ax=axes[0])\n",
    "\n",
    "df2 = all_data.loc[(all_data['income'] == 1), 'hours_per_week'].value_counts().sort_index()\n",
    "df2.plot(kind='bar', ax=axes[1])\n",
    "\n",
    "plt.tight_layout()\n",
    "plt.show()"
   ]
  },
  {
   "cell_type": "code",
   "execution_count": 74,
   "id": "814aa451",
   "metadata": {},
   "outputs": [
    {
     "data": {
      "text/plain": [
       "((42,), (41,))"
      ]
     },
     "execution_count": 74,
     "metadata": {},
     "output_type": "execute_result"
    }
   ],
   "source": [
    "train['native_country'].value_counts().shape, test['native_country'].value_counts().shape"
   ]
  },
  {
   "cell_type": "code",
   "execution_count": 75,
   "id": "7403c174",
   "metadata": {},
   "outputs": [
    {
     "data": {
      "text/plain": [
       "United-States                 43830\n",
       "Mexico                          951\n",
       "?                               857\n",
       "Philippines                     295\n",
       "Germany                         206\n",
       "Puerto-Rico                     184\n",
       "Canada                          182\n",
       "El-Salvador                     155\n",
       "India                           151\n",
       "Cuba                            138\n",
       "England                         127\n",
       "China                           122\n",
       "South                           115\n",
       "Jamaica                         106\n",
       "Italy                           105\n",
       "Dominican-Republic              103\n",
       "Japan                            92\n",
       "Guatemala                        88\n",
       "Poland                           87\n",
       "Vietnam                          86\n",
       "Columbia                         85\n",
       "Haiti                            75\n",
       "Portugal                         67\n",
       "Taiwan                           65\n",
       "Iran                             59\n",
       "Greece                           49\n",
       "Nicaragua                        49\n",
       "Peru                             46\n",
       "Ecuador                          45\n",
       "France                           38\n",
       "Ireland                          37\n",
       "Hong                             30\n",
       "Thailand                         30\n",
       "Cambodia                         28\n",
       "Trinadad&Tobago                  27\n",
       "Laos                             23\n",
       "Yugoslavia                       23\n",
       "Outlying-US(Guam-USVI-etc)       23\n",
       "Scotland                         21\n",
       "Honduras                         20\n",
       "Hungary                          19\n",
       "Holand-Netherlands                1\n",
       "Name: native_country, dtype: int64"
      ]
     },
     "execution_count": 75,
     "metadata": {},
     "output_type": "execute_result"
    }
   ],
   "source": [
    "all_data['native_country'].value_counts()"
   ]
  },
  {
   "cell_type": "code",
   "execution_count": 76,
   "id": "41fc7dbf",
   "metadata": {},
   "outputs": [
    {
     "data": {
      "text/html": [
       "<div>\n",
       "<style scoped>\n",
       "    .dataframe tbody tr th:only-of-type {\n",
       "        vertical-align: middle;\n",
       "    }\n",
       "\n",
       "    .dataframe tbody tr th {\n",
       "        vertical-align: top;\n",
       "    }\n",
       "\n",
       "    .dataframe thead th {\n",
       "        text-align: right;\n",
       "    }\n",
       "</style>\n",
       "<table border=\"1\" class=\"dataframe\">\n",
       "  <thead>\n",
       "    <tr style=\"text-align: right;\">\n",
       "      <th></th>\n",
       "      <th>native_country</th>\n",
       "      <th>income</th>\n",
       "    </tr>\n",
       "  </thead>\n",
       "  <tbody>\n",
       "    <tr>\n",
       "      <th>15</th>\n",
       "      <td>Holand-Netherlands</td>\n",
       "      <td>0.000000</td>\n",
       "    </tr>\n",
       "    <tr>\n",
       "      <th>13</th>\n",
       "      <td>Guatemala</td>\n",
       "      <td>0.034091</td>\n",
       "    </tr>\n",
       "    <tr>\n",
       "      <th>28</th>\n",
       "      <td>Outlying-US(Guam-USVI-etc)</td>\n",
       "      <td>0.043478</td>\n",
       "    </tr>\n",
       "    <tr>\n",
       "      <th>4</th>\n",
       "      <td>Columbia</td>\n",
       "      <td>0.047059</td>\n",
       "    </tr>\n",
       "    <tr>\n",
       "      <th>6</th>\n",
       "      <td>Dominican-Republic</td>\n",
       "      <td>0.048544</td>\n",
       "    </tr>\n",
       "    <tr>\n",
       "      <th>26</th>\n",
       "      <td>Mexico</td>\n",
       "      <td>0.049422</td>\n",
       "    </tr>\n",
       "    <tr>\n",
       "      <th>27</th>\n",
       "      <td>Nicaragua</td>\n",
       "      <td>0.061224</td>\n",
       "    </tr>\n",
       "    <tr>\n",
       "      <th>8</th>\n",
       "      <td>El-Salvador</td>\n",
       "      <td>0.070968</td>\n",
       "    </tr>\n",
       "    <tr>\n",
       "      <th>38</th>\n",
       "      <td>Trinadad&amp;Tobago</td>\n",
       "      <td>0.074074</td>\n",
       "    </tr>\n",
       "    <tr>\n",
       "      <th>40</th>\n",
       "      <td>Vietnam</td>\n",
       "      <td>0.081395</td>\n",
       "    </tr>\n",
       "    <tr>\n",
       "      <th>29</th>\n",
       "      <td>Peru</td>\n",
       "      <td>0.086957</td>\n",
       "    </tr>\n",
       "    <tr>\n",
       "      <th>25</th>\n",
       "      <td>Laos</td>\n",
       "      <td>0.086957</td>\n",
       "    </tr>\n",
       "    <tr>\n",
       "      <th>16</th>\n",
       "      <td>Honduras</td>\n",
       "      <td>0.100000</td>\n",
       "    </tr>\n",
       "    <tr>\n",
       "      <th>33</th>\n",
       "      <td>Puerto-Rico</td>\n",
       "      <td>0.108696</td>\n",
       "    </tr>\n",
       "    <tr>\n",
       "      <th>14</th>\n",
       "      <td>Haiti</td>\n",
       "      <td>0.120000</td>\n",
       "    </tr>\n",
       "    <tr>\n",
       "      <th>7</th>\n",
       "      <td>Ecuador</td>\n",
       "      <td>0.133333</td>\n",
       "    </tr>\n",
       "    <tr>\n",
       "      <th>23</th>\n",
       "      <td>Jamaica</td>\n",
       "      <td>0.141509</td>\n",
       "    </tr>\n",
       "    <tr>\n",
       "      <th>34</th>\n",
       "      <td>Scotland</td>\n",
       "      <td>0.142857</td>\n",
       "    </tr>\n",
       "    <tr>\n",
       "      <th>37</th>\n",
       "      <td>Thailand</td>\n",
       "      <td>0.166667</td>\n",
       "    </tr>\n",
       "    <tr>\n",
       "      <th>35</th>\n",
       "      <td>South</td>\n",
       "      <td>0.173913</td>\n",
       "    </tr>\n",
       "    <tr>\n",
       "      <th>32</th>\n",
       "      <td>Portugal</td>\n",
       "      <td>0.179104</td>\n",
       "    </tr>\n",
       "    <tr>\n",
       "      <th>31</th>\n",
       "      <td>Poland</td>\n",
       "      <td>0.195402</td>\n",
       "    </tr>\n",
       "    <tr>\n",
       "      <th>39</th>\n",
       "      <td>United-States</td>\n",
       "      <td>0.243965</td>\n",
       "    </tr>\n",
       "    <tr>\n",
       "      <th>5</th>\n",
       "      <td>Cuba</td>\n",
       "      <td>0.246377</td>\n",
       "    </tr>\n",
       "    <tr>\n",
       "      <th>0</th>\n",
       "      <td>?</td>\n",
       "      <td>0.256709</td>\n",
       "    </tr>\n",
       "    <tr>\n",
       "      <th>17</th>\n",
       "      <td>Hong</td>\n",
       "      <td>0.266667</td>\n",
       "    </tr>\n",
       "    <tr>\n",
       "      <th>11</th>\n",
       "      <td>Germany</td>\n",
       "      <td>0.281553</td>\n",
       "    </tr>\n",
       "    <tr>\n",
       "      <th>30</th>\n",
       "      <td>Philippines</td>\n",
       "      <td>0.288136</td>\n",
       "    </tr>\n",
       "    <tr>\n",
       "      <th>3</th>\n",
       "      <td>China</td>\n",
       "      <td>0.295082</td>\n",
       "    </tr>\n",
       "    <tr>\n",
       "      <th>21</th>\n",
       "      <td>Ireland</td>\n",
       "      <td>0.297297</td>\n",
       "    </tr>\n",
       "    <tr>\n",
       "      <th>18</th>\n",
       "      <td>Hungary</td>\n",
       "      <td>0.315789</td>\n",
       "    </tr>\n",
       "    <tr>\n",
       "      <th>1</th>\n",
       "      <td>Cambodia</td>\n",
       "      <td>0.321429</td>\n",
       "    </tr>\n",
       "    <tr>\n",
       "      <th>22</th>\n",
       "      <td>Italy</td>\n",
       "      <td>0.323810</td>\n",
       "    </tr>\n",
       "    <tr>\n",
       "      <th>2</th>\n",
       "      <td>Canada</td>\n",
       "      <td>0.346154</td>\n",
       "    </tr>\n",
       "    <tr>\n",
       "      <th>41</th>\n",
       "      <td>Yugoslavia</td>\n",
       "      <td>0.347826</td>\n",
       "    </tr>\n",
       "    <tr>\n",
       "      <th>24</th>\n",
       "      <td>Japan</td>\n",
       "      <td>0.347826</td>\n",
       "    </tr>\n",
       "    <tr>\n",
       "      <th>12</th>\n",
       "      <td>Greece</td>\n",
       "      <td>0.367347</td>\n",
       "    </tr>\n",
       "    <tr>\n",
       "      <th>9</th>\n",
       "      <td>England</td>\n",
       "      <td>0.370079</td>\n",
       "    </tr>\n",
       "    <tr>\n",
       "      <th>20</th>\n",
       "      <td>Iran</td>\n",
       "      <td>0.372881</td>\n",
       "    </tr>\n",
       "    <tr>\n",
       "      <th>36</th>\n",
       "      <td>Taiwan</td>\n",
       "      <td>0.400000</td>\n",
       "    </tr>\n",
       "    <tr>\n",
       "      <th>19</th>\n",
       "      <td>India</td>\n",
       "      <td>0.410596</td>\n",
       "    </tr>\n",
       "    <tr>\n",
       "      <th>10</th>\n",
       "      <td>France</td>\n",
       "      <td>0.421053</td>\n",
       "    </tr>\n",
       "  </tbody>\n",
       "</table>\n",
       "</div>"
      ],
      "text/plain": [
       "                native_country    income\n",
       "15          Holand-Netherlands  0.000000\n",
       "13                   Guatemala  0.034091\n",
       "28  Outlying-US(Guam-USVI-etc)  0.043478\n",
       "4                     Columbia  0.047059\n",
       "6           Dominican-Republic  0.048544\n",
       "26                      Mexico  0.049422\n",
       "27                   Nicaragua  0.061224\n",
       "8                  El-Salvador  0.070968\n",
       "38             Trinadad&Tobago  0.074074\n",
       "40                     Vietnam  0.081395\n",
       "29                        Peru  0.086957\n",
       "25                        Laos  0.086957\n",
       "16                    Honduras  0.100000\n",
       "33                 Puerto-Rico  0.108696\n",
       "14                       Haiti  0.120000\n",
       "7                      Ecuador  0.133333\n",
       "23                     Jamaica  0.141509\n",
       "34                    Scotland  0.142857\n",
       "37                    Thailand  0.166667\n",
       "35                       South  0.173913\n",
       "32                    Portugal  0.179104\n",
       "31                      Poland  0.195402\n",
       "39               United-States  0.243965\n",
       "5                         Cuba  0.246377\n",
       "0                            ?  0.256709\n",
       "17                        Hong  0.266667\n",
       "11                     Germany  0.281553\n",
       "30                 Philippines  0.288136\n",
       "3                        China  0.295082\n",
       "21                     Ireland  0.297297\n",
       "18                     Hungary  0.315789\n",
       "1                     Cambodia  0.321429\n",
       "22                       Italy  0.323810\n",
       "2                       Canada  0.346154\n",
       "41                  Yugoslavia  0.347826\n",
       "24                       Japan  0.347826\n",
       "12                      Greece  0.367347\n",
       "9                      England  0.370079\n",
       "20                        Iran  0.372881\n",
       "36                      Taiwan  0.400000\n",
       "19                       India  0.410596\n",
       "10                      France  0.421053"
      ]
     },
     "execution_count": 76,
     "metadata": {},
     "output_type": "execute_result"
    }
   ],
   "source": [
    "all_data.groupby('native_country')['income'].mean().reset_index().sort_values(by='income')# df가 이상하게 구성되어서 reset_index를 한듯?"
   ]
  },
  {
   "cell_type": "code",
   "execution_count": 77,
   "id": "63eafda9",
   "metadata": {},
   "outputs": [],
   "source": [
    "income_01 = ['Guatemala',\n",
    " 'Outlying-US(Guam-USVI-etc)',\n",
    " 'Columbia',\n",
    " 'Dominican-Republic',\n",
    " 'Thailand',\n",
    " 'Mexico',\n",
    "'Nicaragua',\n",
    " 'El-Salvador',\n",
    "'Trinadad&Tobago',\n",
    "'Vietnam',\n",
    "'Peru',\n",
    "'Laos',] #1.0~1.5 언저리\n",
    "\n",
    "income_02 = ['Honduras',\n",
    " 'Puerto-Rico',\n",
    " 'Haiti',\n",
    " 'Ecuador',\n",
    " 'Jamaica',\n",
    " 'Scotland',\n",
    "]\n",
    "\n",
    "income_03 = ['Thailand',\n",
    " 'Portugal',\n",
    " 'South',\n",
    " 'Poland',\n",
    "            ]\n",
    "\n",
    "income_04 = [\n",
    "    'United-States',\n",
    "]\n",
    "income_05 = [\n",
    " 'Cuba',\n",
    "'Hong',\n",
    "'Germany',\n",
    "'Philippines',\n",
    "'China',\n",
    "'Ireland',\n",
    " 'Holand-Netherlands',\n",
    "]\n",
    "income_06 = [\n",
    " 'Hungary',\n",
    "'Philippines',\n",
    " 'Canada',\n",
    "]\n",
    "income_07 = [\n",
    " 'Cambodia\t',\n",
    " 'Italy',\n",
    "]\n",
    "\n",
    "income_08 = [\n",
    " 'Canada',\n",
    " 'Yugoslavia',\n",
    " 'Japan',\n",
    " 'Greece',\n",
    " 'England',\n",
    " 'Iran',\n",
    "]\n",
    "\n",
    "income_09 = [\n",
    " 'Taiwan',\n",
    " 'India',\n",
    "'France',\n",
    "]\n",
    "\n",
    "income_other=['?', ]"
   ]
  },
  {
   "cell_type": "code",
   "execution_count": 78,
   "id": "c525b6ec",
   "metadata": {},
   "outputs": [],
   "source": [
    "def convert_country(x):\n",
    "    if x in income_01:\n",
    "        return 'income_01'\n",
    "    elif x in income_02:\n",
    "        return 'income_02'\n",
    "    elif x in income_03:\n",
    "        return 'income_03'\n",
    "    elif x in income_04:\n",
    "        return 'income_04'\n",
    "    elif x in income_05:\n",
    "        return 'income_05'\n",
    "    elif x in income_06:\n",
    "        return 'income_06'\n",
    "    elif x in income_07:\n",
    "        return 'income_07'\n",
    "    elif x in income_08:\n",
    "        return 'income_08'\n",
    "    elif x in income_09:\n",
    "        return 'income_09'\n",
    "    else:\n",
    "        return 'income_other'"
   ]
  },
  {
   "cell_type": "code",
   "execution_count": 79,
   "id": "c571c49a",
   "metadata": {},
   "outputs": [],
   "source": [
    "all_data['country_bin'] = all_data['native_country'].apply(convert_country)"
   ]
  },
  {
   "cell_type": "code",
   "execution_count": 80,
   "id": "8eb8cd48",
   "metadata": {},
   "outputs": [
    {
     "data": {
      "text/plain": [
       "income_04       43830\n",
       "income_01        1666\n",
       "income_other      885\n",
       "income_05         829\n",
       "income_02         451\n",
       "income_08         350\n",
       "income_03         269\n",
       "income_09         254\n",
       "income_06         201\n",
       "income_07         105\n",
       "Name: country_bin, dtype: int64"
      ]
     },
     "execution_count": 80,
     "metadata": {},
     "output_type": "execute_result"
    }
   ],
   "source": [
    "all_data['country_bin'].value_counts()"
   ]
  },
  {
   "cell_type": "code",
   "execution_count": 81,
   "id": "7ecfd7a1",
   "metadata": {},
   "outputs": [],
   "source": [
    "features = [\n",
    "#     'id', \n",
    "    'age', \n",
    "    'workclass', \n",
    "#     'fnlwgt', \n",
    "    'fnlwgt_log', \n",
    "    'education', \n",
    "    'marital_status',\n",
    "    'occupation',\n",
    "    'relationship', \n",
    "    'race',\n",
    "    'sex',\n",
    "    'capital_gain',\n",
    "    'capital_loss', \n",
    "    'hours_per_week',\n",
    "    'native_country',\n",
    "#     'income',\n",
    "#     'capital_net', capital_gain과 corr이 커서 제거\n",
    "    'capital_net_pos_key',\n",
    "    'capital_net_neg_key',\n",
    "    'country_bin',\n",
    "]"
   ]
  },
  {
   "cell_type": "code",
   "execution_count": 82,
   "id": "efd1462c",
   "metadata": {},
   "outputs": [],
   "source": [
    "label = [\n",
    "    'income'\n",
    "]"
   ]
  },
  {
   "cell_type": "code",
   "execution_count": 83,
   "id": "b1f3f08d",
   "metadata": {},
   "outputs": [
    {
     "name": "stdout",
     "output_type": "stream",
     "text": [
      "<class 'pandas.core.frame.DataFrame'>\n",
      "Int64Index: 48840 entries, 0 to 16279\n",
      "Data columns (total 19 columns):\n",
      " #   Column               Non-Null Count  Dtype  \n",
      "---  ------               --------------  -----  \n",
      " 0   age                  48840 non-null  int64  \n",
      " 1   workclass            48840 non-null  object \n",
      " 2   fnlwgt               48840 non-null  int64  \n",
      " 3   education            48840 non-null  object \n",
      " 4   marital_status       48840 non-null  object \n",
      " 5   occupation           48840 non-null  object \n",
      " 6   relationship         48840 non-null  object \n",
      " 7   race                 48840 non-null  object \n",
      " 8   sex                  48840 non-null  object \n",
      " 9   capital_gain         48840 non-null  int64  \n",
      " 10  capital_loss         48840 non-null  int64  \n",
      " 11  hours_per_week       48840 non-null  int64  \n",
      " 12  native_country       48840 non-null  object \n",
      " 13  income               48840 non-null  int64  \n",
      " 14  fnlwgt_log           48840 non-null  float64\n",
      " 15  capital_net          48840 non-null  int64  \n",
      " 16  capital_net_pos_key  48840 non-null  bool   \n",
      " 17  capital_net_neg_key  48840 non-null  bool   \n",
      " 18  country_bin          48840 non-null  object \n",
      "dtypes: bool(2), float64(1), int64(7), object(9)\n",
      "memory usage: 6.8+ MB\n"
     ]
    }
   ],
   "source": [
    "all_data.info()"
   ]
  },
  {
   "cell_type": "code",
   "execution_count": 84,
   "id": "34a836e8",
   "metadata": {},
   "outputs": [
    {
     "data": {
      "text/plain": [
       "<AxesSubplot:>"
      ]
     },
     "execution_count": 84,
     "metadata": {},
     "output_type": "execute_result"
    },
    {
     "data": {
      "image/png": "[encoded data removed]",
      "text/plain": [
       "<Figure size 864x864 with 2 Axes>"
      ]
     },
     "metadata": {
      "needs_background": "light"
     },
     "output_type": "display_data"
    }
   ],
   "source": [
    "plt.figure(figsize=(12, 12))\n",
    "sns.heatmap(abs(all_data.corr()), annot=True) #상관 계수를 절대치로 변경후 대입"
   ]
  },
  {
   "cell_type": "code",
   "execution_count": 85,
   "id": "273e491f",
   "metadata": {},
   "outputs": [
    {
     "data": {
      "text/html": [
       "<div>\n",
       "<style scoped>\n",
       "    .dataframe tbody tr th:only-of-type {\n",
       "        vertical-align: middle;\n",
       "    }\n",
       "\n",
       "    .dataframe tbody tr th {\n",
       "        vertical-align: top;\n",
       "    }\n",
       "\n",
       "    .dataframe thead th {\n",
       "        text-align: right;\n",
       "    }\n",
       "</style>\n",
       "<table border=\"1\" class=\"dataframe\">\n",
       "  <thead>\n",
       "    <tr style=\"text-align: right;\">\n",
       "      <th></th>\n",
       "      <th>age</th>\n",
       "      <th>fnlwgt_log</th>\n",
       "      <th>capital_gain</th>\n",
       "      <th>capital_loss</th>\n",
       "      <th>hours_per_week</th>\n",
       "      <th>capital_net_pos_key</th>\n",
       "      <th>capital_net_neg_key</th>\n",
       "      <th>income</th>\n",
       "      <th>workclass_?</th>\n",
       "      <th>workclass_Federal-gov</th>\n",
       "      <th>...</th>\n",
       "      <th>country_bin_income_01</th>\n",
       "      <th>country_bin_income_02</th>\n",
       "      <th>country_bin_income_03</th>\n",
       "      <th>country_bin_income_04</th>\n",
       "      <th>country_bin_income_05</th>\n",
       "      <th>country_bin_income_06</th>\n",
       "      <th>country_bin_income_07</th>\n",
       "      <th>country_bin_income_08</th>\n",
       "      <th>country_bin_income_09</th>\n",
       "      <th>country_bin_income_other</th>\n",
       "    </tr>\n",
       "  </thead>\n",
       "  <tbody>\n",
       "    <tr>\n",
       "      <th>0</th>\n",
       "      <td>50</td>\n",
       "      <td>11.330336</td>\n",
       "      <td>0</td>\n",
       "      <td>0</td>\n",
       "      <td>13</td>\n",
       "      <td>False</td>\n",
       "      <td>False</td>\n",
       "      <td>0</td>\n",
       "      <td>0</td>\n",
       "      <td>0</td>\n",
       "      <td>...</td>\n",
       "      <td>0</td>\n",
       "      <td>0</td>\n",
       "      <td>0</td>\n",
       "      <td>1</td>\n",
       "      <td>0</td>\n",
       "      <td>0</td>\n",
       "      <td>0</td>\n",
       "      <td>0</td>\n",
       "      <td>0</td>\n",
       "      <td>0</td>\n",
       "    </tr>\n",
       "    <tr>\n",
       "      <th>1</th>\n",
       "      <td>38</td>\n",
       "      <td>12.281393</td>\n",
       "      <td>0</td>\n",
       "      <td>0</td>\n",
       "      <td>40</td>\n",
       "      <td>False</td>\n",
       "      <td>False</td>\n",
       "      <td>0</td>\n",
       "      <td>0</td>\n",
       "      <td>0</td>\n",
       "      <td>...</td>\n",
       "      <td>0</td>\n",
       "      <td>0</td>\n",
       "      <td>0</td>\n",
       "      <td>1</td>\n",
       "      <td>0</td>\n",
       "      <td>0</td>\n",
       "      <td>0</td>\n",
       "      <td>0</td>\n",
       "      <td>0</td>\n",
       "      <td>0</td>\n",
       "    </tr>\n",
       "    <tr>\n",
       "      <th>2</th>\n",
       "      <td>53</td>\n",
       "      <td>12.366153</td>\n",
       "      <td>0</td>\n",
       "      <td>0</td>\n",
       "      <td>40</td>\n",
       "      <td>False</td>\n",
       "      <td>False</td>\n",
       "      <td>0</td>\n",
       "      <td>0</td>\n",
       "      <td>0</td>\n",
       "      <td>...</td>\n",
       "      <td>0</td>\n",
       "      <td>0</td>\n",
       "      <td>0</td>\n",
       "      <td>1</td>\n",
       "      <td>0</td>\n",
       "      <td>0</td>\n",
       "      <td>0</td>\n",
       "      <td>0</td>\n",
       "      <td>0</td>\n",
       "      <td>0</td>\n",
       "    </tr>\n",
       "    <tr>\n",
       "      <th>3</th>\n",
       "      <td>28</td>\n",
       "      <td>12.732011</td>\n",
       "      <td>0</td>\n",
       "      <td>0</td>\n",
       "      <td>40</td>\n",
       "      <td>False</td>\n",
       "      <td>False</td>\n",
       "      <td>0</td>\n",
       "      <td>0</td>\n",
       "      <td>0</td>\n",
       "      <td>...</td>\n",
       "      <td>0</td>\n",
       "      <td>0</td>\n",
       "      <td>0</td>\n",
       "      <td>0</td>\n",
       "      <td>1</td>\n",
       "      <td>0</td>\n",
       "      <td>0</td>\n",
       "      <td>0</td>\n",
       "      <td>0</td>\n",
       "      <td>0</td>\n",
       "    </tr>\n",
       "    <tr>\n",
       "      <th>4</th>\n",
       "      <td>37</td>\n",
       "      <td>12.558777</td>\n",
       "      <td>0</td>\n",
       "      <td>0</td>\n",
       "      <td>40</td>\n",
       "      <td>False</td>\n",
       "      <td>False</td>\n",
       "      <td>0</td>\n",
       "      <td>0</td>\n",
       "      <td>0</td>\n",
       "      <td>...</td>\n",
       "      <td>0</td>\n",
       "      <td>0</td>\n",
       "      <td>0</td>\n",
       "      <td>1</td>\n",
       "      <td>0</td>\n",
       "      <td>0</td>\n",
       "      <td>0</td>\n",
       "      <td>0</td>\n",
       "      <td>0</td>\n",
       "      <td>0</td>\n",
       "    </tr>\n",
       "  </tbody>\n",
       "</table>\n",
       "<p>5 rows × 113 columns</p>\n",
       "</div>"
      ],
      "text/plain": [
       "   age  fnlwgt_log  capital_gain  capital_loss  hours_per_week  \\\n",
       "0   50   11.330336             0             0              13   \n",
       "1   38   12.281393             0             0              40   \n",
       "2   53   12.366153             0             0              40   \n",
       "3   28   12.732011             0             0              40   \n",
       "4   37   12.558777             0             0              40   \n",
       "\n",
       "   capital_net_pos_key  capital_net_neg_key  income  workclass_?  \\\n",
       "0                False                False       0            0   \n",
       "1                False                False       0            0   \n",
       "2                False                False       0            0   \n",
       "3                False                False       0            0   \n",
       "4                False                False       0            0   \n",
       "\n",
       "   workclass_Federal-gov  ...  country_bin_income_01  country_bin_income_02  \\\n",
       "0                      0  ...                      0                      0   \n",
       "1                      0  ...                      0                      0   \n",
       "2                      0  ...                      0                      0   \n",
       "3                      0  ...                      0                      0   \n",
       "4                      0  ...                      0                      0   \n",
       "\n",
       "   country_bin_income_03  country_bin_income_04  country_bin_income_05  \\\n",
       "0                      0                      1                      0   \n",
       "1                      0                      1                      0   \n",
       "2                      0                      1                      0   \n",
       "3                      0                      0                      1   \n",
       "4                      0                      1                      0   \n",
       "\n",
       "   country_bin_income_06  country_bin_income_07  country_bin_income_08  \\\n",
       "0                      0                      0                      0   \n",
       "1                      0                      0                      0   \n",
       "2                      0                      0                      0   \n",
       "3                      0                      0                      0   \n",
       "4                      0                      0                      0   \n",
       "\n",
       "   country_bin_income_09  country_bin_income_other  \n",
       "0                      0                         0  \n",
       "1                      0                         0  \n",
       "2                      0                         0  \n",
       "3                      0                         0  \n",
       "4                      0                         0  \n",
       "\n",
       "[5 rows x 113 columns]"
      ]
     },
     "execution_count": 85,
     "metadata": {},
     "output_type": "execute_result"
    }
   ],
   "source": [
    "all_data_dummies = pd.get_dummies(all_data[features + label]) #더미데이터로 만들기 , 수치형으로 \n",
    "all_data_dummies.head()"
   ]
  },
  {
   "cell_type": "code",
   "execution_count": 86,
   "id": "e1afbe08",
   "metadata": {},
   "outputs": [],
   "source": [
    "train_features = all_data_dummies.drop('income', 1).iloc[:len(train)]#income삭제 및 train 길이까지 인덱싱\n",
    "test_features = all_data_dummies.drop('income', 1).iloc[len(train):]#프레인 길이부터 인덱싱 ->아까 합쳐가지고 나눠줘야"
   ]
  },
  {
   "cell_type": "code",
   "execution_count": 87,
   "id": "63d3dfee",
   "metadata": {},
   "outputs": [],
   "source": [
    "train_label = train[label]"
   ]
  },
  {
   "cell_type": "code",
   "execution_count": 88,
   "id": "24820d31",
   "metadata": {},
   "outputs": [
    {
     "data": {
      "text/plain": [
       "((32560, 112), (16280, 112))"
      ]
     },
     "execution_count": 88,
     "metadata": {},
     "output_type": "execute_result"
    }
   ],
   "source": [
    "train_features.shape, test_features.shape"
   ]
  },
  {
   "cell_type": "code",
   "execution_count": 89,
   "id": "c14dd93a",
   "metadata": {},
   "outputs": [],
   "source": [
    "from sklearn.model_selection import KFold, train_test_split\n",
    "from sklearn.metrics import precision_score, recall_score, classification_report, f1_score, confusion_matrix\n",
    "from sklearn.metrics import log_loss\n",
    "from tqdm import tqdm_notebook\n",
    "import lightgbm as lgbm"
   ]
  },
  {
   "cell_type": "code",
   "execution_count": 90,
   "id": "56c7f773",
   "metadata": {},
   "outputs": [],
   "source": [
    "x_train, x_valid, y_train, y_valid = train_test_split(train_features, train_label, stratify=train_label, test_size=0.2, random_state=SEED)"
   ]
  },
  {
   "cell_type": "code",
   "execution_count": 91,
   "id": "5d306c97",
   "metadata": {},
   "outputs": [],
   "source": [
    "NUM_BOOST_ROUND = 10000\n",
    "N_SPLITS = 5\n",
    "\n",
    "lgbm_param = {\n",
    "    'objective': 'binary',#기본값: LGBMRegressor의 경우 'regression' 회귀 , LGBMClassifier의 경우 'binary' 이진분류\n",
    "    #또는 'multiclass' 다중분류 , LGBMRanker의 경우 'lambdarank'입니다.\n",
    "    'boosting_type':'gbdt',#gbdt', 전통적인 그래디언트 부스팅 결정 트리. 'dart', 탈락자가 다중 가법 회귀 트리를 만납니다\n",
    "    'colsample_bytree':1.0,#각 트리를 구성할 때 열의 하위 샘플 비율입니다. default=1.0 \n",
    "    'importance_type':'split',#채워질 기능 중요도 유형입니다 feature_importances_. '분할'인 경우 결과에는 모델에서 기능이 사용된 횟수가 포함됩니다. \n",
    "    #'이득'인 경우 결과에는 해당 기능을 사용하는 분할의 총 이득이 포함됩니다. default는 split\n",
    "    'learning_rate':0.1,#  학습률을 높입니다. default=0.1\n",
    "    'min_child_samples':20,# 자식(리프)에 필요한 최소 데이터 수. default=20 \n",
    "    'min_child_weight':0.001,#자식(리프)에 필요한 인스턴스 가중치(Hessian)의 최소 합계. default=0.001 \n",
    "    'min_split_gain':0,#트리의 리프 노드에서 추가 파티션을 만드는 데 필요한 최소 손실 감소. default=0 \n",
    "    'n_estimators':10000,# 맞출 부스트 트리의 수.default=100\n",
    "    'num_leaves':40,# 본 학습자를 위한 최대 트리 리프. default= 31\n",
    "    'random_state':SEED,\n",
    "    'early_stopping_rounds': 200,#최적의 학습이후 콜백 \n",
    "    'reg_alpha':0.6,#가중치에 대한 L1 정규화 용어. default 0\n",
    "    'reg_lambda':0.5,#가중치에 대한 L2 정규화 용어. default 0\n",
    "    'subsample':1.0, #훈련 인스턴스의 subsample 비율. default=1.0\n",
    "    'subsample_for_bin':200000, #bin 구성을 위한 샘플 수. default 20000\n",
    "    'subsample_freq':0, #  subsample의 빈도, <=0은 활성화가 없음을 의미합니다. default=0 \n",
    "    'n_jobs':-1, #속도 향상 \n",
    "}"
   ]
  },
  {
   "cell_type": "code",
   "execution_count": 92,
   "id": "d124a8a3",
   "metadata": {},
   "outputs": [],
   "source": [
    "dtrain = lgbm.Dataset(x_train, y_train)\n",
    "dvalid = lgbm.Dataset(x_valid, y_valid)"
   ]
  },
  {
   "cell_type": "code",
   "execution_count": 93,
   "id": "f9a2b8c5",
   "metadata": {},
   "outputs": [
    {
     "name": "stdout",
     "output_type": "stream",
     "text": [
      "[LightGBM] [Warning] Unknown parameter: importance_type\n",
      "[LightGBM] [Warning] Unknown parameter: importance_type\n",
      "[LightGBM] [Info] Number of positive: 6273, number of negative: 19775\n",
      "[LightGBM] [Warning] Auto-choosing row-wise multi-threading, the overhead of testing was 0.001141 seconds.\n",
      "You can set `force_row_wise=true` to remove the overhead.\n",
      "And if memory is not enough, you can set `force_col_wise=true`.\n",
      "[LightGBM] [Info] Total Bins 763\n",
      "[LightGBM] [Info] Number of data points in the train set: 26048, number of used features: 98\n",
      "[LightGBM] [Warning] Unknown parameter: importance_type\n",
      "[LightGBM] [Info] [binary:BoostFromScore]: pavg=0.240825 -> initscore=-1.148164\n",
      "[LightGBM] [Info] Start training from score -1.148164\n",
      "Training until validation scores don't improve for 200 rounds\n",
      "[100]\ttrain's binary_logloss: 0.233877\tvalid's binary_logloss: 0.279218\n",
      "[200]\ttrain's binary_logloss: 0.207827\tvalid's binary_logloss: 0.284072\n",
      "Early stopping, best iteration is:\n",
      "[97]\ttrain's binary_logloss: 0.234873\tvalid's binary_logloss: 0.279086\n"
     ]
    }
   ],
   "source": [
    "model = lgbm.train(lgbm_param, dtrain, NUM_BOOST_ROUND, #파라미터, 데이터셋, 부스팅 반복 횟수.\n",
    "                   valid_sets=(dtrain, dvalid),  #훈련 중에 평가할 데이터 목록.\n",
    "                   valid_names=('train', 'valid'), \n",
    "                   verbose_eval=100, #몇번쨰 마다 메세지를 출력할것인지\n",
    "                  )"
   ]
  },
  {
   "cell_type": "code",
   "execution_count": 94,
   "id": "34a3779e",
   "metadata": {},
   "outputs": [
    {
     "name": "stdout",
     "output_type": "stream",
     "text": [
      "              precision    recall  f1-score   support\n",
      "\n",
      "           0       0.90      0.93      0.92      4944\n",
      "           1       0.77      0.67      0.72      1568\n",
      "\n",
      "    accuracy                           0.87      6512\n",
      "   macro avg       0.83      0.80      0.82      6512\n",
      "weighted avg       0.87      0.87      0.87      6512\n",
      "\n"
     ]
    }
   ],
   "source": [
    "threshold = 0.5\n",
    "valid_prediction = model.predict(x_valid) #이진분류나 회귀는 길이가 n인 벡터를 반환  이건 classifier가아닌 train으로 모델자체를 학습하면 사이킷런과 달리 확률값이 도출된다. 따라서 밑에서 threshold로 0.5를 기준으로 판단하는 것을 설정해준다.\n",
    "valid_prediction[valid_prediction > threshold] = 1\n",
    "valid_prediction[valid_prediction <= threshold] = 0\n",
    "print(classification_report(y_valid, valid_prediction))"
   ]
  },
  {
   "cell_type": "code",
   "execution_count": 95,
   "id": "a51082ff",
   "metadata": {},
   "outputs": [
    {
     "data": {
      "image/png": "[encoded data removed]",
      "text/plain": [
       "<Figure size 1152x432 with 1 Axes>"
      ]
     },
     "metadata": {
      "needs_background": "light"
     },
     "output_type": "display_data"
    }
   ],
   "source": [
    "f1_threshold = np.linspace(0.4, 0.6, 30)# 시작,끝,간격 1차원배열만들기\n",
    "f1_scores = []\n",
    "max_score = 0\n",
    "max_threshold = 0\n",
    "\n",
    "for t in f1_threshold:\n",
    "    valid_prediction = model.predict(x_valid)\n",
    "    valid_prediction[valid_prediction > t] = 1\n",
    "    valid_prediction[valid_prediction <= t] = 0\n",
    "    score_ = f1_score(y_valid, valid_prediction)\n",
    "    f1_scores.append(score_)\n",
    "    if score_ > max_score:\n",
    "        max_score = score_\n",
    "        max_threshold = t\n",
    "        \n",
    "plt.figure(figsize=(16, 6))\n",
    "plt.plot(f1_threshold, f1_scores) #x값 y값\n",
    "plt.axvline(x=max_threshold, linestyle=':', color='r') #수직선을 긋는다. 수평선은 axhline임 \n",
    "plt.xticks(f1_threshold, rotation=90)\n",
    "plt.show()"
   ]
  },
  {
   "cell_type": "code",
   "execution_count": 102,
   "id": "81397dc1",
   "metadata": {},
   "outputs": [
    {
     "data": {
      "text/plain": [
       "<AxesSubplot:>"
      ]
     },
     "execution_count": 102,
     "metadata": {},
     "output_type": "execute_result"
    },
    {
     "data": {
      "image/png": "[encoded data removed]",
      "text/plain": [
       "<Figure size 720x504 with 2 Axes>"
      ]
     },
     "metadata": {
      "needs_background": "light"
     },
     "output_type": "display_data"
    }
   ],
   "source": [
    "plt.figure(figsize=FIG_SIZE)\n",
    "sns.heatmap(confusion_matrix(y_valid, valid_prediction), annot=True, fmt='g')"
   ]
  },
  {
   "cell_type": "code",
   "execution_count": 99,
   "id": "2159e1bf",
   "metadata": {},
   "outputs": [
    {
     "name": "stdout",
     "output_type": "stream",
     "text": [
      "[0.20333196 0.40750135 0.9989493  ... 0.79517026 0.0021103  0.70151236]\n"
     ]
    }
   ],
   "source": [
    "pred = model.predict(test_features)\n",
    "print(pred)"
   ]
  },
  {
   "cell_type": "code",
   "execution_count": 100,
   "id": "78b0ab24",
   "metadata": {},
   "outputs": [
    {
     "data": {
      "text/plain": [
       "<AxesSubplot:ylabel='Density'>"
      ]
     },
     "execution_count": 100,
     "metadata": {},
     "output_type": "execute_result"
    },
    {
     "data": {
      "image/png": "[encoded data removed]",
      "text/plain": [
       "<Figure size 720x504 with 1 Axes>"
      ]
     },
     "metadata": {
      "needs_background": "light"
     },
     "output_type": "display_data"
    }
   ],
   "source": [
    "plt.figure(figsize=FIG_SIZE) #pred의 분포 확인\n",
    "sns.distplot(pred)"
   ]
  },
  {
   "cell_type": "code",
   "execution_count": 103,
   "id": "a393bf05",
   "metadata": {},
   "outputs": [
    {
     "name": "stdout",
     "output_type": "stream",
     "text": [
      "0.2586006957866254\n"
     ]
    }
   ],
   "source": [
    "THRESHOLD = 0.5\n",
    "\n",
    "print(len(pred[pred >= THRESHOLD]) / len(pred[pred < THRESHOLD]))#0.5보다 낮은 확률이 더많다."
   ]
  },
  {
   "cell_type": "code",
   "execution_count": 104,
   "id": "10244a39",
   "metadata": {},
   "outputs": [
    {
     "name": "stdout",
     "output_type": "stream",
     "text": [
      "[0. 0. 1. ... 1. 0. 1.]\n"
     ]
    }
   ],
   "source": [
    "pred[pred >= THRESHOLD] = 1\n",
    "pred[pred < THRESHOLD] = 0 #이진으로 만들기 \n",
    "print(pred)"
   ]
  },
  {
   "cell_type": "code",
   "execution_count": 105,
   "id": "4a0fdee3",
   "metadata": {},
   "outputs": [
    {
     "data": {
      "text/plain": [
       "0.3172053885674987"
      ]
     },
     "execution_count": 105,
     "metadata": {},
     "output_type": "execute_result"
    }
   ],
   "source": [
    "income_pct = train['income'].value_counts()[1] / train['income'].value_counts()[0]#위의 값과 비교하기위해서 실질값 가져오기\n",
    "income_pct"
   ]
  },
  {
   "cell_type": "code",
   "execution_count": 111,
   "id": "165ad5fe",
   "metadata": {},
   "outputs": [
    {
     "data": {
      "image/png": "[encoded data removed]",
      "text/plain": [
       "<Figure size 720x432 with 2 Axes>"
      ]
     },
     "metadata": {
      "needs_background": "light"
     },
     "output_type": "display_data"
    }
   ],
   "source": [
    "plt.figure(figsize=(10, 6))\n",
    "plt.subplot(121)#if nrows = 1, ncols = 2, index = 1 -> 121 \n",
    "sns.countplot(pred)\n",
    "\n",
    "plt.subplot(122)\n",
    "sns.countplot(train['income'])\n",
    "plt.show()#그래프 형태는 거의 비슷하다."
   ]
  },
  {
   "cell_type": "code",
   "execution_count": 112,
   "id": "f13fb697",
   "metadata": {},
   "outputs": [
    {
     "name": "stdout",
     "output_type": "stream",
     "text": [
      "Collecting pycaret\n",
      "  Downloading pycaret-2.3.10-py3-none-any.whl (320 kB)\n",
      "Collecting umap-learn\n",
      "  Downloading umap-learn-0.5.3.tar.gz (88 kB)\n",
      "Collecting pyod\n",
      "  Downloading pyod-1.0.1.tar.gz (120 kB)\n",
      "Collecting mlflow\n",
      "  Downloading mlflow-1.26.0-py3-none-any.whl (17.8 MB)\n",
      "Requirement already satisfied: pandas in c:\\users\\2469l\\anaconda3\\lib\\site-packages (from pycaret) (1.3.4)\n",
      "Collecting yellowbrick>=1.0.1\n",
      "  Downloading yellowbrick-1.4-py3-none-any.whl (274 kB)\n",
      "Collecting pyLDAvis\n",
      "  Downloading pyLDAvis-3.3.1.tar.gz (1.7 MB)\n",
      "  Installing build dependencies: started\n",
      "  Installing build dependencies: finished with status 'done'\n",
      "  Getting requirements to build wheel: started\n",
      "  Getting requirements to build wheel: finished with status 'done'\n",
      "  Installing backend dependencies: started\n",
      "  Installing backend dependencies: finished with status 'done'\n",
      "    Preparing wheel metadata: started\n",
      "    Preparing wheel metadata: finished with status 'done'\n",
      "Collecting scipy<=1.5.4\n",
      "  Downloading scipy-1.5.4-cp39-cp39-win_amd64.whl (31.4 MB)\n",
      "Requirement already satisfied: seaborn in c:\\users\\2469l\\anaconda3\\lib\\site-packages (from pycaret) (0.11.2)\n",
      "Collecting Boruta\n",
      "  Downloading Boruta-0.3-py3-none-any.whl (56 kB)\n",
      "Collecting spacy<2.4.0\n",
      "  Downloading spacy-2.3.7-cp39-cp39-win_amd64.whl (9.4 MB)\n",
      "Collecting mlxtend>=0.17.0\n",
      "  Downloading mlxtend-0.19.0-py2.py3-none-any.whl (1.3 MB)\n",
      "Collecting pyyaml<6.0.0\n",
      "  Downloading PyYAML-5.4.1-cp39-cp39-win_amd64.whl (213 kB)\n",
      "Requirement already satisfied: lightgbm>=2.3.1 in c:\\users\\2469l\\anaconda3\\lib\\site-packages (from pycaret) (3.3.2)\n",
      "Collecting plotly>=4.4.1\n",
      "  Downloading plotly-5.8.0-py2.py3-none-any.whl (15.2 MB)\n",
      "Collecting kmodes>=0.10.1\n",
      "  Downloading kmodes-0.12.1-py2.py3-none-any.whl (20 kB)\n",
      "Collecting pandas-profiling>=2.8.0\n",
      "  Downloading pandas_profiling-3.2.0-py2.py3-none-any.whl (262 kB)\n",
      "Collecting scikit-plot\n",
      "  Downloading scikit_plot-0.3.7-py3-none-any.whl (33 kB)\n",
      "Collecting cufflinks>=0.17.0\n",
      "  Downloading cufflinks-0.17.3.tar.gz (81 kB)\n",
      "Collecting scikit-learn==0.23.2\n",
      "  Downloading scikit-learn-0.23.2.tar.gz (7.2 MB)\n",
      "  Installing build dependencies: started\n",
      "  Installing build dependencies: finished with status 'error'\n",
      "Collecting pycaret\n",
      "  Downloading pycaret-2.3.9-py3-none-any.whl (319 kB)\n",
      "  Downloading pycaret-2.3.8-py3-none-any.whl (318 kB)\n",
      "  Downloading pycaret-2.3.7-py3-none-any.whl (318 kB)\n",
      "  Downloading pycaret-2.3.6-py3-none-any.whl (301 kB)\n",
      "  Downloading pycaret-2.3.5-py3-none-any.whl (288 kB)\n",
      "Collecting numpy==1.19.5\n",
      "  Downloading numpy-1.19.5-cp39-cp39-win_amd64.whl (13.3 MB)\n",
      "Collecting pycaret\n",
      "  Downloading pycaret-2.3.4-py3-none-any.whl (266 kB)\n",
      "Collecting numba<0.54\n",
      "  Downloading numba-0.53.1-cp39-cp39-win_amd64.whl (2.3 MB)\n",
      "Collecting pycaret\n",
      "  Downloading pycaret-2.3.3-py3-none-any.whl (264 kB)\n",
      "  Downloading pycaret-2.3.2-py3-none-any.whl (263 kB)\n",
      "  Downloading pycaret-2.3.1-py3-none-any.whl (261 kB)\n",
      "  Downloading pycaret-2.3.0-py3-none-any.whl (261 kB)\n",
      "Collecting gensim\n",
      "  Downloading gensim-4.2.0-cp39-cp39-win_amd64.whl (23.9 MB)\n",
      "Collecting pycaret\n",
      "  Downloading pycaret-2.2.3-py3-none-any.whl (249 kB)\n",
      "Requirement already satisfied: numpy>=1.17 in c:\\users\\2469l\\anaconda3\\lib\\site-packages (from pycaret) (1.20.3)\n",
      "Collecting spacy\n",
      "  Downloading spacy-3.3.0-cp39-cp39-win_amd64.whl (11.6 MB)\n",
      "Collecting pycaret\n",
      "  Downloading pycaret-2.2.2-py3-none-any.whl (249 kB)\n",
      "Requirement already satisfied: scikit-learn>=0.23.2 in c:\\users\\2469l\\anaconda3\\lib\\site-packages (from pycaret) (1.0.2)\n",
      "Collecting catboost>=0.23.2\n",
      "  Downloading catboost-1.0.6-cp39-none-win_amd64.whl (73.9 MB)\n",
      "Collecting imbalanced-learn>=0.7.0\n",
      "  Downloading imbalanced_learn-0.9.1-py3-none-any.whl (199 kB)\n",
      "Requirement already satisfied: joblib in c:\\users\\2469l\\anaconda3\\lib\\site-packages (from pycaret) (1.1.0)\n",
      "Requirement already satisfied: nltk in c:\\users\\2469l\\anaconda3\\lib\\site-packages (from pycaret) (3.6.5)\n",
      "Requirement already satisfied: matplotlib in c:\\users\\2469l\\anaconda3\\lib\\site-packages (from pycaret) (3.4.3)\n",
      "Collecting xgboost>=1.1.0\n",
      "  Downloading xgboost-1.6.1-py3-none-win_amd64.whl (125.4 MB)\n",
      "Requirement already satisfied: IPython in c:\\users\\2469l\\anaconda3\\lib\\site-packages (from pycaret) (7.29.0)\n",
      "Collecting textblob\n",
      "  Downloading textblob-0.17.1-py2.py3-none-any.whl (636 kB)\n",
      "Collecting wordcloud\n",
      "  Downloading wordcloud-1.8.1.tar.gz (220 kB)\n",
      "Requirement already satisfied: ipywidgets in c:\\users\\2469l\\anaconda3\\lib\\site-packages (from pycaret) (7.6.5)\n",
      "Requirement already satisfied: scipy in c:\\users\\2469l\\anaconda3\\lib\\site-packages (from catboost>=0.23.2->pycaret) (1.7.1)\n",
      "Requirement already satisfied: graphviz in c:\\users\\2469l\\anaconda3\\lib\\site-packages (from catboost>=0.23.2->pycaret) (0.20)\n",
      "Requirement already satisfied: six in c:\\users\\2469l\\anaconda3\\lib\\site-packages (from catboost>=0.23.2->pycaret) (1.16.0)\n",
      "Collecting colorlover>=0.2.1\n",
      "  Downloading colorlover-0.3.0-py3-none-any.whl (8.9 kB)\n",
      "Requirement already satisfied: setuptools>=34.4.1 in c:\\users\\2469l\\anaconda3\\lib\\site-packages (from cufflinks>=0.17.0->pycaret) (58.0.4)\n",
      "Requirement already satisfied: threadpoolctl>=2.0.0 in c:\\users\\2469l\\anaconda3\\lib\\site-packages (from imbalanced-learn>=0.7.0->pycaret) (2.2.0)\n",
      "Collecting scikit-learn>=0.23.2\n",
      "  Downloading scikit_learn-1.1.1-cp39-cp39-win_amd64.whl (7.4 MB)\n",
      "Requirement already satisfied: matplotlib-inline in c:\\users\\2469l\\anaconda3\\lib\\site-packages (from IPython->pycaret) (0.1.2)\n",
      "Requirement already satisfied: decorator in c:\\users\\2469l\\anaconda3\\lib\\site-packages (from IPython->pycaret) (5.1.0)\n",
      "Requirement already satisfied: prompt-toolkit!=3.0.0,!=3.0.1,<3.1.0,>=2.0.0 in c:\\users\\2469l\\anaconda3\\lib\\site-packages (from IPython->pycaret) (3.0.20)\n",
      "Requirement already satisfied: pickleshare in c:\\users\\2469l\\anaconda3\\lib\\site-packages (from IPython->pycaret) (0.7.5)\n",
      "Requirement already satisfied: backcall in c:\\users\\2469l\\anaconda3\\lib\\site-packages (from IPython->pycaret) (0.2.0)\n",
      "Requirement already satisfied: jedi>=0.16 in c:\\users\\2469l\\anaconda3\\lib\\site-packages (from IPython->pycaret) (0.18.0)\n",
      "Requirement already satisfied: traitlets>=4.2 in c:\\users\\2469l\\anaconda3\\lib\\site-packages (from IPython->pycaret) (5.1.0)\n",
      "Requirement already satisfied: colorama in c:\\users\\2469l\\anaconda3\\lib\\site-packages (from IPython->pycaret) (0.4.4)\n",
      "Requirement already satisfied: pygments in c:\\users\\2469l\\anaconda3\\lib\\site-packages (from IPython->pycaret) (2.10.0)\n",
      "Requirement already satisfied: widgetsnbextension~=3.5.0 in c:\\users\\2469l\\anaconda3\\lib\\site-packages (from ipywidgets->pycaret) (3.5.1)\n",
      "Requirement already satisfied: nbformat>=4.2.0 in c:\\users\\2469l\\anaconda3\\lib\\site-packages (from ipywidgets->pycaret) (5.1.3)\n",
      "Requirement already satisfied: ipython-genutils~=0.2.0 in c:\\users\\2469l\\anaconda3\\lib\\site-packages (from ipywidgets->pycaret) (0.2.0)\n",
      "Requirement already satisfied: ipykernel>=4.5.1 in c:\\users\\2469l\\anaconda3\\lib\\site-packages (from ipywidgets->pycaret) (6.4.1)\n",
      "Requirement already satisfied: jupyterlab-widgets>=1.0.0 in c:\\users\\2469l\\anaconda3\\lib\\site-packages (from ipywidgets->pycaret) (1.0.0)\n",
      "Requirement already satisfied: debugpy<2.0,>=1.0.0 in c:\\users\\2469l\\anaconda3\\lib\\site-packages (from ipykernel>=4.5.1->ipywidgets->pycaret) (1.4.1)\n",
      "Requirement already satisfied: tornado<7.0,>=4.2 in c:\\users\\2469l\\anaconda3\\lib\\site-packages (from ipykernel>=4.5.1->ipywidgets->pycaret) (6.1)\n",
      "Requirement already satisfied: jupyter-client<8.0 in c:\\users\\2469l\\anaconda3\\lib\\site-packages (from ipykernel>=4.5.1->ipywidgets->pycaret) (6.1.12)\n",
      "Requirement already satisfied: parso<0.9.0,>=0.8.0 in c:\\users\\2469l\\anaconda3\\lib\\site-packages (from jedi>=0.16->IPython->pycaret) (0.8.2)\n",
      "Requirement already satisfied: jupyter-core>=4.6.0 in c:\\users\\2469l\\anaconda3\\lib\\site-packages (from jupyter-client<8.0->ipykernel>=4.5.1->ipywidgets->pycaret) (4.8.1)\n",
      "Requirement already satisfied: pyzmq>=13 in c:\\users\\2469l\\anaconda3\\lib\\site-packages (from jupyter-client<8.0->ipykernel>=4.5.1->ipywidgets->pycaret) (22.2.1)\n",
      "Requirement already satisfied: python-dateutil>=2.1 in c:\\users\\2469l\\anaconda3\\lib\\site-packages (from jupyter-client<8.0->ipykernel>=4.5.1->ipywidgets->pycaret) (2.8.2)\n",
      "Requirement already satisfied: pywin32>=1.0 in c:\\users\\2469l\\anaconda3\\lib\\site-packages (from jupyter-core>=4.6.0->jupyter-client<8.0->ipykernel>=4.5.1->ipywidgets->pycaret) (228)\n",
      "Requirement already satisfied: wheel in c:\\users\\2469l\\anaconda3\\lib\\site-packages (from lightgbm>=2.3.1->pycaret) (0.37.0)\n",
      "Requirement already satisfied: jsonschema!=2.5.0,>=2.4 in c:\\users\\2469l\\anaconda3\\lib\\site-packages (from nbformat>=4.2.0->ipywidgets->pycaret) (3.2.0)\n",
      "Requirement already satisfied: attrs>=17.4.0 in c:\\users\\2469l\\anaconda3\\lib\\site-packages (from jsonschema!=2.5.0,>=2.4->nbformat>=4.2.0->ipywidgets->pycaret) (21.2.0)\n",
      "Requirement already satisfied: pyrsistent>=0.14.0 in c:\\users\\2469l\\anaconda3\\lib\\site-packages (from jsonschema!=2.5.0,>=2.4->nbformat>=4.2.0->ipywidgets->pycaret) (0.18.0)\n",
      "Requirement already satisfied: pytz>=2017.3 in c:\\users\\2469l\\anaconda3\\lib\\site-packages (from pandas->pycaret) (2021.3)\n",
      "Collecting tangled-up-in-unicode==0.2.0\n",
      "  Downloading tangled_up_in_unicode-0.2.0-py3-none-any.whl (4.7 MB)\n",
      "Requirement already satisfied: jinja2>=2.11.1 in c:\\users\\2469l\\anaconda3\\lib\\site-packages (from pandas-profiling>=2.8.0->pycaret) (2.11.3)\n",
      "Requirement already satisfied: PyYAML>=5.0.0 in c:\\users\\2469l\\anaconda3\\lib\\site-packages (from pandas-profiling>=2.8.0->pycaret) (6.0)\n",
      "Requirement already satisfied: tqdm>=4.48.2 in c:\\users\\2469l\\anaconda3\\lib\\site-packages (from pandas-profiling>=2.8.0->pycaret) (4.62.3)\n",
      "Collecting phik>=0.11.1\n",
      "  Downloading phik-0.12.2-cp39-cp39-win_amd64.whl (685 kB)\n",
      "Collecting missingno>=0.4.2\n",
      "  Downloading missingno-0.5.1-py3-none-any.whl (8.7 kB)\n",
      "Collecting markupsafe~=2.1.1\n",
      "  Downloading MarkupSafe-2.1.1-cp39-cp39-win_amd64.whl (17 kB)\n",
      "Requirement already satisfied: requests>=2.24.0 in c:\\users\\2469l\\anaconda3\\lib\\site-packages (from pandas-profiling>=2.8.0->pycaret) (2.26.0)\n",
      "Collecting visions[type_image_path]==0.7.4\n",
      "  Downloading visions-0.7.4-py3-none-any.whl (102 kB)\n",
      "Collecting multimethod>=1.4\n",
      "  Downloading multimethod-1.8-py3-none-any.whl (9.8 kB)\n",
      "Collecting htmlmin>=0.1.12\n",
      "  Downloading htmlmin-0.1.12.tar.gz (19 kB)\n",
      "Collecting pydantic>=1.8.1\n",
      "  Downloading pydantic-1.9.1-cp39-cp39-win_amd64.whl (2.0 MB)\n",
      "Requirement already satisfied: networkx>=2.4 in c:\\users\\2469l\\anaconda3\\lib\\site-packages (from visions[type_image_path]==0.7.4->pandas-profiling>=2.8.0->pycaret) (2.6.3)\n",
      "Collecting imagehash\n",
      "  Downloading ImageHash-4.2.1.tar.gz (812 kB)\n",
      "Requirement already satisfied: Pillow in c:\\users\\2469l\\anaconda3\\lib\\site-packages (from visions[type_image_path]==0.7.4->pandas-profiling>=2.8.0->pycaret) (8.4.0)\n",
      "Requirement already satisfied: pyparsing>=2.2.1 in c:\\users\\2469l\\anaconda3\\lib\\site-packages (from matplotlib->pycaret) (3.0.4)\n",
      "Requirement already satisfied: kiwisolver>=1.0.1 in c:\\users\\2469l\\anaconda3\\lib\\site-packages (from matplotlib->pycaret) (1.3.1)\n",
      "Requirement already satisfied: cycler>=0.10 in c:\\users\\2469l\\anaconda3\\lib\\site-packages (from matplotlib->pycaret) (0.10.0)\n",
      "Collecting tenacity>=6.2.0\n",
      "  Downloading tenacity-8.0.1-py3-none-any.whl (24 kB)\n",
      "Requirement already satisfied: wcwidth in c:\\users\\2469l\\anaconda3\\lib\\site-packages (from prompt-toolkit!=3.0.0,!=3.0.1,<3.1.0,>=2.0.0->IPython->pycaret) (0.2.5)\n",
      "Requirement already satisfied: typing-extensions>=3.7.4.3 in c:\\users\\2469l\\anaconda3\\lib\\site-packages (from pydantic>=1.8.1->pandas-profiling>=2.8.0->pycaret) (3.10.0.2)\n",
      "Requirement already satisfied: idna<4,>=2.5 in c:\\users\\2469l\\anaconda3\\lib\\site-packages (from requests>=2.24.0->pandas-profiling>=2.8.0->pycaret) (3.2)\n",
      "Requirement already satisfied: urllib3<1.27,>=1.21.1 in c:\\users\\2469l\\anaconda3\\lib\\site-packages (from requests>=2.24.0->pandas-profiling>=2.8.0->pycaret) (1.26.7)\n",
      "Requirement already satisfied: certifi>=2017.4.17 in c:\\users\\2469l\\anaconda3\\lib\\site-packages (from requests>=2.24.0->pandas-profiling>=2.8.0->pycaret) (2021.10.8)\n",
      "Requirement already satisfied: charset-normalizer~=2.0.0 in c:\\users\\2469l\\anaconda3\\lib\\site-packages (from requests>=2.24.0->pandas-profiling>=2.8.0->pycaret) (2.0.4)\n",
      "Requirement already satisfied: notebook>=4.4.1 in c:\\users\\2469l\\anaconda3\\lib\\site-packages (from widgetsnbextension~=3.5.0->ipywidgets->pycaret) (6.4.5)\n",
      "Requirement already satisfied: prometheus-client in c:\\users\\2469l\\anaconda3\\lib\\site-packages (from notebook>=4.4.1->widgetsnbextension~=3.5.0->ipywidgets->pycaret) (0.11.0)\n",
      "Requirement already satisfied: terminado>=0.8.3 in c:\\users\\2469l\\anaconda3\\lib\\site-packages (from notebook>=4.4.1->widgetsnbextension~=3.5.0->ipywidgets->pycaret) (0.9.4)\n",
      "Requirement already satisfied: nbconvert in c:\\users\\2469l\\anaconda3\\lib\\site-packages (from notebook>=4.4.1->widgetsnbextension~=3.5.0->ipywidgets->pycaret) (6.1.0)\n",
      "Requirement already satisfied: argon2-cffi in c:\\users\\2469l\\anaconda3\\lib\\site-packages (from notebook>=4.4.1->widgetsnbextension~=3.5.0->ipywidgets->pycaret) (20.1.0)\n",
      "Requirement already satisfied: Send2Trash>=1.5.0 in c:\\users\\2469l\\anaconda3\\lib\\site-packages (from notebook>=4.4.1->widgetsnbextension~=3.5.0->ipywidgets->pycaret) (1.8.0)\n",
      "Requirement already satisfied: pywinpty>=0.5 in c:\\users\\2469l\\anaconda3\\lib\\site-packages (from terminado>=0.8.3->notebook>=4.4.1->widgetsnbextension~=3.5.0->ipywidgets->pycaret) (0.5.7)\n",
      "Requirement already satisfied: cffi>=1.0.0 in c:\\users\\2469l\\anaconda3\\lib\\site-packages (from argon2-cffi->notebook>=4.4.1->widgetsnbextension~=3.5.0->ipywidgets->pycaret) (1.14.6)\n",
      "Requirement already satisfied: pycparser in c:\\users\\2469l\\anaconda3\\lib\\site-packages (from cffi>=1.0.0->argon2-cffi->notebook>=4.4.1->widgetsnbextension~=3.5.0->ipywidgets->pycaret) (2.20)\n",
      "Collecting smart-open>=1.8.1\n",
      "  Downloading smart_open-6.0.0-py3-none-any.whl (58 kB)\n",
      "Collecting Cython==0.29.28\n",
      "  Downloading Cython-0.29.28-py2.py3-none-any.whl (983 kB)\n",
      "Requirement already satisfied: PyWavelets in c:\\users\\2469l\\anaconda3\\lib\\site-packages (from imagehash->visions[type_image_path]==0.7.4->pandas-profiling>=2.8.0->pycaret) (1.1.1)\n",
      "Collecting alembic\n",
      "  Downloading alembic-1.7.7-py3-none-any.whl (210 kB)\n",
      "Requirement already satisfied: packaging in c:\\users\\2469l\\anaconda3\\lib\\site-packages (from mlflow->pycaret) (21.0)\n",
      "Collecting querystring-parser\n",
      "  Downloading querystring_parser-1.2.4-py2.py3-none-any.whl (7.9 kB)\n",
      "Requirement already satisfied: click>=7.0 in c:\\users\\2469l\\anaconda3\\lib\\site-packages (from mlflow->pycaret) (8.0.3)\n",
      "Collecting prometheus-flask-exporter\n",
      "  Downloading prometheus_flask_exporter-0.20.1-py3-none-any.whl (18 kB)\n",
      "Collecting sqlparse>=0.3.1\n",
      "  Downloading sqlparse-0.4.2-py3-none-any.whl (42 kB)\n",
      "Collecting databricks-cli>=0.8.7\n",
      "  Downloading databricks-cli-0.16.6.tar.gz (62 kB)\n",
      "Collecting gitpython>=2.1.0\n",
      "  Downloading GitPython-3.1.27-py3-none-any.whl (181 kB)\n",
      "Requirement already satisfied: Flask in c:\\users\\2469l\\anaconda3\\lib\\site-packages (from mlflow->pycaret) (1.1.2)\n",
      "Requirement already satisfied: cloudpickle in c:\\users\\2469l\\anaconda3\\lib\\site-packages (from mlflow->pycaret) (2.0.0)\n",
      "Requirement already satisfied: importlib-metadata!=4.7.0,>=3.7.0 in c:\\users\\2469l\\anaconda3\\lib\\site-packages (from mlflow->pycaret) (4.8.1)\n",
      "Requirement already satisfied: sqlalchemy in c:\\users\\2469l\\anaconda3\\lib\\site-packages (from mlflow->pycaret) (1.4.22)\n",
      "Collecting docker>=4.0.0\n",
      "  Downloading docker-5.0.3-py2.py3-none-any.whl (146 kB)\n",
      "Collecting waitress\n",
      "  Downloading waitress-2.1.1-py3-none-any.whl (57 kB)\n",
      "Requirement already satisfied: entrypoints in c:\\users\\2469l\\anaconda3\\lib\\site-packages (from mlflow->pycaret) (0.3)\n",
      "Collecting protobuf>=3.7.0\n",
      "  Downloading protobuf-3.20.1-cp39-cp39-win_amd64.whl (904 kB)\n",
      "Requirement already satisfied: pyjwt>=1.7.0 in c:\\users\\2469l\\anaconda3\\lib\\site-packages (from databricks-cli>=0.8.7->mlflow->pycaret) (2.1.0)\n",
      "Collecting oauthlib>=3.1.0\n",
      "  Downloading oauthlib-3.2.0-py3-none-any.whl (151 kB)\n",
      "Collecting tabulate>=0.7.7\n",
      "  Downloading tabulate-0.8.9-py3-none-any.whl (25 kB)\n",
      "Collecting websocket-client>=0.32.0\n",
      "  Downloading websocket_client-1.3.2-py3-none-any.whl (54 kB)\n",
      "Collecting pywin32>=1.0\n",
      "  Downloading pywin32-227-cp39-cp39-win_amd64.whl (9.1 MB)\n",
      "Collecting gitdb<5,>=4.0.1\n",
      "  Downloading gitdb-4.0.9-py3-none-any.whl (63 kB)\n",
      "Collecting smmap<6,>=3.0.1\n",
      "  Downloading smmap-5.0.0-py3-none-any.whl (24 kB)\n",
      "Requirement already satisfied: zipp>=0.5 in c:\\users\\2469l\\anaconda3\\lib\\site-packages (from importlib-metadata!=4.7.0,>=3.7.0->mlflow->pycaret) (3.6.0)\n",
      "Collecting Mako\n",
      "  Downloading Mako-1.2.0-py3-none-any.whl (78 kB)\n",
      "Requirement already satisfied: greenlet!=0.4.17 in c:\\users\\2469l\\anaconda3\\lib\\site-packages (from sqlalchemy->mlflow->pycaret) (1.1.1)\n",
      "Requirement already satisfied: itsdangerous>=0.24 in c:\\users\\2469l\\anaconda3\\lib\\site-packages (from Flask->mlflow->pycaret) (2.0.1)\n",
      "Requirement already satisfied: Werkzeug>=0.15 in c:\\users\\2469l\\anaconda3\\lib\\site-packages (from Flask->mlflow->pycaret) (2.0.2)\n",
      "Requirement already satisfied: bleach in c:\\users\\2469l\\anaconda3\\lib\\site-packages (from nbconvert->notebook>=4.4.1->widgetsnbextension~=3.5.0->ipywidgets->pycaret) (4.0.0)\n"
     ]
    },
    {
     "name": "stderr",
     "output_type": "stream",
     "text": [
      "  ERROR: Command errored out with exit status 1:\n",
      "   command: 'C:\\Users\\2469l\\anaconda3\\python.exe' 'C:\\Users\\2469l\\AppData\\Local\\Temp\\pip-standalone-pip-j3h3w2io\\__env_pip__.zip\\pip' install --ignore-installed --no-user --prefix 'C:\\Users\\2469l\\AppData\\Local\\Temp\\pip-build-env-b7m1v9sq\\overlay' --no-warn-script-location --no-binary :none: --only-binary :none: -i https://pypi.org/simple -- setuptools wheel 'Cython>=0.28.5' 'numpy==1.13.3; python_version=='\"'\"'3.6'\"'\"' and platform_system!='\"'\"'AIX'\"'\"' and platform_python_implementation == '\"'\"'CPython'\"'\"'' 'numpy==1.14.0; python_version=='\"'\"'3.6'\"'\"' and platform_system!='\"'\"'AIX'\"'\"' and platform_python_implementation != '\"'\"'CPython'\"'\"'' 'numpy==1.14.5; python_version=='\"'\"'3.7'\"'\"' and platform_system!='\"'\"'AIX'\"'\"'' 'numpy==1.17.3; python_version>='\"'\"'3.8'\"'\"' and platform_system!='\"'\"'AIX'\"'\"'' 'numpy==1.16.0; python_version=='\"'\"'3.6'\"'\"' and platform_system=='\"'\"'AIX'\"'\"'' 'numpy==1.16.0; python_version=='\"'\"'3.7'\"'\"' and platform_system=='\"'\"'AIX'\"'\"'' 'numpy==1.17.3; python_version>='\"'\"'3.8'\"'\"' and platform_system=='\"'\"'AIX'\"'\"'' 'scipy>=0.19.1'\n",
      "       cwd: None\n",
      "  Complete output (593 lines):\n",
      "  Ignoring numpy: markers 'python_version == \"3.6\" and platform_system != \"AIX\" and platform_python_implementation == \"CPython\"' don't match your environment\n",
      "  Ignoring numpy: markers 'python_version == \"3.6\" and platform_system != \"AIX\" and platform_python_implementation != \"CPython\"' don't match your environment\n",
      "  Ignoring numpy: markers 'python_version == \"3.7\" and platform_system != \"AIX\"' don't match your environment\n",
      "  Ignoring numpy: markers 'python_version == \"3.6\" and platform_system == \"AIX\"' don't match your environment\n",
      "  Ignoring numpy: markers 'python_version == \"3.7\" and platform_system == \"AIX\"' don't match your environment\n",
      "  Ignoring numpy: markers 'python_version >= \"3.8\" and platform_system == \"AIX\"' don't match your environment\n",
      "  Collecting setuptools\n",
      "    Using cached setuptools-62.3.2-py3-none-any.whl (1.2 MB)\n",
      "  Collecting wheel\n",
      "    Using cached wheel-0.37.1-py2.py3-none-any.whl (35 kB)\n",
      "  Collecting Cython>=0.28.5\n",
      "    Downloading Cython-0.29.30-py2.py3-none-any.whl (985 kB)\n",
      "  Collecting numpy==1.17.3\n",
      "    Downloading numpy-1.17.3.zip (6.4 MB)\n",
      "  Collecting scipy>=0.19.1\n",
      "    Downloading scipy-1.8.1-cp39-cp39-win_amd64.whl (36.9 MB)\n",
      "  Building wheels for collected packages: numpy\n",
      "    Building wheel for numpy (setup.py): started\n",
      "    Building wheel for numpy (setup.py): finished with status 'error'\n",
      "    ERROR: Command errored out with exit status 1:\n",
      "     command: 'C:\\Users\\2469l\\anaconda3\\python.exe' -u -c 'import io, os, sys, setuptools, tokenize; sys.argv[0] = '\"'\"'C:\\\\Users\\\\2469l\\\\AppData\\\\Local\\\\Temp\\\\pip-install-vvr2sobp\\\\numpy_6ecd5c408ed348f2af60d7b27c208602\\\\setup.py'\"'\"'; __file__='\"'\"'C:\\\\Users\\\\2469l\\\\AppData\\\\Local\\\\Temp\\\\pip-install-vvr2sobp\\\\numpy_6ecd5c408ed348f2af60d7b27c208602\\\\setup.py'\"'\"';f = getattr(tokenize, '\"'\"'open'\"'\"', open)(__file__) if os.path.exists(__file__) else io.StringIO('\"'\"'from setuptools import setup; setup()'\"'\"');code = f.read().replace('\"'\"'\\r\\n'\"'\"', '\"'\"'\\n'\"'\"');f.close();exec(compile(code, __file__, '\"'\"'exec'\"'\"'))' bdist_wheel -d 'C:\\Users\\2469l\\AppData\\Local\\Temp\\pip-wheel-ti41j2_5'\n",
      "         cwd: C:\\Users\\2469l\\AppData\\Local\\Temp\\pip-install-vvr2sobp\\numpy_6ecd5c408ed348f2af60d7b27c208602\\\n",
      "    Complete output (268 lines):\n",
      "    Running from numpy source directory.\n",
      "    blas_opt_info:\n",
      "    blas_mkl_info:\n",
      "    No module named 'numpy.distutils._msvccompiler' in numpy.distutils; trying from distutils\n",
      "    customize MSVCCompiler\n",
      "      libraries mkl_rt not found in ['C:\\\\Users\\\\2469l\\\\anaconda3\\\\lib', 'C:\\\\', 'C:\\\\Users\\\\2469l\\\\anaconda3\\\\libs']\n",
      "      NOT AVAILABLE\n",
      "  \n",
      "    blis_info:\n",
      "    No module named 'numpy.distutils._msvccompiler' in numpy.distutils; trying from distutils\n",
      "    customize MSVCCompiler\n",
      "      libraries blis not found in ['C:\\\\Users\\\\2469l\\\\anaconda3\\\\lib', 'C:\\\\', 'C:\\\\Users\\\\2469l\\\\anaconda3\\\\libs']\n",
      "      NOT AVAILABLE\n",
      "  \n",
      "    openblas_info:\n",
      "    No module named 'numpy.distutils._msvccompiler' in numpy.distutils; trying from distutils\n",
      "    customize MSVCCompiler\n",
      "    No module named 'numpy.distutils._msvccompiler' in numpy.distutils; trying from distutils\n",
      "    customize MSVCCompiler\n",
      "      libraries openblas not found in ['C:\\\\Users\\\\2469l\\\\anaconda3\\\\lib', 'C:\\\\', 'C:\\\\Users\\\\2469l\\\\anaconda3\\\\libs']\n",
      "    get_default_fcompiler: matching types: '['gnu', 'intelv', 'absoft', 'compaqv', 'intelev', 'gnu95', 'g95', 'intelvem', 'intelem', 'flang']'\n",
      "    customize GnuFCompiler\n",
      "    Could not locate executable g77\n",
      "    Could not locate executable f77\n",
      "    customize IntelVisualFCompiler\n",
      "    Could not locate executable ifort\n",
      "    Could not locate executable ifl\n",
      "    customize AbsoftFCompiler\n",
      "    Could not locate executable f90\n",
      "    customize CompaqVisualFCompiler\n",
      "    Could not locate executable DF\n",
      "    customize IntelItaniumVisualFCompiler\n",
      "    Could not locate executable efl\n",
      "    customize Gnu95FCompiler\n",
      "    Could not locate executable gfortran\n",
      "    Could not locate executable f95\n",
      "    customize G95FCompiler\n",
      "    Could not locate executable g95\n",
      "    customize IntelEM64VisualFCompiler\n",
      "    customize IntelEM64TFCompiler\n",
      "    Could not locate executable efort\n",
      "    Could not locate executable efc\n",
      "    customize PGroupFlangCompiler\n",
      "    Could not locate executable flang\n",
      "    don't know how to compile Fortran code on platform 'nt'\n",
      "      NOT AVAILABLE\n",
      "  \n",
      "    atlas_3_10_blas_threads_info:\n",
      "    Setting PTATLAS=ATLAS\n",
      "    No module named 'numpy.distutils._msvccompiler' in numpy.distutils; trying from distutils\n",
      "    customize MSVCCompiler\n",
      "      libraries tatlas not found in ['C:\\\\Users\\\\2469l\\\\anaconda3\\\\lib', 'C:\\\\', 'C:\\\\Users\\\\2469l\\\\anaconda3\\\\libs']\n",
      "      NOT AVAILABLE\n",
      "  \n",
      "    atlas_3_10_blas_info:\n",
      "    No module named 'numpy.distutils._msvccompiler' in numpy.distutils; trying from distutils\n",
      "    customize MSVCCompiler\n",
      "      libraries satlas not found in ['C:\\\\Users\\\\2469l\\\\anaconda3\\\\lib', 'C:\\\\', 'C:\\\\Users\\\\2469l\\\\anaconda3\\\\libs']\n",
      "      NOT AVAILABLE\n",
      "  \n",
      "    atlas_blas_threads_info:\n",
      "    Setting PTATLAS=ATLAS\n",
      "    No module named 'numpy.distutils._msvccompiler' in numpy.distutils; trying from distutils\n",
      "    customize MSVCCompiler\n",
      "      libraries ptf77blas,ptcblas,atlas not found in ['C:\\\\Users\\\\2469l\\\\anaconda3\\\\lib', 'C:\\\\', 'C:\\\\Users\\\\2469l\\\\anaconda3\\\\libs']\n",
      "      NOT AVAILABLE\n",
      "  \n",
      "    atlas_blas_info:\n",
      "    No module named 'numpy.distutils._msvccompiler' in numpy.distutils; trying from distutils\n",
      "    customize MSVCCompiler\n",
      "      libraries f77blas,cblas,atlas not found in ['C:\\\\Users\\\\2469l\\\\anaconda3\\\\lib', 'C:\\\\', 'C:\\\\Users\\\\2469l\\\\anaconda3\\\\libs']\n",
      "      NOT AVAILABLE\n",
      "  \n",
      "    accelerate_info:\n",
      "      NOT AVAILABLE\n",
      "  \n",
      "    C:\\Users\\2469l\\AppData\\Local\\Temp\\pip-install-vvr2sobp\\numpy_6ecd5c408ed348f2af60d7b27c208602\\numpy\\distutils\\system_info.py:690: UserWarning:\n",
      "        Optimized (vendor) Blas libraries are not found.\n",
      "        Falls back to netlib Blas library which has worse performance.\n",
      "        A better performance should be easily gained by switching\n",
      "        Blas library.\n",
      "      self.calc_info()\n",
      "    blas_info:\n",
      "    No module named 'numpy.distutils._msvccompiler' in numpy.distutils; trying from distutils\n",
      "    customize MSVCCompiler\n",
      "      libraries blas not found in ['C:\\\\Users\\\\2469l\\\\anaconda3\\\\lib', 'C:\\\\', 'C:\\\\Users\\\\2469l\\\\anaconda3\\\\libs']\n",
      "      NOT AVAILABLE\n",
      "  \n",
      "    C:\\Users\\2469l\\AppData\\Local\\Temp\\pip-install-vvr2sobp\\numpy_6ecd5c408ed348f2af60d7b27c208602\\numpy\\distutils\\system_info.py:690: UserWarning:\n",
      "        Blas (http://www.netlib.org/blas/) libraries not found.\n",
      "        Directories to search for the libraries can be specified in the\n",
      "        numpy/distutils/site.cfg file (section [blas]) or by setting\n",
      "        the BLAS environment variable.\n",
      "      self.calc_info()\n",
      "    blas_src_info:\n",
      "      NOT AVAILABLE\n",
      "  \n",
      "    C:\\Users\\2469l\\AppData\\Local\\Temp\\pip-install-vvr2sobp\\numpy_6ecd5c408ed348f2af60d7b27c208602\\numpy\\distutils\\system_info.py:690: UserWarning:\n",
      "        Blas (http://www.netlib.org/blas/) sources not found.\n",
      "        Directories to search for the sources can be specified in the\n",
      "        numpy/distutils/site.cfg file (section [blas_src]) or by setting\n",
      "        the BLAS_SRC environment variable.\n",
      "      self.calc_info()\n",
      "      NOT AVAILABLE\n",
      "  \n",
      "    'svnversion'은(는) 내부 또는 외부 명령, 실행할 수 있는 프로그램, 또는\n",
      "    배치 파일이 아닙니다.\n",
      "    non-existing path in 'numpy\\\\distutils': 'site.cfg'\n",
      "    lapack_opt_info:\n",
      "    lapack_mkl_info:\n",
      "    No module named 'numpy.distutils._msvccompiler' in numpy.distutils; trying from distutils\n",
      "    customize MSVCCompiler\n",
      "      libraries mkl_rt not found in ['C:\\\\Users\\\\2469l\\\\anaconda3\\\\lib', 'C:\\\\', 'C:\\\\Users\\\\2469l\\\\anaconda3\\\\libs']\n",
      "      NOT AVAILABLE\n",
      "  \n",
      "    openblas_lapack_info:\n",
      "    No module named 'numpy.distutils._msvccompiler' in numpy.distutils; trying from distutils\n",
      "    customize MSVCCompiler\n",
      "    No module named 'numpy.distutils._msvccompiler' in numpy.distutils; trying from distutils\n",
      "    customize MSVCCompiler\n",
      "      libraries openblas not found in ['C:\\\\Users\\\\2469l\\\\anaconda3\\\\lib', 'C:\\\\', 'C:\\\\Users\\\\2469l\\\\anaconda3\\\\libs']\n",
      "      NOT AVAILABLE\n",
      "  \n",
      "    openblas_clapack_info:\n",
      "    No module named 'numpy.distutils._msvccompiler' in numpy.distutils; trying from distutils\n",
      "    customize MSVCCompiler\n",
      "    No module named 'numpy.distutils._msvccompiler' in numpy.distutils; trying from distutils\n",
      "    customize MSVCCompiler\n",
      "      libraries openblas,lapack not found in ['C:\\\\Users\\\\2469l\\\\anaconda3\\\\lib', 'C:\\\\', 'C:\\\\Users\\\\2469l\\\\anaconda3\\\\libs']\n",
      "      NOT AVAILABLE\n",
      "  \n",
      "    flame_info:\n",
      "    No module named 'numpy.distutils._msvccompiler' in numpy.distutils; trying from distutils\n",
      "    customize MSVCCompiler\n",
      "      libraries flame not found in ['C:\\\\Users\\\\2469l\\\\anaconda3\\\\lib', 'C:\\\\', 'C:\\\\Users\\\\2469l\\\\anaconda3\\\\libs']\n",
      "      NOT AVAILABLE\n",
      "  \n",
      "    atlas_3_10_threads_info:\n",
      "    Setting PTATLAS=ATLAS\n",
      "    No module named 'numpy.distutils._msvccompiler' in numpy.distutils; trying from distutils\n",
      "    customize MSVCCompiler\n",
      "      libraries lapack_atlas not found in C:\\Users\\2469l\\anaconda3\\lib\n",
      "    No module named 'numpy.distutils._msvccompiler' in numpy.distutils; trying from distutils\n",
      "    customize MSVCCompiler\n",
      "      libraries tatlas,tatlas not found in C:\\Users\\2469l\\anaconda3\\lib\n",
      "    No module named 'numpy.distutils._msvccompiler' in numpy.distutils; trying from distutils\n",
      "    customize MSVCCompiler\n",
      "      libraries lapack_atlas not found in C:\\\n",
      "    No module named 'numpy.distutils._msvccompiler' in numpy.distutils; trying from distutils\n",
      "    customize MSVCCompiler\n",
      "      libraries tatlas,tatlas not found in C:\\\n",
      "    No module named 'numpy.distutils._msvccompiler' in numpy.distutils; trying from distutils\n",
      "    customize MSVCCompiler\n",
      "      libraries lapack_atlas not found in C:\\Users\\2469l\\anaconda3\\libs\n",
      "    No module named 'numpy.distutils._msvccompiler' in numpy.distutils; trying from distutils\n",
      "    customize MSVCCompiler\n",
      "      libraries tatlas,tatlas not found in C:\\Users\\2469l\\anaconda3\\libs\n",
      "    <class 'numpy.distutils.system_info.atlas_3_10_threads_info'>\n",
      "      NOT AVAILABLE\n",
      "  \n",
      "    atlas_3_10_info:\n",
      "    No module named 'numpy.distutils._msvccompiler' in numpy.distutils; trying from distutils\n",
      "    customize MSVCCompiler\n",
      "      libraries lapack_atlas not found in C:\\Users\\2469l\\anaconda3\\lib\n",
      "    No module named 'numpy.distutils._msvccompiler' in numpy.distutils; trying from distutils\n",
      "    customize MSVCCompiler\n",
      "      libraries satlas,satlas not found in C:\\Users\\2469l\\anaconda3\\lib\n",
      "    No module named 'numpy.distutils._msvccompiler' in numpy.distutils; trying from distutils\n",
      "    customize MSVCCompiler\n",
      "      libraries lapack_atlas not found in C:\\\n",
      "    No module named 'numpy.distutils._msvccompiler' in numpy.distutils; trying from distutils\n",
      "    customize MSVCCompiler\n",
      "      libraries satlas,satlas not found in C:\\\n",
      "    No module named 'numpy.distutils._msvccompiler' in numpy.distutils; trying from distutils\n",
      "    customize MSVCCompiler\n",
      "      libraries lapack_atlas not found in C:\\Users\\2469l\\anaconda3\\libs\n",
      "    No module named 'numpy.distutils._msvccompiler' in numpy.distutils; trying from distutils\n",
      "    customize MSVCCompiler\n",
      "      libraries satlas,satlas not found in C:\\Users\\2469l\\anaconda3\\libs\n",
      "    <class 'numpy.distutils.system_info.atlas_3_10_info'>\n",
      "      NOT AVAILABLE\n",
      "  \n",
      "    atlas_threads_info:\n",
      "    Setting PTATLAS=ATLAS\n",
      "    No module named 'numpy.distutils._msvccompiler' in numpy.distutils; trying from distutils\n",
      "    customize MSVCCompiler\n",
      "      libraries lapack_atlas not found in C:\\Users\\2469l\\anaconda3\\lib\n",
      "    No module named 'numpy.distutils._msvccompiler' in numpy.distutils; trying from distutils\n",
      "    customize MSVCCompiler\n",
      "      libraries ptf77blas,ptcblas,atlas not found in C:\\Users\\2469l\\anaconda3\\lib\n",
      "    No module named 'numpy.distutils._msvccompiler' in numpy.distutils; trying from distutils\n",
      "    customize MSVCCompiler\n",
      "      libraries lapack_atlas not found in C:\\\n",
      "    No module named 'numpy.distutils._msvccompiler' in numpy.distutils; trying from distutils\n",
      "    customize MSVCCompiler\n",
      "      libraries ptf77blas,ptcblas,atlas not found in C:\\\n",
      "    No module named 'numpy.distutils._msvccompiler' in numpy.distutils; trying from distutils\n",
      "    customize MSVCCompiler\n",
      "      libraries lapack_atlas not found in C:\\Users\\2469l\\anaconda3\\libs\n",
      "    No module named 'numpy.distutils._msvccompiler' in numpy.distutils; trying from distutils\n",
      "    customize MSVCCompiler\n",
      "      libraries ptf77blas,ptcblas,atlas not found in C:\\Users\\2469l\\anaconda3\\libs\n",
      "    <class 'numpy.distutils.system_info.atlas_threads_info'>\n",
      "      NOT AVAILABLE\n",
      "  \n",
      "    atlas_info:\n",
      "    No module named 'numpy.distutils._msvccompiler' in numpy.distutils; trying from distutils\n",
      "    customize MSVCCompiler\n",
      "      libraries lapack_atlas not found in C:\\Users\\2469l\\anaconda3\\lib\n",
      "    No module named 'numpy.distutils._msvccompiler' in numpy.distutils; trying from distutils\n",
      "    customize MSVCCompiler\n",
      "      libraries f77blas,cblas,atlas not found in C:\\Users\\2469l\\anaconda3\\lib\n",
      "    No module named 'numpy.distutils._msvccompiler' in numpy.distutils; trying from distutils\n",
      "    customize MSVCCompiler\n",
      "      libraries lapack_atlas not found in C:\\\n",
      "    No module named 'numpy.distutils._msvccompiler' in numpy.distutils; trying from distutils\n",
      "    customize MSVCCompiler\n",
      "      libraries f77blas,cblas,atlas not found in C:\\\n",
      "    No module named 'numpy.distutils._msvccompiler' in numpy.distutils; trying from distutils\n",
      "    customize MSVCCompiler\n",
      "      libraries lapack_atlas not found in C:\\Users\\2469l\\anaconda3\\libs\n",
      "    No module named 'numpy.distutils._msvccompiler' in numpy.distutils; trying from distutils\n",
      "    customize MSVCCompiler\n",
      "      libraries f77blas,cblas,atlas not found in C:\\Users\\2469l\\anaconda3\\libs\n",
      "    <class 'numpy.distutils.system_info.atlas_info'>\n",
      "      NOT AVAILABLE\n",
      "  \n",
      "    lapack_info:\n",
      "    No module named 'numpy.distutils._msvccompiler' in numpy.distutils; trying from distutils\n",
      "    customize MSVCCompiler\n",
      "      libraries lapack not found in ['C:\\\\Users\\\\2469l\\\\anaconda3\\\\lib', 'C:\\\\', 'C:\\\\Users\\\\2469l\\\\anaconda3\\\\libs']\n",
      "      NOT AVAILABLE\n",
      "  \n",
      "    C:\\Users\\2469l\\AppData\\Local\\Temp\\pip-install-vvr2sobp\\numpy_6ecd5c408ed348f2af60d7b27c208602\\numpy\\distutils\\system_info.py:1712: UserWarning:\n",
      "        Lapack (http://www.netlib.org/lapack/) libraries not found.\n",
      "        Directories to search for the libraries can be specified in the\n",
      "        numpy/distutils/site.cfg file (section [lapack]) or by setting\n",
      "        the LAPACK environment variable.\n",
      "      if getattr(self, '_calc_info_{}'.format(lapack))():\n",
      "    lapack_src_info:\n",
      "      NOT AVAILABLE\n",
      "  \n",
      "    C:\\Users\\2469l\\AppData\\Local\\Temp\\pip-install-vvr2sobp\\numpy_6ecd5c408ed348f2af60d7b27c208602\\numpy\\distutils\\system_info.py:1712: UserWarning:\n",
      "        Lapack (http://www.netlib.org/lapack/) sources not found.\n",
      "        Directories to search for the sources can be specified in the\n",
      "        numpy/distutils/site.cfg file (section [lapack_src]) or by setting\n",
      "        the LAPACK_SRC environment variable.\n",
      "      if getattr(self, '_calc_info_{}'.format(lapack))():\n",
      "      NOT AVAILABLE\n",
      "  \n",
      "    C:\\Users\\2469l\\anaconda3\\lib\\distutils\\dist.py:274: UserWarning: Unknown distribution option: 'define_macros'\n",
      "      warnings.warn(msg)\n",
      "    running bdist_wheel\n",
      "    running build\n",
      "    running config_cc\n",
      "    unifing config_cc, config, build_clib, build_ext, build commands --compiler options\n",
      "    running config_fc\n",
      "    unifing config_fc, config, build_clib, build_ext, build commands --fcompiler options\n",
      "    running build_src\n",
      "    build_src\n",
      "    building py_modules sources\n",
      "    creating build\n",
      "    creating build\\src.win-amd64-3.9\n",
      "    creating build\\src.win-amd64-3.9\\numpy\n",
      "    creating build\\src.win-amd64-3.9\\numpy\\distutils\n",
      "    building library \"npymath\" sources\n",
      "    No module named 'numpy.distutils._msvccompiler' in numpy.distutils; trying from distutils\n",
      "    error: Microsoft Visual C++ 14.0 or greater is required. Get it with \"Microsoft C++ Build Tools\": https://visualstudio.microsoft.com/visual-cpp-build-tools/\n",
      "    ----------------------------------------\n",
      "    ERROR: Failed building wheel for numpy\n",
      "    Running setup.py clean for numpy\n",
      "    ERROR: Command errored out with exit status 1:\n",
      "     command: 'C:\\Users\\2469l\\anaconda3\\python.exe' -u -c 'import io, os, sys, setuptools, tokenize; sys.argv[0] = '\"'\"'C:\\\\Users\\\\2469l\\\\AppData\\\\Local\\\\Temp\\\\pip-install-vvr2sobp\\\\numpy_6ecd5c408ed348f2af60d7b27c208602\\\\setup.py'\"'\"'; __file__='\"'\"'C:\\\\Users\\\\2469l\\\\AppData\\\\Local\\\\Temp\\\\pip-install-vvr2sobp\\\\numpy_6ecd5c408ed348f2af60d7b27c208602\\\\setup.py'\"'\"';f = getattr(tokenize, '\"'\"'open'\"'\"', open)(__file__) if os.path.exists(__file__) else io.StringIO('\"'\"'from setuptools import setup; setup()'\"'\"');code = f.read().replace('\"'\"'\\r\\n'\"'\"', '\"'\"'\\n'\"'\"');f.close();exec(compile(code, __file__, '\"'\"'exec'\"'\"'))' clean --all\n",
      "         cwd: C:\\Users\\2469l\\AppData\\Local\\Temp\\pip-install-vvr2sobp\\numpy_6ecd5c408ed348f2af60d7b27c208602\n",
      "    Complete output (10 lines):\n",
      "    Running from numpy source directory.\n",
      "  \n",
      "    `setup.py clean` is not supported, use one of the following instead:\n",
      "  \n",
      "      - `git clean -xdf` (cleans all files)\n",
      "      - `git clean -Xdf` (cleans all versioned files, doesn't touch\n",
      "                          files that aren't checked into the git repo)\n",
      "  \n",
      "    Add `--force` to your command to use it anyway if you must (unsupported).\n",
      "  \n",
      "    ----------------------------------------\n",
      "    ERROR: Failed cleaning build dir for numpy\n",
      "  Failed to build numpy\n",
      "  Installing collected packages: numpy, wheel, setuptools, scipy, Cython\n",
      "      Running setup.py install for numpy: started\n",
      "      Running setup.py install for numpy: finished with status 'error'\n",
      "      ERROR: Command errored out with exit status 1:\n",
      "       command: 'C:\\Users\\2469l\\anaconda3\\python.exe' -u -c 'import io, os, sys, setuptools, tokenize; sys.argv[0] = '\"'\"'C:\\\\Users\\\\2469l\\\\AppData\\\\Local\\\\Temp\\\\pip-install-vvr2sobp\\\\numpy_6ecd5c408ed348f2af60d7b27c208602\\\\setup.py'\"'\"'; __file__='\"'\"'C:\\\\Users\\\\2469l\\\\AppData\\\\Local\\\\Temp\\\\pip-install-vvr2sobp\\\\numpy_6ecd5c408ed348f2af60d7b27c208602\\\\setup.py'\"'\"';f = getattr(tokenize, '\"'\"'open'\"'\"', open)(__file__) if os.path.exists(__file__) else io.StringIO('\"'\"'from setuptools import setup; setup()'\"'\"');code = f.read().replace('\"'\"'\\r\\n'\"'\"', '\"'\"'\\n'\"'\"');f.close();exec(compile(code, __file__, '\"'\"'exec'\"'\"'))' install --record 'C:\\Users\\2469l\\AppData\\Local\\Temp\\pip-record-iwlfnxtz\\install-record.txt' --single-version-externally-managed --prefix 'C:\\Users\\2469l\\AppData\\Local\\Temp\\pip-build-env-b7m1v9sq\\overlay' --compile --install-headers 'C:\\Users\\2469l\\AppData\\Local\\Temp\\pip-build-env-b7m1v9sq\\overlay\\Include\\numpy'\n",
      "           cwd: C:\\Users\\2469l\\AppData\\Local\\Temp\\pip-install-vvr2sobp\\numpy_6ecd5c408ed348f2af60d7b27c208602\\\n",
      "      Complete output (273 lines):\n",
      "      Running from numpy source directory.\n",
      "  \n",
      "      Note: if you need reliable uninstall behavior, then install\n",
      "      with pip instead of using `setup.py install`:\n",
      "  \n",
      "        - `pip install .`       (from a git repo or downloaded source\n",
      "                                 release)\n",
      "        - `pip install numpy`   (last NumPy release on PyPi)\n",
      "  \n",
      "  \n",
      "      blas_opt_info:\n",
      "      blas_mkl_info:\n",
      "      No module named 'numpy.distutils._msvccompiler' in numpy.distutils; trying from distutils\n",
      "      customize MSVCCompiler\n",
      "        libraries mkl_rt not found in ['C:\\\\Users\\\\2469l\\\\anaconda3\\\\lib', 'C:\\\\', 'C:\\\\Users\\\\2469l\\\\anaconda3\\\\libs']\n",
      "        NOT AVAILABLE\n",
      "  \n",
      "      blis_info:\n",
      "      No module named 'numpy.distutils._msvccompiler' in numpy.distutils; trying from distutils\n",
      "      customize MSVCCompiler\n",
      "        libraries blis not found in ['C:\\\\Users\\\\2469l\\\\anaconda3\\\\lib', 'C:\\\\', 'C:\\\\Users\\\\2469l\\\\anaconda3\\\\libs']\n",
      "        NOT AVAILABLE\n",
      "  \n",
      "      openblas_info:\n",
      "      No module named 'numpy.distutils._msvccompiler' in numpy.distutils; trying from distutils\n",
      "      customize MSVCCompiler\n",
      "      No module named 'numpy.distutils._msvccompiler' in numpy.distutils; trying from distutils\n",
      "      customize MSVCCompiler\n",
      "        libraries openblas not found in ['C:\\\\Users\\\\2469l\\\\anaconda3\\\\lib', 'C:\\\\', 'C:\\\\Users\\\\2469l\\\\anaconda3\\\\libs']\n",
      "      get_default_fcompiler: matching types: '['gnu', 'intelv', 'absoft', 'compaqv', 'intelev', 'gnu95', 'g95', 'intelvem', 'intelem', 'flang']'\n",
      "      customize GnuFCompiler\n",
      "      Could not locate executable g77\n",
      "      Could not locate executable f77\n",
      "      customize IntelVisualFCompiler\n",
      "      Could not locate executable ifort\n",
      "      Could not locate executable ifl\n",
      "      customize AbsoftFCompiler\n",
      "      Could not locate executable f90\n",
      "      customize CompaqVisualFCompiler\n",
      "      Could not locate executable DF\n",
      "      customize IntelItaniumVisualFCompiler\n",
      "      Could not locate executable efl\n",
      "      customize Gnu95FCompiler\n",
      "      Could not locate executable gfortran\n",
      "      Could not locate executable f95\n",
      "      customize G95FCompiler\n",
      "      Could not locate executable g95\n",
      "      customize IntelEM64VisualFCompiler\n",
      "      customize IntelEM64TFCompiler\n",
      "      Could not locate executable efort\n",
      "      Could not locate executable efc\n",
      "      customize PGroupFlangCompiler\n",
      "      Could not locate executable flang\n",
      "      don't know how to compile Fortran code on platform 'nt'\n",
      "        NOT AVAILABLE\n",
      "  \n",
      "      atlas_3_10_blas_threads_info:\n",
      "      Setting PTATLAS=ATLAS\n",
      "      No module named 'numpy.distutils._msvccompiler' in numpy.distutils; trying from distutils\n",
      "      customize MSVCCompiler\n",
      "        libraries tatlas not found in ['C:\\\\Users\\\\2469l\\\\anaconda3\\\\lib', 'C:\\\\', 'C:\\\\Users\\\\2469l\\\\anaconda3\\\\libs']\n",
      "        NOT AVAILABLE\n",
      "  \n",
      "      atlas_3_10_blas_info:\n",
      "      No module named 'numpy.distutils._msvccompiler' in numpy.distutils; trying from distutils\n",
      "      customize MSVCCompiler\n",
      "        libraries satlas not found in ['C:\\\\Users\\\\2469l\\\\anaconda3\\\\lib', 'C:\\\\', 'C:\\\\Users\\\\2469l\\\\anaconda3\\\\libs']\n",
      "        NOT AVAILABLE\n",
      "  \n",
      "      atlas_blas_threads_info:\n",
      "      Setting PTATLAS=ATLAS\n",
      "      No module named 'numpy.distutils._msvccompiler' in numpy.distutils; trying from distutils\n",
      "      customize MSVCCompiler\n",
      "        libraries ptf77blas,ptcblas,atlas not found in ['C:\\\\Users\\\\2469l\\\\anaconda3\\\\lib', 'C:\\\\', 'C:\\\\Users\\\\2469l\\\\anaconda3\\\\libs']\n",
      "        NOT AVAILABLE\n",
      "  \n",
      "      atlas_blas_info:\n",
      "      No module named 'numpy.distutils._msvccompiler' in numpy.distutils; trying from distutils\n",
      "      customize MSVCCompiler\n",
      "        libraries f77blas,cblas,atlas not found in ['C:\\\\Users\\\\2469l\\\\anaconda3\\\\lib', 'C:\\\\', 'C:\\\\Users\\\\2469l\\\\anaconda3\\\\libs']\n",
      "        NOT AVAILABLE\n",
      "  \n",
      "      accelerate_info:\n",
      "        NOT AVAILABLE\n",
      "  \n",
      "      C:\\Users\\2469l\\AppData\\Local\\Temp\\pip-install-vvr2sobp\\numpy_6ecd5c408ed348f2af60d7b27c208602\\numpy\\distutils\\system_info.py:690: UserWarning:\n",
      "          Optimized (vendor) Blas libraries are not found.\n",
      "          Falls back to netlib Blas library which has worse performance.\n",
      "          A better performance should be easily gained by switching\n",
      "          Blas library.\n",
      "        self.calc_info()\n",
      "      blas_info:\n",
      "      No module named 'numpy.distutils._msvccompiler' in numpy.distutils; trying from distutils\n",
      "      customize MSVCCompiler\n",
      "        libraries blas not found in ['C:\\\\Users\\\\2469l\\\\anaconda3\\\\lib', 'C:\\\\', 'C:\\\\Users\\\\2469l\\\\anaconda3\\\\libs']\n",
      "        NOT AVAILABLE\n",
      "  \n",
      "      C:\\Users\\2469l\\AppData\\Local\\Temp\\pip-install-vvr2sobp\\numpy_6ecd5c408ed348f2af60d7b27c208602\\numpy\\distutils\\system_info.py:690: UserWarning:\n",
      "          Blas (http://www.netlib.org/blas/) libraries not found.\n",
      "          Directories to search for the libraries can be specified in the\n",
      "          numpy/distutils/site.cfg file (section [blas]) or by setting\n",
      "          the BLAS environment variable.\n",
      "        self.calc_info()\n",
      "      blas_src_info:\n",
      "        NOT AVAILABLE\n",
      "  \n",
      "      C:\\Users\\2469l\\AppData\\Local\\Temp\\pip-install-vvr2sobp\\numpy_6ecd5c408ed348f2af60d7b27c208602\\numpy\\distutils\\system_info.py:690: UserWarning:\n",
      "          Blas (http://www.netlib.org/blas/) sources not found.\n",
      "          Directories to search for the sources can be specified in the\n",
      "          numpy/distutils/site.cfg file (section [blas_src]) or by setting\n",
      "          the BLAS_SRC environment variable.\n",
      "        self.calc_info()\n",
      "        NOT AVAILABLE\n",
      "  \n",
      "      'svnversion'은(는) 내부 또는 외부 명령, 실행할 수 있는 프로그램, 또는\n",
      "      배치 파일이 아닙니다.\n",
      "      non-existing path in 'numpy\\\\distutils': 'site.cfg'\n",
      "      lapack_opt_info:\n",
      "      lapack_mkl_info:\n",
      "      No module named 'numpy.distutils._msvccompiler' in numpy.distutils; trying from distutils\n",
      "      customize MSVCCompiler\n",
      "        libraries mkl_rt not found in ['C:\\\\Users\\\\2469l\\\\anaconda3\\\\lib', 'C:\\\\', 'C:\\\\Users\\\\2469l\\\\anaconda3\\\\libs']\n",
      "        NOT AVAILABLE\n",
      "  \n",
      "      openblas_lapack_info:\n",
      "      No module named 'numpy.distutils._msvccompiler' in numpy.distutils; trying from distutils\n",
      "      customize MSVCCompiler\n",
      "      No module named 'numpy.distutils._msvccompiler' in numpy.distutils; trying from distutils\n",
      "      customize MSVCCompiler\n",
      "        libraries openblas not found in ['C:\\\\Users\\\\2469l\\\\anaconda3\\\\lib', 'C:\\\\', 'C:\\\\Users\\\\2469l\\\\anaconda3\\\\libs']\n",
      "        NOT AVAILABLE\n",
      "  \n",
      "      openblas_clapack_info:\n",
      "      No module named 'numpy.distutils._msvccompiler' in numpy.distutils; trying from distutils\n",
      "      customize MSVCCompiler\n",
      "      No module named 'numpy.distutils._msvccompiler' in numpy.distutils; trying from distutils\n",
      "      customize MSVCCompiler\n",
      "        libraries openblas,lapack not found in ['C:\\\\Users\\\\2469l\\\\anaconda3\\\\lib', 'C:\\\\', 'C:\\\\Users\\\\2469l\\\\anaconda3\\\\libs']\n",
      "        NOT AVAILABLE\n",
      "  \n",
      "      flame_info:\n",
      "      No module named 'numpy.distutils._msvccompiler' in numpy.distutils; trying from distutils\n",
      "      customize MSVCCompiler\n",
      "        libraries flame not found in ['C:\\\\Users\\\\2469l\\\\anaconda3\\\\lib', 'C:\\\\', 'C:\\\\Users\\\\2469l\\\\anaconda3\\\\libs']\n",
      "        NOT AVAILABLE\n",
      "  \n",
      "      atlas_3_10_threads_info:\n",
      "      Setting PTATLAS=ATLAS\n",
      "      No module named 'numpy.distutils._msvccompiler' in numpy.distutils; trying from distutils\n",
      "      customize MSVCCompiler\n",
      "        libraries lapack_atlas not found in C:\\Users\\2469l\\anaconda3\\lib\n",
      "      No module named 'numpy.distutils._msvccompiler' in numpy.distutils; trying from distutils\n",
      "      customize MSVCCompiler\n",
      "        libraries tatlas,tatlas not found in C:\\Users\\2469l\\anaconda3\\lib\n",
      "      No module named 'numpy.distutils._msvccompiler' in numpy.distutils; trying from distutils\n",
      "      customize MSVCCompiler\n",
      "        libraries lapack_atlas not found in C:\\\n",
      "      No module named 'numpy.distutils._msvccompiler' in numpy.distutils; trying from distutils\n",
      "      customize MSVCCompiler\n",
      "        libraries tatlas,tatlas not found in C:\\\n",
      "      No module named 'numpy.distutils._msvccompiler' in numpy.distutils; trying from distutils\n",
      "      customize MSVCCompiler\n",
      "        libraries lapack_atlas not found in C:\\Users\\2469l\\anaconda3\\libs\n",
      "      No module named 'numpy.distutils._msvccompiler' in numpy.distutils; trying from distutils\n",
      "      customize MSVCCompiler\n",
      "        libraries tatlas,tatlas not found in C:\\Users\\2469l\\anaconda3\\libs\n",
      "      <class 'numpy.distutils.system_info.atlas_3_10_threads_info'>\n",
      "        NOT AVAILABLE\n",
      "  \n",
      "      atlas_3_10_info:\n",
      "      No module named 'numpy.distutils._msvccompiler' in numpy.distutils; trying from distutils\n",
      "      customize MSVCCompiler\n",
      "        libraries lapack_atlas not found in C:\\Users\\2469l\\anaconda3\\lib\n",
      "      No module named 'numpy.distutils._msvccompiler' in numpy.distutils; trying from distutils\n",
      "      customize MSVCCompiler\n",
      "        libraries satlas,satlas not found in C:\\Users\\2469l\\anaconda3\\lib\n",
      "      No module named 'numpy.distutils._msvccompiler' in numpy.distutils; trying from distutils\n",
      "      customize MSVCCompiler\n",
      "        libraries lapack_atlas not found in C:\\\n",
      "      No module named 'numpy.distutils._msvccompiler' in numpy.distutils; trying from distutils\n",
      "      customize MSVCCompiler\n",
      "        libraries satlas,satlas not found in C:\\\n",
      "      No module named 'numpy.distutils._msvccompiler' in numpy.distutils; trying from distutils\n",
      "      customize MSVCCompiler\n",
      "        libraries lapack_atlas not found in C:\\Users\\2469l\\anaconda3\\libs\n",
      "      No module named 'numpy.distutils._msvccompiler' in numpy.distutils; trying from distutils\n",
      "      customize MSVCCompiler\n",
      "        libraries satlas,satlas not found in C:\\Users\\2469l\\anaconda3\\libs\n",
      "      <class 'numpy.distutils.system_info.atlas_3_10_info'>\n",
      "        NOT AVAILABLE\n",
      "  \n",
      "      atlas_threads_info:\n",
      "      Setting PTATLAS=ATLAS\n",
      "      No module named 'numpy.distutils._msvccompiler' in numpy.distutils; trying from distutils\n",
      "      customize MSVCCompiler\n",
      "        libraries lapack_atlas not found in C:\\Users\\2469l\\anaconda3\\lib\n",
      "      No module named 'numpy.distutils._msvccompiler' in numpy.distutils; trying from distutils\n",
      "      customize MSVCCompiler\n",
      "        libraries ptf77blas,ptcblas,atlas not found in C:\\Users\\2469l\\anaconda3\\lib\n",
      "      No module named 'numpy.distutils._msvccompiler' in numpy.distutils; trying from distutils\n",
      "      customize MSVCCompiler\n",
      "        libraries lapack_atlas not found in C:\\\n",
      "      No module named 'numpy.distutils._msvccompiler' in numpy.distutils; trying from distutils\n",
      "      customize MSVCCompiler\n",
      "        libraries ptf77blas,ptcblas,atlas not found in C:\\\n",
      "      No module named 'numpy.distutils._msvccompiler' in numpy.distutils; trying from distutils\n",
      "      customize MSVCCompiler\n",
      "        libraries lapack_atlas not found in C:\\Users\\2469l\\anaconda3\\libs\n",
      "      No module named 'numpy.distutils._msvccompiler' in numpy.distutils; trying from distutils\n",
      "      customize MSVCCompiler\n",
      "        libraries ptf77blas,ptcblas,atlas not found in C:\\Users\\2469l\\anaconda3\\libs\n",
      "      <class 'numpy.distutils.system_info.atlas_threads_info'>\n",
      "        NOT AVAILABLE\n",
      "  \n",
      "      atlas_info:\n",
      "      No module named 'numpy.distutils._msvccompiler' in numpy.distutils; trying from distutils\n",
      "      customize MSVCCompiler\n",
      "        libraries lapack_atlas not found in C:\\Users\\2469l\\anaconda3\\lib\n",
      "      No module named 'numpy.distutils._msvccompiler' in numpy.distutils; trying from distutils\n",
      "      customize MSVCCompiler\n",
      "        libraries f77blas,cblas,atlas not found in C:\\Users\\2469l\\anaconda3\\lib\n",
      "      No module named 'numpy.distutils._msvccompiler' in numpy.distutils; trying from distutils\n",
      "      customize MSVCCompiler\n",
      "        libraries lapack_atlas not found in C:\\\n",
      "      No module named 'numpy.distutils._msvccompiler' in numpy.distutils; trying from distutils\n",
      "      customize MSVCCompiler\n",
      "        libraries f77blas,cblas,atlas not found in C:\\\n",
      "      No module named 'numpy.distutils._msvccompiler' in numpy.distutils; trying from distutils\n",
      "      customize MSVCCompiler\n",
      "        libraries lapack_atlas not found in C:\\Users\\2469l\\anaconda3\\libs\n",
      "      No module named 'numpy.distutils._msvccompiler' in numpy.distutils; trying from distutils\n",
      "      customize MSVCCompiler\n",
      "        libraries f77blas,cblas,atlas not found in C:\\Users\\2469l\\anaconda3\\libs\n",
      "      <class 'numpy.distutils.system_info.atlas_info'>\n",
      "        NOT AVAILABLE\n",
      "  \n",
      "      lapack_info:\n",
      "      No module named 'numpy.distutils._msvccompiler' in numpy.distutils; trying from distutils\n",
      "      customize MSVCCompiler\n",
      "        libraries lapack not found in ['C:\\\\Users\\\\2469l\\\\anaconda3\\\\lib', 'C:\\\\', 'C:\\\\Users\\\\2469l\\\\anaconda3\\\\libs']\n",
      "        NOT AVAILABLE\n",
      "  \n",
      "      C:\\Users\\2469l\\AppData\\Local\\Temp\\pip-install-vvr2sobp\\numpy_6ecd5c408ed348f2af60d7b27c208602\\numpy\\distutils\\system_info.py:1712: UserWarning:\n",
      "          Lapack (http://www.netlib.org/lapack/) libraries not found.\n",
      "          Directories to search for the libraries can be specified in the\n",
      "          numpy/distutils/site.cfg file (section [lapack]) or by setting\n",
      "          the LAPACK environment variable.\n",
      "        if getattr(self, '_calc_info_{}'.format(lapack))():\n",
      "      lapack_src_info:\n",
      "        NOT AVAILABLE\n",
      "  \n",
      "      C:\\Users\\2469l\\AppData\\Local\\Temp\\pip-install-vvr2sobp\\numpy_6ecd5c408ed348f2af60d7b27c208602\\numpy\\distutils\\system_info.py:1712: UserWarning:\n",
      "          Lapack (http://www.netlib.org/lapack/) sources not found.\n",
      "          Directories to search for the sources can be specified in the\n",
      "          numpy/distutils/site.cfg file (section [lapack_src]) or by setting\n",
      "          the LAPACK_SRC environment variable.\n",
      "        if getattr(self, '_calc_info_{}'.format(lapack))():\n",
      "        NOT AVAILABLE\n",
      "  \n",
      "      C:\\Users\\2469l\\anaconda3\\lib\\distutils\\dist.py:274: UserWarning: Unknown distribution option: 'define_macros'\n",
      "        warnings.warn(msg)\n",
      "      running install\n",
      "      running build\n",
      "      running config_cc\n",
      "      unifing config_cc, config, build_clib, build_ext, build commands --compiler options\n",
      "      running config_fc\n",
      "      unifing config_fc, config, build_clib, build_ext, build commands --fcompiler options\n",
      "      running build_src\n",
      "      build_src\n",
      "      building py_modules sources\n",
      "      building library \"npymath\" sources\n",
      "      No module named 'numpy.distutils._msvccompiler' in numpy.distutils; trying from distutils\n",
      "      error: Microsoft Visual C++ 14.0 or greater is required. Get it with \"Microsoft C++ Build Tools\": https://visualstudio.microsoft.com/visual-cpp-build-tools/\n",
      "      ----------------------------------------\n",
      "  ERROR: Command errored out with exit status 1: 'C:\\Users\\2469l\\anaconda3\\python.exe' -u -c 'import io, os, sys, setuptools, tokenize; sys.argv[0] = '\"'\"'C:\\\\Users\\\\2469l\\\\AppData\\\\Local\\\\Temp\\\\pip-install-vvr2sobp\\\\numpy_6ecd5c408ed348f2af60d7b27c208602\\\\setup.py'\"'\"'; __file__='\"'\"'C:\\\\Users\\\\2469l\\\\AppData\\\\Local\\\\Temp\\\\pip-install-vvr2sobp\\\\numpy_6ecd5c408ed348f2af60d7b27c208602\\\\setup.py'\"'\"';f = getattr(tokenize, '\"'\"'open'\"'\"', open)(__file__) if os.path.exists(__file__) else io.StringIO('\"'\"'from setuptools import setup; setup()'\"'\"');code = f.read().replace('\"'\"'\\r\\n'\"'\"', '\"'\"'\\n'\"'\"');f.close();exec(compile(code, __file__, '\"'\"'exec'\"'\"'))' install --record 'C:\\Users\\2469l\\AppData\\Local\\Temp\\pip-record-iwlfnxtz\\install-record.txt' --single-version-externally-managed --prefix 'C:\\Users\\2469l\\AppData\\Local\\Temp\\pip-build-env-b7m1v9sq\\overlay' --compile --install-headers 'C:\\Users\\2469l\\AppData\\Local\\Temp\\pip-build-env-b7m1v9sq\\overlay\\Include\\numpy' Check the logs for full command output.\n",
      "  ----------------------------------------\n",
      "WARNING: Discarding https://files.pythonhosted.org/packages/aa/f6/75297be19f48b7a8c2577753a3a700f98fc4db49d0e5ed3820dd8dee43d4/scikit-learn-0.23.2.tar.gz#sha256=20766f515e6cd6f954554387dfae705d93c7b544ec0e6c6a5d8e006f6f7ef480 (from https://pypi.org/simple/scikit-learn/) (requires-python:>=3.6). Command errored out with exit status 1: 'C:\\Users\\2469l\\anaconda3\\python.exe' 'C:\\Users\\2469l\\AppData\\Local\\Temp\\pip-standalone-pip-j3h3w2io\\__env_pip__.zip\\pip' install --ignore-installed --no-user --prefix 'C:\\Users\\2469l\\AppData\\Local\\Temp\\pip-build-env-b7m1v9sq\\overlay' --no-warn-script-location --no-binary :none: --only-binary :none: -i https://pypi.org/simple -- setuptools wheel 'Cython>=0.28.5' 'numpy==1.13.3; python_version=='\"'\"'3.6'\"'\"' and platform_system!='\"'\"'AIX'\"'\"' and platform_python_implementation == '\"'\"'CPython'\"'\"'' 'numpy==1.14.0; python_version=='\"'\"'3.6'\"'\"' and platform_system!='\"'\"'AIX'\"'\"' and platform_python_implementation != '\"'\"'CPython'\"'\"'' 'numpy==1.14.5; python_version=='\"'\"'3.7'\"'\"' and platform_system!='\"'\"'AIX'\"'\"'' 'numpy==1.17.3; python_version>='\"'\"'3.8'\"'\"' and platform_system!='\"'\"'AIX'\"'\"'' 'numpy==1.16.0; python_version=='\"'\"'3.6'\"'\"' and platform_system=='\"'\"'AIX'\"'\"'' 'numpy==1.16.0; python_version=='\"'\"'3.7'\"'\"' and platform_system=='\"'\"'AIX'\"'\"'' 'numpy==1.17.3; python_version>='\"'\"'3.8'\"'\"' and platform_system=='\"'\"'AIX'\"'\"'' 'scipy>=0.19.1' Check the logs for full command output.\n",
      "  ERROR: Command errored out with exit status 1:\n",
      "   command: 'C:\\Users\\2469l\\anaconda3\\python.exe' -u -c 'import io, os, sys, setuptools, tokenize; sys.argv[0] = '\"'\"'C:\\\\Users\\\\2469l\\\\AppData\\\\Local\\\\Temp\\\\pip-install-9_her3ic\\\\wordcloud_4541948ec16e4ccc944a2b9622e8662f\\\\setup.py'\"'\"'; __file__='\"'\"'C:\\\\Users\\\\2469l\\\\AppData\\\\Local\\\\Temp\\\\pip-install-9_her3ic\\\\wordcloud_4541948ec16e4ccc944a2b9622e8662f\\\\setup.py'\"'\"';f = getattr(tokenize, '\"'\"'open'\"'\"', open)(__file__) if os.path.exists(__file__) else io.StringIO('\"'\"'from setuptools import setup; setup()'\"'\"');code = f.read().replace('\"'\"'\\r\\n'\"'\"', '\"'\"'\\n'\"'\"');f.close();exec(compile(code, __file__, '\"'\"'exec'\"'\"'))' bdist_wheel -d 'C:\\Users\\2469l\\AppData\\Local\\Temp\\pip-wheel-vc2hvelm'\n",
      "       cwd: C:\\Users\\2469l\\AppData\\Local\\Temp\\pip-install-9_her3ic\\wordcloud_4541948ec16e4ccc944a2b9622e8662f\\\n",
      "  Complete output (20 lines):\n",
      "  running bdist_wheel\n",
      "  running build\n",
      "  running build_py\n",
      "  creating build\n",
      "  creating build\\lib.win-amd64-3.9\n",
      "  creating build\\lib.win-amd64-3.9\\wordcloud\n",
      "  copying wordcloud\\color_from_image.py -> build\\lib.win-amd64-3.9\\wordcloud\n",
      "  copying wordcloud\\tokenization.py -> build\\lib.win-amd64-3.9\\wordcloud\n",
      "  copying wordcloud\\wordcloud.py -> build\\lib.win-amd64-3.9\\wordcloud\n",
      "  copying wordcloud\\wordcloud_cli.py -> build\\lib.win-amd64-3.9\\wordcloud\n",
      "  copying wordcloud\\_version.py -> build\\lib.win-amd64-3.9\\wordcloud\n",
      "  copying wordcloud\\__init__.py -> build\\lib.win-amd64-3.9\\wordcloud\n",
      "  copying wordcloud\\__main__.py -> build\\lib.win-amd64-3.9\\wordcloud\n",
      "  copying wordcloud\\stopwords -> build\\lib.win-amd64-3.9\\wordcloud\n",
      "  copying wordcloud\\DroidSansMono.ttf -> build\\lib.win-amd64-3.9\\wordcloud\n",
      "  UPDATING build\\lib.win-amd64-3.9\\wordcloud/_version.py\n",
      "  set build\\lib.win-amd64-3.9\\wordcloud/_version.py to '1.8.1'\n",
      "  running build_ext\n",
      "  building 'wordcloud.query_integral_image' extension\n",
      "  error: Microsoft Visual C++ 14.0 or greater is required. Get it with \"Microsoft C++ Build Tools\": https://visualstudio.microsoft.com/visual-cpp-build-tools/\n",
      "  ----------------------------------------\n",
      "  ERROR: Failed building wheel for wordcloud\n",
      "ERROR: Could not install packages due to an OSError: [WinError 5] 액세스가 거부되었습니다: 'C:\\\\Users\\\\2469l\\\\anaconda3\\\\Lib\\\\site-packages\\\\win32\\\\_win32sysloader.pyd'\n",
      "Consider using the `--user` option or check the permissions.\n",
      "\n"
     ]
    },
    {
     "name": "stdout",
     "output_type": "stream",
     "text": [
      "Requirement already satisfied: testpath in c:\\users\\2469l\\anaconda3\\lib\\site-packages (from nbconvert->notebook>=4.4.1->widgetsnbextension~=3.5.0->ipywidgets->pycaret) (0.5.0)\n",
      "Requirement already satisfied: jupyterlab-pygments in c:\\users\\2469l\\anaconda3\\lib\\site-packages (from nbconvert->notebook>=4.4.1->widgetsnbextension~=3.5.0->ipywidgets->pycaret) (0.1.2)\n",
      "Requirement already satisfied: defusedxml in c:\\users\\2469l\\anaconda3\\lib\\site-packages (from nbconvert->notebook>=4.4.1->widgetsnbextension~=3.5.0->ipywidgets->pycaret) (0.7.1)\n",
      "Requirement already satisfied: nbclient<0.6.0,>=0.5.0 in c:\\users\\2469l\\anaconda3\\lib\\site-packages (from nbconvert->notebook>=4.4.1->widgetsnbextension~=3.5.0->ipywidgets->pycaret) (0.5.3)\n",
      "Requirement already satisfied: pandocfilters>=1.4.1 in c:\\users\\2469l\\anaconda3\\lib\\site-packages (from nbconvert->notebook>=4.4.1->widgetsnbextension~=3.5.0->ipywidgets->pycaret) (1.4.3)\n",
      "Requirement already satisfied: mistune<2,>=0.8.1 in c:\\users\\2469l\\anaconda3\\lib\\site-packages (from nbconvert->notebook>=4.4.1->widgetsnbextension~=3.5.0->ipywidgets->pycaret) (0.8.4)\n",
      "Requirement already satisfied: async-generator in c:\\users\\2469l\\anaconda3\\lib\\site-packages (from nbclient<0.6.0,>=0.5.0->nbconvert->notebook>=4.4.1->widgetsnbextension~=3.5.0->ipywidgets->pycaret) (1.10)\n",
      "Requirement already satisfied: nest-asyncio in c:\\users\\2469l\\anaconda3\\lib\\site-packages (from nbclient<0.6.0,>=0.5.0->nbconvert->notebook>=4.4.1->widgetsnbextension~=3.5.0->ipywidgets->pycaret) (1.5.1)\n",
      "Requirement already satisfied: webencodings in c:\\users\\2469l\\anaconda3\\lib\\site-packages (from bleach->nbconvert->notebook>=4.4.1->widgetsnbextension~=3.5.0->ipywidgets->pycaret) (0.5.1)\n",
      "Requirement already satisfied: regex>=2021.8.3 in c:\\users\\2469l\\anaconda3\\lib\\site-packages (from nltk->pycaret) (2021.8.3)\n",
      "Collecting funcy\n",
      "  Downloading funcy-1.17-py2.py3-none-any.whl (33 kB)\n",
      "Collecting sklearn\n",
      "  Downloading sklearn-0.0.tar.gz (1.1 kB)\n",
      "Requirement already satisfied: future in c:\\users\\2469l\\anaconda3\\lib\\site-packages (from pyLDAvis->pycaret) (0.18.2)\n",
      "Requirement already satisfied: numexpr in c:\\users\\2469l\\anaconda3\\lib\\site-packages (from pyLDAvis->pycaret) (2.7.3)\n",
      "Requirement already satisfied: numba>=0.51 in c:\\users\\2469l\\anaconda3\\lib\\site-packages (from pyod->pycaret) (0.54.1)\n",
      "Requirement already satisfied: statsmodels in c:\\users\\2469l\\anaconda3\\lib\\site-packages (from pyod->pycaret) (0.12.2)\n",
      "Requirement already satisfied: llvmlite<0.38,>=0.37.0rc1 in c:\\users\\2469l\\anaconda3\\lib\\site-packages (from numba>=0.51->pyod->pycaret) (0.37.0)\n",
      "Collecting cymem<2.1.0,>=2.0.2\n",
      "  Downloading cymem-2.0.6-cp39-cp39-win_amd64.whl (36 kB)\n",
      "Collecting pydantic>=1.8.1\n",
      "  Downloading pydantic-1.8.2-cp39-cp39-win_amd64.whl (1.9 MB)\n",
      "Collecting preshed<3.1.0,>=3.0.2\n",
      "  Downloading preshed-3.0.6-cp39-cp39-win_amd64.whl (112 kB)\n",
      "Collecting blis<0.8.0,>=0.4.0\n",
      "  Downloading blis-0.7.7-cp39-cp39-win_amd64.whl (6.6 MB)\n",
      "Collecting langcodes<4.0.0,>=3.2.0\n",
      "  Downloading langcodes-3.3.0-py3-none-any.whl (181 kB)\n",
      "Collecting typer<0.5.0,>=0.3.0\n",
      "  Downloading typer-0.4.1-py3-none-any.whl (27 kB)\n",
      "Collecting wasabi<1.1.0,>=0.9.1\n",
      "  Downloading wasabi-0.9.1-py3-none-any.whl (26 kB)\n",
      "Collecting spacy-legacy<3.1.0,>=3.0.9\n",
      "  Downloading spacy_legacy-3.0.9-py2.py3-none-any.whl (20 kB)\n",
      "Collecting pathy>=0.3.5\n",
      "  Downloading pathy-0.6.1-py3-none-any.whl (42 kB)\n",
      "Collecting thinc<8.1.0,>=8.0.14\n",
      "  Downloading thinc-8.0.16-cp39-cp39-win_amd64.whl (1.0 MB)\n",
      "Collecting srsly<3.0.0,>=2.4.3\n",
      "  Downloading srsly-2.4.3-cp39-cp39-win_amd64.whl (448 kB)\n",
      "Collecting catalogue<2.1.0,>=2.0.6\n",
      "  Downloading catalogue-2.0.7-py3-none-any.whl (17 kB)\n",
      "Collecting murmurhash<1.1.0,>=0.28.0\n",
      "  Downloading murmurhash-1.0.7-cp39-cp39-win_amd64.whl (18 kB)\n",
      "Collecting spacy-loggers<2.0.0,>=1.0.0\n",
      "  Downloading spacy_loggers-1.0.2-py3-none-any.whl (7.2 kB)\n",
      "Collecting smart-open>=1.8.1\n",
      "  Downloading smart_open-5.2.1-py3-none-any.whl (58 kB)\n",
      "Requirement already satisfied: patsy>=0.5 in c:\\users\\2469l\\anaconda3\\lib\\site-packages (from statsmodels->pyod->pycaret) (0.5.2)\n",
      "Collecting pynndescent>=0.5\n",
      "  Downloading pynndescent-0.5.7.tar.gz (1.1 MB)\n",
      "Building wheels for collected packages: cufflinks, htmlmin, imagehash, databricks-cli, pyLDAvis, pyod, sklearn, umap-learn, pynndescent, wordcloud\n",
      "  Building wheel for cufflinks (setup.py): started\n",
      "  Building wheel for cufflinks (setup.py): finished with status 'done'\n",
      "  Created wheel for cufflinks: filename=cufflinks-0.17.3-py3-none-any.whl size=68734 sha256=3fe5ce68e5b809481074bdde2da7e751a5f3f5ab027b3edd5ef0bde179774dc9\n",
      "  Stored in directory: c:\\users\\2469l\\appdata\\local\\pip\\cache\\wheels\\29\\b4\\f8\\2fd2206eeeba6ccad8167e4e8894b8c4ec27bf1342037fd136\n",
      "  Building wheel for htmlmin (setup.py): started\n",
      "  Building wheel for htmlmin (setup.py): finished with status 'done'\n",
      "  Created wheel for htmlmin: filename=htmlmin-0.1.12-py3-none-any.whl size=27098 sha256=ab066cab982dfdb88d4165be0df6d938e5a896b7c3e8a081815d8a1f21170249\n",
      "  Stored in directory: c:\\users\\2469l\\appdata\\local\\pip\\cache\\wheels\\1d\\05\\04\\c6d7d3b66539d9e659ac6dfe81e2d0fd4c1a8316cc5a403300\n",
      "  Building wheel for imagehash (setup.py): started\n",
      "  Building wheel for imagehash (setup.py): finished with status 'done'\n",
      "  Created wheel for imagehash: filename=ImageHash-4.2.1-py2.py3-none-any.whl size=295207 sha256=c7b0f67892795bb4cabc67bd6a674985fc16c2f50d003011b5201de5b1a5ff3a\n",
      "  Stored in directory: c:\\users\\2469l\\appdata\\local\\pip\\cache\\wheels\\51\\f9\\a5\\740af2fdb0ad1edf79aabdc41531be0b6f0b2e2be684c388cf\n",
      "  Building wheel for databricks-cli (setup.py): started\n",
      "  Building wheel for databricks-cli (setup.py): finished with status 'done'\n",
      "  Created wheel for databricks-cli: filename=databricks_cli-0.16.6-py3-none-any.whl size=112631 sha256=e31686da947ad320b18c000aa02470a5cbaf4581e460fa8b2ee5c0efb7b23fe6\n",
      "  Stored in directory: c:\\users\\2469l\\appdata\\local\\pip\\cache\\wheels\\af\\e4\\ed\\c601b319f71b0c442f62feba2a97b37617b2bf9e3f9fd6190b\n",
      "  Building wheel for pyLDAvis (PEP 517): started\n",
      "  Building wheel for pyLDAvis (PEP 517): finished with status 'done'\n",
      "  Created wheel for pyLDAvis: filename=pyLDAvis-3.3.1-py2.py3-none-any.whl size=136882 sha256=c7276db2aba6f98816b2564b5c6940c0c290c38ece30636f30c23e47c766bd02\n",
      "  Stored in directory: c:\\users\\2469l\\appdata\\local\\pip\\cache\\wheels\\57\\a4\\86\\d10c6c2e0bf149fbc0afb0aa5a6528ac35b30a133a0270c477\n",
      "  Building wheel for pyod (setup.py): started\n",
      "  Building wheel for pyod (setup.py): finished with status 'done'\n",
      "  Created wheel for pyod: filename=pyod-1.0.1-py3-none-any.whl size=147472 sha256=5058175cc1ff81f06dad9f971abb54cf2828b0f07f4a2f422153fb412fc78ab2\n",
      "  Stored in directory: c:\\users\\2469l\\appdata\\local\\pip\\cache\\wheels\\60\\86\\45\\f87f13a58842cc45f56054d9fb80638bf642aa1ec763d6a8f6\n",
      "  Building wheel for sklearn (setup.py): started\n",
      "  Building wheel for sklearn (setup.py): finished with status 'done'\n",
      "  Created wheel for sklearn: filename=sklearn-0.0-py2.py3-none-any.whl size=1309 sha256=6bc07a0401557ad29266cb19c10e628ec23a9d62bba2ff4128e0d22bfe1a2209\n",
      "  Stored in directory: c:\\users\\2469l\\appdata\\local\\pip\\cache\\wheels\\e4\\7b\\98\\b6466d71b8d738a0c547008b9eb39bf8676d1ff6ca4b22af1c\n",
      "  Building wheel for umap-learn (setup.py): started\n",
      "  Building wheel for umap-learn (setup.py): finished with status 'done'\n",
      "  Created wheel for umap-learn: filename=umap_learn-0.5.3-py3-none-any.whl size=82830 sha256=75215fceeacc4f322e27c88615694cd212db1f23832fdfad70ffb90d7d86e3c7\n",
      "  Stored in directory: c:\\users\\2469l\\appdata\\local\\pip\\cache\\wheels\\f4\\3e\\1c\\596d0a463d17475af648688443fa4846fef624d1390339e7e9\n",
      "  Building wheel for pynndescent (setup.py): started\n",
      "  Building wheel for pynndescent (setup.py): finished with status 'done'\n",
      "  Created wheel for pynndescent: filename=pynndescent-0.5.7-py3-none-any.whl size=54287 sha256=0c59411484e031fbd2708fb6324604d49ef5e9cf359e8c261d6fdbf091d24204\n",
      "  Stored in directory: c:\\users\\2469l\\appdata\\local\\pip\\cache\\wheels\\5b\\f5\\6e\\aac11d69fe2115d9ac871d6c148b361f0d3f8a35ed7354fa03\n",
      "  Building wheel for wordcloud (setup.py): started\n",
      "  Building wheel for wordcloud (setup.py): finished with status 'error'\n",
      "  Running setup.py clean for wordcloud\n",
      "Successfully built cufflinks htmlmin imagehash databricks-cli pyLDAvis pyod sklearn umap-learn pynndescent\n",
      "Failed to build wordcloud\n",
      "Installing collected packages: pywin32, markupsafe, tangled-up-in-unicode, smmap, murmurhash, multimethod, cymem, catalogue, websocket-client, wasabi, visions, typer, tenacity, tabulate, srsly, smart-open, scikit-learn, pydantic, preshed, oauthlib, Mako, imagehash, gitdb, Cython, blis, waitress, thinc, sqlparse, spacy-loggers, spacy-legacy, sklearn, querystring-parser, pynndescent, protobuf, prometheus-flask-exporter, plotly, phik, pathy, missingno, langcodes, htmlmin, gitpython, gensim, funcy, docker, databricks-cli, colorlover, alembic, yellowbrick, xgboost, wordcloud, umap-learn, textblob, spacy, scikit-plot, pyod, pyLDAvis, pandas-profiling, mlxtend, mlflow, kmodes, imbalanced-learn, cufflinks, catboost, pycaret\n",
      "  Attempting uninstall: pywin32\n",
      "    Found existing installation: pywin32 228\n",
      "    Uninstalling pywin32-228:\n",
      "      Successfully uninstalled pywin32-228\n",
      "  Rolling back uninstall of pywin32\n",
      "  Moving to c:\\users\\2469l\\anaconda3\\lib\\site-packages\\__pycache__\\pythoncom.cpython-39.pyc\n",
      "   from C:\\Users\\2469l\\AppData\\Local\\Temp\\pip-uninstall-8daadw98\\pythoncom.cpython-39.pyc\n",
      "  Moving to c:\\users\\2469l\\anaconda3\\lib\\site-packages\\adodbapi\n",
      "   from C:\\Users\\2469l\\anaconda3\\Lib\\site-packages\\~dodbapi\n",
      "  Moving to c:\\users\\2469l\\anaconda3\\lib\\site-packages\\isapi\n",
      "   from C:\\Users\\2469l\\anaconda3\\Lib\\site-packages\\~sapi\n",
      "  Moving to c:\\users\\2469l\\anaconda3\\lib\\site-packages\\pythoncom.py\n",
      "   from C:\\Users\\2469l\\AppData\\Local\\Temp\\pip-uninstall-b6odhvme\\pythoncom.py\n",
      "  Moving to c:\\users\\2469l\\anaconda3\\lib\\site-packages\\pythonwin\n",
      "   from C:\\Users\\2469l\\anaconda3\\Lib\\site-packages\\~ythonwin\n",
      "  Moving to c:\\users\\2469l\\anaconda3\\lib\\site-packages\\pywin32-228-py3.9.egg-info\n",
      "   from C:\\Users\\2469l\\anaconda3\\Lib\\site-packages\\~ywin32-228-py3.9.egg-info\n",
      "  Moving to c:\\users\\2469l\\anaconda3\\lib\\site-packages\\win32\\lib\\\n",
      "   from C:\\Users\\2469l\\anaconda3\\Lib\\site-packages\\win32\\~ib\n",
      "  Moving to c:\\users\\2469l\\anaconda3\\lib\\site-packages\\win32com\n",
      "   from C:\\Users\\2469l\\anaconda3\\Lib\\site-packages\\~in32com\n",
      "  Moving to c:\\users\\2469l\\anaconda3\\lib\\site-packages\\win32comext\n",
      "   from C:\\Users\\2469l\\anaconda3\\Lib\\site-packages\\~in32comext\n"
     ]
    }
   ],
   "source": [
    "!pip install pycaret"
   ]
  },
  {
   "cell_type": "code",
   "execution_count": 113,
   "id": "27901dcf",
   "metadata": {},
   "outputs": [
    {
     "data": {
      "text/plain": [
       "(['age',\n",
       "  'workclass',\n",
       "  'fnlwgt_log',\n",
       "  'education',\n",
       "  'marital_status',\n",
       "  'occupation',\n",
       "  'relationship',\n",
       "  'race',\n",
       "  'sex',\n",
       "  'capital_gain',\n",
       "  'capital_loss',\n",
       "  'hours_per_week',\n",
       "  'native_country',\n",
       "  'capital_net_pos_key',\n",
       "  'capital_net_neg_key',\n",
       "  'country_bin'],\n",
       " ['income'])"
      ]
     },
     "execution_count": 113,
     "metadata": {},
     "output_type": "execute_result"
    }
   ],
   "source": [
    "features, label"
   ]
  },
  {
   "cell_type": "code",
   "execution_count": 114,
   "id": "c83d576a",
   "metadata": {},
   "outputs": [],
   "source": [
    "all_data_caret = all_data[features + label]"
   ]
  },
  {
   "cell_type": "code",
   "execution_count": 115,
   "id": "5d8b5d0a",
   "metadata": {},
   "outputs": [
    {
     "data": {
      "text/html": [
       "<div>\n",
       "<style scoped>\n",
       "    .dataframe tbody tr th:only-of-type {\n",
       "        vertical-align: middle;\n",
       "    }\n",
       "\n",
       "    .dataframe tbody tr th {\n",
       "        vertical-align: top;\n",
       "    }\n",
       "\n",
       "    .dataframe thead th {\n",
       "        text-align: right;\n",
       "    }\n",
       "</style>\n",
       "<table border=\"1\" class=\"dataframe\">\n",
       "  <thead>\n",
       "    <tr style=\"text-align: right;\">\n",
       "      <th></th>\n",
       "      <th>age</th>\n",
       "      <th>workclass</th>\n",
       "      <th>fnlwgt_log</th>\n",
       "      <th>education</th>\n",
       "      <th>marital_status</th>\n",
       "      <th>occupation</th>\n",
       "      <th>relationship</th>\n",
       "      <th>race</th>\n",
       "      <th>sex</th>\n",
       "      <th>capital_gain</th>\n",
       "      <th>capital_loss</th>\n",
       "      <th>hours_per_week</th>\n",
       "      <th>native_country</th>\n",
       "      <th>capital_net_pos_key</th>\n",
       "      <th>capital_net_neg_key</th>\n",
       "      <th>country_bin</th>\n",
       "      <th>income</th>\n",
       "    </tr>\n",
       "  </thead>\n",
       "  <tbody>\n",
       "    <tr>\n",
       "      <th>0</th>\n",
       "      <td>50</td>\n",
       "      <td>Self-emp-not-inc</td>\n",
       "      <td>11.330336</td>\n",
       "      <td>level_7</td>\n",
       "      <td>Married-civ-spouse</td>\n",
       "      <td>Exec-managerial</td>\n",
       "      <td>Husband</td>\n",
       "      <td>White</td>\n",
       "      <td>Male</td>\n",
       "      <td>0</td>\n",
       "      <td>0</td>\n",
       "      <td>13</td>\n",
       "      <td>United-States</td>\n",
       "      <td>False</td>\n",
       "      <td>False</td>\n",
       "      <td>income_04</td>\n",
       "      <td>0</td>\n",
       "    </tr>\n",
       "    <tr>\n",
       "      <th>1</th>\n",
       "      <td>38</td>\n",
       "      <td>Private</td>\n",
       "      <td>12.281393</td>\n",
       "      <td>level_4</td>\n",
       "      <td>Divorced</td>\n",
       "      <td>Handlers-cleaners</td>\n",
       "      <td>Not-in-family</td>\n",
       "      <td>White</td>\n",
       "      <td>Male</td>\n",
       "      <td>0</td>\n",
       "      <td>0</td>\n",
       "      <td>40</td>\n",
       "      <td>United-States</td>\n",
       "      <td>False</td>\n",
       "      <td>False</td>\n",
       "      <td>income_04</td>\n",
       "      <td>0</td>\n",
       "    </tr>\n",
       "    <tr>\n",
       "      <th>2</th>\n",
       "      <td>53</td>\n",
       "      <td>Private</td>\n",
       "      <td>12.366153</td>\n",
       "      <td>level_3</td>\n",
       "      <td>Married-civ-spouse</td>\n",
       "      <td>Handlers-cleaners</td>\n",
       "      <td>Husband</td>\n",
       "      <td>Black</td>\n",
       "      <td>Male</td>\n",
       "      <td>0</td>\n",
       "      <td>0</td>\n",
       "      <td>40</td>\n",
       "      <td>United-States</td>\n",
       "      <td>False</td>\n",
       "      <td>False</td>\n",
       "      <td>income_04</td>\n",
       "      <td>0</td>\n",
       "    </tr>\n",
       "    <tr>\n",
       "      <th>3</th>\n",
       "      <td>28</td>\n",
       "      <td>Private</td>\n",
       "      <td>12.732011</td>\n",
       "      <td>level_7</td>\n",
       "      <td>Married-civ-spouse</td>\n",
       "      <td>Prof-specialty</td>\n",
       "      <td>Wife</td>\n",
       "      <td>Black</td>\n",
       "      <td>Female</td>\n",
       "      <td>0</td>\n",
       "      <td>0</td>\n",
       "      <td>40</td>\n",
       "      <td>Cuba</td>\n",
       "      <td>False</td>\n",
       "      <td>False</td>\n",
       "      <td>income_05</td>\n",
       "      <td>0</td>\n",
       "    </tr>\n",
       "    <tr>\n",
       "      <th>4</th>\n",
       "      <td>37</td>\n",
       "      <td>Private</td>\n",
       "      <td>12.558777</td>\n",
       "      <td>level_8</td>\n",
       "      <td>Married-civ-spouse</td>\n",
       "      <td>Exec-managerial</td>\n",
       "      <td>Wife</td>\n",
       "      <td>White</td>\n",
       "      <td>Female</td>\n",
       "      <td>0</td>\n",
       "      <td>0</td>\n",
       "      <td>40</td>\n",
       "      <td>United-States</td>\n",
       "      <td>False</td>\n",
       "      <td>False</td>\n",
       "      <td>income_04</td>\n",
       "      <td>0</td>\n",
       "    </tr>\n",
       "  </tbody>\n",
       "</table>\n",
       "</div>"
      ],
      "text/plain": [
       "   age         workclass  fnlwgt_log education      marital_status  \\\n",
       "0   50  Self-emp-not-inc   11.330336   level_7  Married-civ-spouse   \n",
       "1   38           Private   12.281393   level_4            Divorced   \n",
       "2   53           Private   12.366153   level_3  Married-civ-spouse   \n",
       "3   28           Private   12.732011   level_7  Married-civ-spouse   \n",
       "4   37           Private   12.558777   level_8  Married-civ-spouse   \n",
       "\n",
       "          occupation   relationship   race     sex  capital_gain  \\\n",
       "0    Exec-managerial        Husband  White    Male             0   \n",
       "1  Handlers-cleaners  Not-in-family  White    Male             0   \n",
       "2  Handlers-cleaners        Husband  Black    Male             0   \n",
       "3     Prof-specialty           Wife  Black  Female             0   \n",
       "4    Exec-managerial           Wife  White  Female             0   \n",
       "\n",
       "   capital_loss  hours_per_week native_country  capital_net_pos_key  \\\n",
       "0             0              13  United-States                False   \n",
       "1             0              40  United-States                False   \n",
       "2             0              40  United-States                False   \n",
       "3             0              40           Cuba                False   \n",
       "4             0              40  United-States                False   \n",
       "\n",
       "   capital_net_neg_key country_bin  income  \n",
       "0                False   income_04       0  \n",
       "1                False   income_04       0  \n",
       "2                False   income_04       0  \n",
       "3                False   income_05       0  \n",
       "4                False   income_04       0  "
      ]
     },
     "execution_count": 115,
     "metadata": {},
     "output_type": "execute_result"
    }
   ],
   "source": [
    "all_data_caret.head()"
   ]
  },
  {
   "cell_type": "code",
   "execution_count": 116,
   "id": "cc477e4d",
   "metadata": {},
   "outputs": [],
   "source": [
    "all_data_caret['age'] = all_data_caret['age'].astype('float')\n",
    "# all_data_caret['capital_net'] = all_data_caret['capital_net'].astype('float')\n",
    "all_data_caret['hours_per_week'] = all_data_caret['hours_per_week'].astype('float')\n",
    "all_data_caret['capital_gain'] = all_data_caret['capital_gain'].astype('float')\n",
    "all_data_caret['capital_loss'] = all_data_caret['capital_loss'].astype('float') #type casting "
   ]
  },
  {
   "cell_type": "code",
   "execution_count": 117,
   "id": "e6a8d7c2",
   "metadata": {},
   "outputs": [],
   "source": [
    "train_clean = all_data_caret[:len(train)]\n",
    "test_clean = all_data_caret[len(train):]"
   ]
  },
  {
   "cell_type": "code",
   "execution_count": 118,
   "id": "fdb29a4a",
   "metadata": {},
   "outputs": [],
   "source": [
    "train_clean['income'] = train_clean['income'].astype('int')"
   ]
  },
  {
   "cell_type": "code",
   "execution_count": 119,
   "id": "8a5ab6b4",
   "metadata": {},
   "outputs": [
    {
     "data": {
      "text/html": [
       "<div>\n",
       "<style scoped>\n",
       "    .dataframe tbody tr th:only-of-type {\n",
       "        vertical-align: middle;\n",
       "    }\n",
       "\n",
       "    .dataframe tbody tr th {\n",
       "        vertical-align: top;\n",
       "    }\n",
       "\n",
       "    .dataframe thead th {\n",
       "        text-align: right;\n",
       "    }\n",
       "</style>\n",
       "<table border=\"1\" class=\"dataframe\">\n",
       "  <thead>\n",
       "    <tr style=\"text-align: right;\">\n",
       "      <th></th>\n",
       "      <th>age</th>\n",
       "      <th>workclass</th>\n",
       "      <th>fnlwgt_log</th>\n",
       "      <th>education</th>\n",
       "      <th>marital_status</th>\n",
       "      <th>occupation</th>\n",
       "      <th>relationship</th>\n",
       "      <th>race</th>\n",
       "      <th>sex</th>\n",
       "      <th>capital_gain</th>\n",
       "      <th>capital_loss</th>\n",
       "      <th>hours_per_week</th>\n",
       "      <th>native_country</th>\n",
       "      <th>capital_net_pos_key</th>\n",
       "      <th>capital_net_neg_key</th>\n",
       "      <th>country_bin</th>\n",
       "      <th>income</th>\n",
       "    </tr>\n",
       "  </thead>\n",
       "  <tbody>\n",
       "    <tr>\n",
       "      <th>0</th>\n",
       "      <td>50.0</td>\n",
       "      <td>Self-emp-not-inc</td>\n",
       "      <td>11.330336</td>\n",
       "      <td>level_7</td>\n",
       "      <td>Married-civ-spouse</td>\n",
       "      <td>Exec-managerial</td>\n",
       "      <td>Husband</td>\n",
       "      <td>White</td>\n",
       "      <td>Male</td>\n",
       "      <td>0.0</td>\n",
       "      <td>0.0</td>\n",
       "      <td>13.0</td>\n",
       "      <td>United-States</td>\n",
       "      <td>False</td>\n",
       "      <td>False</td>\n",
       "      <td>income_04</td>\n",
       "      <td>0</td>\n",
       "    </tr>\n",
       "    <tr>\n",
       "      <th>1</th>\n",
       "      <td>38.0</td>\n",
       "      <td>Private</td>\n",
       "      <td>12.281393</td>\n",
       "      <td>level_4</td>\n",
       "      <td>Divorced</td>\n",
       "      <td>Handlers-cleaners</td>\n",
       "      <td>Not-in-family</td>\n",
       "      <td>White</td>\n",
       "      <td>Male</td>\n",
       "      <td>0.0</td>\n",
       "      <td>0.0</td>\n",
       "      <td>40.0</td>\n",
       "      <td>United-States</td>\n",
       "      <td>False</td>\n",
       "      <td>False</td>\n",
       "      <td>income_04</td>\n",
       "      <td>0</td>\n",
       "    </tr>\n",
       "    <tr>\n",
       "      <th>2</th>\n",
       "      <td>53.0</td>\n",
       "      <td>Private</td>\n",
       "      <td>12.366153</td>\n",
       "      <td>level_3</td>\n",
       "      <td>Married-civ-spouse</td>\n",
       "      <td>Handlers-cleaners</td>\n",
       "      <td>Husband</td>\n",
       "      <td>Black</td>\n",
       "      <td>Male</td>\n",
       "      <td>0.0</td>\n",
       "      <td>0.0</td>\n",
       "      <td>40.0</td>\n",
       "      <td>United-States</td>\n",
       "      <td>False</td>\n",
       "      <td>False</td>\n",
       "      <td>income_04</td>\n",
       "      <td>0</td>\n",
       "    </tr>\n",
       "    <tr>\n",
       "      <th>3</th>\n",
       "      <td>28.0</td>\n",
       "      <td>Private</td>\n",
       "      <td>12.732011</td>\n",
       "      <td>level_7</td>\n",
       "      <td>Married-civ-spouse</td>\n",
       "      <td>Prof-specialty</td>\n",
       "      <td>Wife</td>\n",
       "      <td>Black</td>\n",
       "      <td>Female</td>\n",
       "      <td>0.0</td>\n",
       "      <td>0.0</td>\n",
       "      <td>40.0</td>\n",
       "      <td>Cuba</td>\n",
       "      <td>False</td>\n",
       "      <td>False</td>\n",
       "      <td>income_05</td>\n",
       "      <td>0</td>\n",
       "    </tr>\n",
       "    <tr>\n",
       "      <th>4</th>\n",
       "      <td>37.0</td>\n",
       "      <td>Private</td>\n",
       "      <td>12.558777</td>\n",
       "      <td>level_8</td>\n",
       "      <td>Married-civ-spouse</td>\n",
       "      <td>Exec-managerial</td>\n",
       "      <td>Wife</td>\n",
       "      <td>White</td>\n",
       "      <td>Female</td>\n",
       "      <td>0.0</td>\n",
       "      <td>0.0</td>\n",
       "      <td>40.0</td>\n",
       "      <td>United-States</td>\n",
       "      <td>False</td>\n",
       "      <td>False</td>\n",
       "      <td>income_04</td>\n",
       "      <td>0</td>\n",
       "    </tr>\n",
       "  </tbody>\n",
       "</table>\n",
       "</div>"
      ],
      "text/plain": [
       "    age         workclass  fnlwgt_log education      marital_status  \\\n",
       "0  50.0  Self-emp-not-inc   11.330336   level_7  Married-civ-spouse   \n",
       "1  38.0           Private   12.281393   level_4            Divorced   \n",
       "2  53.0           Private   12.366153   level_3  Married-civ-spouse   \n",
       "3  28.0           Private   12.732011   level_7  Married-civ-spouse   \n",
       "4  37.0           Private   12.558777   level_8  Married-civ-spouse   \n",
       "\n",
       "          occupation   relationship   race     sex  capital_gain  \\\n",
       "0    Exec-managerial        Husband  White    Male           0.0   \n",
       "1  Handlers-cleaners  Not-in-family  White    Male           0.0   \n",
       "2  Handlers-cleaners        Husband  Black    Male           0.0   \n",
       "3     Prof-specialty           Wife  Black  Female           0.0   \n",
       "4    Exec-managerial           Wife  White  Female           0.0   \n",
       "\n",
       "   capital_loss  hours_per_week native_country  capital_net_pos_key  \\\n",
       "0           0.0            13.0  United-States                False   \n",
       "1           0.0            40.0  United-States                False   \n",
       "2           0.0            40.0  United-States                False   \n",
       "3           0.0            40.0           Cuba                False   \n",
       "4           0.0            40.0  United-States                False   \n",
       "\n",
       "   capital_net_neg_key country_bin  income  \n",
       "0                False   income_04       0  \n",
       "1                False   income_04       0  \n",
       "2                False   income_04       0  \n",
       "3                False   income_05       0  \n",
       "4                False   income_04       0  "
      ]
     },
     "execution_count": 119,
     "metadata": {},
     "output_type": "execute_result"
    }
   ],
   "source": [
    "train_clean.head()"
   ]
  },
  {
   "cell_type": "code",
   "execution_count": 121,
   "id": "94cf5ce2",
   "metadata": {},
   "outputs": [
    {
     "ename": "NameError",
     "evalue": "name 'setup' is not defined",
     "output_type": "error",
     "traceback": [
      "\u001b[1;31m---------------------------------------------------------------------------\u001b[0m",
      "\u001b[1;31mNameError\u001b[0m                                 Traceback (most recent call last)",
      "\u001b[1;32m~\\AppData\\Local\\Temp/ipykernel_18988/3460251001.py\u001b[0m in \u001b[0;36m<module>\u001b[1;34m\u001b[0m\n\u001b[1;32m----> 1\u001b[1;33m \u001b[0msetup\u001b[0m\u001b[1;33m(\u001b[0m\u001b[0mdata\u001b[0m \u001b[1;33m=\u001b[0m \u001b[0mtrain_clean\u001b[0m\u001b[1;33m,\u001b[0m \u001b[0mtarget\u001b[0m \u001b[1;33m=\u001b[0m \u001b[1;34m'income'\u001b[0m\u001b[1;33m,\u001b[0m \u001b[0msession_id\u001b[0m\u001b[1;33m=\u001b[0m\u001b[0mSEED\u001b[0m\u001b[1;33m,\u001b[0m \u001b[0msilent\u001b[0m\u001b[1;33m=\u001b[0m\u001b[1;32mTrue\u001b[0m\u001b[1;33m)\u001b[0m\u001b[1;31m# data는 train셋 target\u001b[0m\u001b[1;33m\u001b[0m\u001b[1;33m\u001b[0m\u001b[0m\n\u001b[0m",
      "\u001b[1;31mNameError\u001b[0m: name 'setup' is not defined"
     ]
    }
   ],
   "source": [
    "setup(data = train_clean, target = 'income', session_id=SEED, silent=True)# data는 train셋 target pycaret 사용은 일단 보류"
   ]
  },
  {
   "cell_type": "code",
   "execution_count": null,
   "id": "9905fa3e",
   "metadata": {},
   "outputs": [],
   "source": []
  }
 ],
 "metadata": {
  "kernelspec": {
   "display_name": "Python 3 (ipykernel)",
   "language": "python",
   "name": "python3"
  },
  "language_info": {
   "codemirror_mode": {
    "name": "ipython",
    "version": 3
   },
   "file_extension": ".py",
   "mimetype": "text/x-python",
   "name": "python",
   "nbconvert_exporter": "python",
   "pygments_lexer": "ipython3",
   "version": "3.9.7"
  }
 },
 "nbformat": 4,
 "nbformat_minor": 5
}
