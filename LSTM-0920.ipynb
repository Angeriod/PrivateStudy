{
 "cells": [
  {
   "cell_type": "code",
   "execution_count": 1,
   "id": "a60bb593",
   "metadata": {},
   "outputs": [],
   "source": [
    "import pandas as pd\n",
    "import numpy as np\n",
    "import torch\n",
    "import torch.nn as nn \n",
    "import torch.nn.functional as F\n",
    "import matplotlib.pyplot as plt\n",
    "from sklearn.model_selection import train_test_split\n",
    "from sklearn.preprocessing import MinMaxScaler\n",
    "from sklearn import metrics\n",
    "import datetime"
   ]
  },
  {
   "cell_type": "code",
   "execution_count": 2,
   "id": "5349d82c",
   "metadata": {},
   "outputs": [],
   "source": [
    "data=pd.read_csv(\"./LGDisplay.csv\")\n",
    "data = data.sort_index(ascending=False)\n",
    "data= data.reset_index()\n",
    "data=data.drop([\"index\"], axis=1)"
   ]
  },
  {
   "cell_type": "code",
   "execution_count": 3,
   "id": "1be1aad1",
   "metadata": {},
   "outputs": [
    {
     "data": {
      "text/html": [
       "<div>\n",
       "<style scoped>\n",
       "    .dataframe tbody tr th:only-of-type {\n",
       "        vertical-align: middle;\n",
       "    }\n",
       "\n",
       "    .dataframe tbody tr th {\n",
       "        vertical-align: top;\n",
       "    }\n",
       "\n",
       "    .dataframe thead th {\n",
       "        text-align: right;\n",
       "    }\n",
       "</style>\n",
       "<table border=\"1\" class=\"dataframe\">\n",
       "  <thead>\n",
       "    <tr style=\"text-align: right;\">\n",
       "      <th></th>\n",
       "      <th>날짜</th>\n",
       "      <th>종가</th>\n",
       "      <th>전일비</th>\n",
       "      <th>시가</th>\n",
       "      <th>고가</th>\n",
       "      <th>저가</th>\n",
       "      <th>거래량</th>\n",
       "    </tr>\n",
       "  </thead>\n",
       "  <tbody>\n",
       "    <tr>\n",
       "      <th>0</th>\n",
       "      <td>2017.01.02</td>\n",
       "      <td>31150</td>\n",
       "      <td>300</td>\n",
       "      <td>31200</td>\n",
       "      <td>31300</td>\n",
       "      <td>30750</td>\n",
       "      <td>1158495</td>\n",
       "    </tr>\n",
       "    <tr>\n",
       "      <th>1</th>\n",
       "      <td>2017.01.03</td>\n",
       "      <td>31750</td>\n",
       "      <td>600</td>\n",
       "      <td>31300</td>\n",
       "      <td>31900</td>\n",
       "      <td>31250</td>\n",
       "      <td>1350385</td>\n",
       "    </tr>\n",
       "    <tr>\n",
       "      <th>2</th>\n",
       "      <td>2017.01.04</td>\n",
       "      <td>31450</td>\n",
       "      <td>300</td>\n",
       "      <td>31950</td>\n",
       "      <td>32250</td>\n",
       "      <td>31100</td>\n",
       "      <td>1297451</td>\n",
       "    </tr>\n",
       "    <tr>\n",
       "      <th>3</th>\n",
       "      <td>2017.01.05</td>\n",
       "      <td>31500</td>\n",
       "      <td>50</td>\n",
       "      <td>31550</td>\n",
       "      <td>31700</td>\n",
       "      <td>31100</td>\n",
       "      <td>1051313</td>\n",
       "    </tr>\n",
       "    <tr>\n",
       "      <th>4</th>\n",
       "      <td>2017.01.06</td>\n",
       "      <td>31650</td>\n",
       "      <td>150</td>\n",
       "      <td>31750</td>\n",
       "      <td>31950</td>\n",
       "      <td>31550</td>\n",
       "      <td>917903</td>\n",
       "    </tr>\n",
       "    <tr>\n",
       "      <th>...</th>\n",
       "      <td>...</td>\n",
       "      <td>...</td>\n",
       "      <td>...</td>\n",
       "      <td>...</td>\n",
       "      <td>...</td>\n",
       "      <td>...</td>\n",
       "      <td>...</td>\n",
       "    </tr>\n",
       "    <tr>\n",
       "      <th>1400</th>\n",
       "      <td>2022.09.14</td>\n",
       "      <td>15200</td>\n",
       "      <td>600</td>\n",
       "      <td>15350</td>\n",
       "      <td>15450</td>\n",
       "      <td>15200</td>\n",
       "      <td>919878</td>\n",
       "    </tr>\n",
       "    <tr>\n",
       "      <th>1401</th>\n",
       "      <td>2022.09.15</td>\n",
       "      <td>14950</td>\n",
       "      <td>250</td>\n",
       "      <td>15300</td>\n",
       "      <td>15500</td>\n",
       "      <td>14950</td>\n",
       "      <td>1182374</td>\n",
       "    </tr>\n",
       "    <tr>\n",
       "      <th>1402</th>\n",
       "      <td>2022.09.16</td>\n",
       "      <td>14500</td>\n",
       "      <td>450</td>\n",
       "      <td>14850</td>\n",
       "      <td>14950</td>\n",
       "      <td>14450</td>\n",
       "      <td>1766413</td>\n",
       "    </tr>\n",
       "    <tr>\n",
       "      <th>1403</th>\n",
       "      <td>2022.09.19</td>\n",
       "      <td>14300</td>\n",
       "      <td>200</td>\n",
       "      <td>14400</td>\n",
       "      <td>14500</td>\n",
       "      <td>14150</td>\n",
       "      <td>1212424</td>\n",
       "    </tr>\n",
       "    <tr>\n",
       "      <th>1404</th>\n",
       "      <td>2022.09.20</td>\n",
       "      <td>14350</td>\n",
       "      <td>50</td>\n",
       "      <td>14450</td>\n",
       "      <td>14500</td>\n",
       "      <td>14150</td>\n",
       "      <td>930651</td>\n",
       "    </tr>\n",
       "  </tbody>\n",
       "</table>\n",
       "<p>1405 rows × 7 columns</p>\n",
       "</div>"
      ],
      "text/plain": [
       "              날짜     종가  전일비     시가     고가     저가      거래량\n",
       "0     2017.01.02  31150  300  31200  31300  30750  1158495\n",
       "1     2017.01.03  31750  600  31300  31900  31250  1350385\n",
       "2     2017.01.04  31450  300  31950  32250  31100  1297451\n",
       "3     2017.01.05  31500   50  31550  31700  31100  1051313\n",
       "4     2017.01.06  31650  150  31750  31950  31550   917903\n",
       "...          ...    ...  ...    ...    ...    ...      ...\n",
       "1400  2022.09.14  15200  600  15350  15450  15200   919878\n",
       "1401  2022.09.15  14950  250  15300  15500  14950  1182374\n",
       "1402  2022.09.16  14500  450  14850  14950  14450  1766413\n",
       "1403  2022.09.19  14300  200  14400  14500  14150  1212424\n",
       "1404  2022.09.20  14350   50  14450  14500  14150   930651\n",
       "\n",
       "[1405 rows x 7 columns]"
      ]
     },
     "execution_count": 3,
     "metadata": {},
     "output_type": "execute_result"
    }
   ],
   "source": [
    "data"
   ]
  },
  {
   "cell_type": "code",
   "execution_count": 4,
   "id": "ba666962",
   "metadata": {},
   "outputs": [],
   "source": [
    "scaler=MinMaxScaler()\n",
    "data['Close']=scaler.fit_transform(data['종가'].values.reshape(-1,1))\n",
    "data = data['Close']"
   ]
  },
  {
   "cell_type": "code",
   "execution_count": 5,
   "id": "34146680",
   "metadata": {},
   "outputs": [
    {
     "data": {
      "text/plain": [
       "0       0.741667\n",
       "1       0.761667\n",
       "2       0.751667\n",
       "3       0.753333\n",
       "4       0.758333\n",
       "          ...   \n",
       "1400    0.210000\n",
       "1401    0.201667\n",
       "1402    0.186667\n",
       "1403    0.180000\n",
       "1404    0.181667\n",
       "Name: Close, Length: 1405, dtype: float64"
      ]
     },
     "execution_count": 5,
     "metadata": {},
     "output_type": "execute_result"
    }
   ],
   "source": [
    "data"
   ]
  },
  {
   "cell_type": "code",
   "execution_count": 6,
   "id": "47b7e53e",
   "metadata": {},
   "outputs": [],
   "source": [
    "def make_dataset(data, window_size = 20):\n",
    "    feature_list = []\n",
    "    label_list = []\n",
    "    for i in range(len(data)-window_size):\n",
    "        feature_list.append(data.iloc[i:i+window_size])\n",
    "        label_list.append(data.iloc[i+window_size])\n",
    "    return np.array(feature_list), np.array(label_list)\n",
    "\n",
    "data_X, data_Y = make_dataset(data)\n",
    "train_data, train_label = data_X[:-200], data_Y[:-200]\n",
    "test_data, test_label = data_X[-200:],data_Y[-200:]"
   ]
  },
  {
   "cell_type": "code",
   "execution_count": 7,
   "id": "bb9a12ce",
   "metadata": {
    "scrolled": true
   },
   "outputs": [],
   "source": [
    "X_train = torch.from_numpy(train_data).float()\n",
    "y_train = torch.from_numpy(train_label).float()\n",
    "\n",
    "X_test = torch.from_numpy(test_data).float()\n",
    "y_test = torch.from_numpy(test_label).float()"
   ]
  },
  {
   "cell_type": "code",
   "execution_count": 8,
   "id": "836bcda9",
   "metadata": {},
   "outputs": [],
   "source": [
    "X_train=X_train.view(X_train.shape[0],20,1)\n",
    "y_train=y_train.view(-1,1)\n",
    "X_test=X_test.view(X_test.shape[0],20,1)\n",
    "y_test=y_test.view(-1,1)"
   ]
  },
  {
   "cell_type": "code",
   "execution_count": 9,
   "id": "968d0db3",
   "metadata": {},
   "outputs": [
    {
     "data": {
      "text/plain": [
       "torch.Size([1185, 20, 1])"
      ]
     },
     "execution_count": 9,
     "metadata": {},
     "output_type": "execute_result"
    }
   ],
   "source": [
    "X_train.shape"
   ]
  },
  {
   "cell_type": "code",
   "execution_count": 10,
   "id": "6b6b5e2c",
   "metadata": {},
   "outputs": [],
   "source": [
    "class LSTM(nn.Module):\n",
    "    def __init__(self, input_dim, hidden_dim, num_layers, output_dim):\n",
    "        super(LSTM,self).__init__()\n",
    "        \n",
    "        self.hidden_dim=hidden_dim\n",
    "        self.num_layers = num_layers\n",
    "        self.input_dim = input_dim\n",
    "        self.lstm = nn.LSTM(input_dim, hidden_dim, num_layers, batch_first=True)\n",
    "        \n",
    "        self.fc = nn.Linear(hidden_dim, output_dim)\n",
    "        \n",
    "    def forward(self,x):\n",
    "    \n",
    "        h0=torch.zeros(self.num_layers, x.size(0), self.hidden_dim)\n",
    "        \n",
    "        c0=torch.zeros(self.num_layers, x.size(0), self.hidden_dim)\n",
    "    \n",
    "        out, (hn, cn) =self.lstm(x, (h0,c0))\n",
    "    \n",
    "        \n",
    "        out=self.fc(out[:,-1,:])\n",
    "        \n",
    "        return out\n",
    "    "
   ]
  },
  {
   "cell_type": "code",
   "execution_count": 11,
   "id": "55c053c9",
   "metadata": {},
   "outputs": [],
   "source": [
    "model=LSTM(input_dim=1, hidden_dim=50, output_dim=1, num_layers=2)\n",
    "loss_fn=torch.nn.MSELoss(reduction='sum')\n",
    "optimizer= torch.optim.Adam(model.parameters(),lr=0.01)"
   ]
  },
  {
   "cell_type": "code",
   "execution_count": 12,
   "id": "b0d83f1d",
   "metadata": {},
   "outputs": [
    {
     "name": "stdout",
     "output_type": "stream",
     "text": [
      "Epoch  10 MSE:  21.303394317626953\n",
      "Epoch  20 MSE:  16.26215934753418\n",
      "Epoch  30 MSE:  8.865410804748535\n",
      "Epoch  40 MSE:  3.3544058799743652\n",
      "Epoch  50 MSE:  2.209209442138672\n",
      "Epoch  60 MSE:  1.5530633926391602\n",
      "Epoch  70 MSE:  1.271999716758728\n",
      "Epoch  80 MSE:  1.1037731170654297\n",
      "Epoch  90 MSE:  0.9975361227989197\n",
      "Epoch  100 MSE:  0.923724353313446\n",
      "Epoch  110 MSE:  0.8670404553413391\n",
      "Epoch  120 MSE:  0.8223494291305542\n",
      "Epoch  130 MSE:  0.786078929901123\n",
      "Epoch  140 MSE:  0.75467449426651\n",
      "Epoch  150 MSE:  0.7273656129837036\n",
      "Epoch  160 MSE:  0.7033243775367737\n",
      "Epoch  170 MSE:  0.6818557977676392\n",
      "Epoch  180 MSE:  0.6622810959815979\n",
      "Epoch  190 MSE:  0.6439395546913147\n"
     ]
    }
   ],
   "source": [
    "hist = np.zeros(200)    \n",
    "    \n",
    "for t in range(200):    \n",
    "    \n",
    "    # Forward pass\n",
    "    \n",
    "    y_train_pred = model(X_train)\n",
    "\n",
    "    loss = loss_fn(y_train_pred, y_train)\n",
    "    if t % 10 == 0 and t !=0:\n",
    "        print(\"Epoch \", t, \"MSE: \", loss.item())\n",
    "    hist[t] = loss.item()\n",
    "\n",
    "    # Zero out gradient, else they will accumulate between epochs\n",
    "    optimizer.zero_grad()\n",
    "\n",
    "    # Backward pass\n",
    "    loss.backward()\n",
    "\n",
    "    # Update parameters\n",
    "    optimizer.step()"
   ]
  },
  {
   "cell_type": "code",
   "execution_count": 13,
   "id": "d09d8001",
   "metadata": {},
   "outputs": [
    {
     "data": {
      "image/png": "[encoded data removed]",
      "text/plain": [
       "<Figure size 432x288 with 1 Axes>"
      ]
     },
     "metadata": {
      "needs_background": "light"
     },
     "output_type": "display_data"
    },
    {
     "data": {
      "image/png": "[encoded data removed]",
      "text/plain": [
       "<Figure size 432x288 with 1 Axes>"
      ]
     },
     "metadata": {
      "needs_background": "light"
     },
     "output_type": "display_data"
    },
    {
     "data": {
      "image/png": "[encoded data removed]",
      "text/plain": [
       "<Figure size 432x288 with 1 Axes>"
      ]
     },
     "metadata": {
      "needs_background": "light"
     },
     "output_type": "display_data"
    }
   ],
   "source": [
    "plt.plot(y_train_pred.detach().numpy(), label=\"Preds\")\n",
    "plt.plot(y_train.detach().numpy(), label=\"Real\")\n",
    "plt.legend()\n",
    "plt.show()\n",
    "\n",
    "y_test_pred = model(X_test)\n",
    "plt.plot(y_test_pred.detach().numpy(), label=\"Preds\")\n",
    "plt.plot(y_test.detach().numpy(), label=\"Real\")\n",
    "plt.legend()\n",
    "plt.show()\n",
    "\n",
    "y_test_pred=scaler.inverse_transform(y_test_pred.detach().numpy())\n",
    "y_test = scaler.inverse_transform(y_test.detach().numpy())\n",
    "plt.plot(y_test_pred,label=\"Preds\")\n",
    "plt.plot(y_test, label=\"Real\")\n",
    "plt.legend()\n",
    "plt.show()"
   ]
  },
  {
   "cell_type": "code",
   "execution_count": 14,
   "id": "9daac88d",
   "metadata": {},
   "outputs": [
    {
     "data": {
      "text/plain": [
       "<function matplotlib.pyplot.show(close=None, block=None)>"
      ]
     },
     "execution_count": 14,
     "metadata": {},
     "output_type": "execute_result"
    },
    {
     "data": {
      "image/png": "[encoded data removed]",
      "text/plain": [
       "<Figure size 432x288 with 1 Axes>"
      ]
     },
     "metadata": {
      "needs_background": "light"
     },
     "output_type": "display_data"
    }
   ],
   "source": [
    "test_seq=X_test[:1]\n",
    "preds=[]\n",
    "\n",
    "for i in range(len(X_test)):\n",
    "    y_test_pred=model(test_seq)\n",
    "    \n",
    "    pred=y_test_pred.item()\n",
    "    preds.append(pred)\n",
    "\n",
    "    new_seq=test_seq.numpy()\n",
    "    \n",
    "    new_seq=np.append(new_seq,pred)\n",
    "    new_seq=new_seq[1:]\n",
    "    test_seq=torch.from_numpy(new_seq).view(1,20,1).float()\n",
    "\n",
    "\n",
    "preds=scaler.inverse_transform(np.array(preds).reshape(-1,1))\n",
    "plt.plot(preds, label='Preds')\n",
    "plt.plot(y_test, label='Data')\n",
    "plt.show"
   ]
  }
 ],
 "metadata": {
  "kernelspec": {
   "display_name": "Python 3 (ipykernel)",
   "language": "python",
   "name": "python3"
  },
  "language_info": {
   "codemirror_mode": {
    "name": "ipython",
    "version": 3
   },
   "file_extension": ".py",
   "mimetype": "text/x-python",
   "name": "python",
   "nbconvert_exporter": "python",
   "pygments_lexer": "ipython3",
   "version": "3.9.12"
  }
 },
 "nbformat": 4,
 "nbformat_minor": 5
}
