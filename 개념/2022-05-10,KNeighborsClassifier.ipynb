{
 "cells": [
  {
   "cell_type": "markdown",
   "id": "accc8917",
   "metadata": {},
   "source": [
    "![nn](image/knn01.PNG)"
   ]
  },
  {
   "cell_type": "markdown",
   "id": "45f9312f",
   "metadata": {},
   "source": [
    "모든 데이터(점)에는 x값과 y값이 있다. 그리고 점의 색상으로 초록/빨강으로 표시하요 분류하여 나타냈다. 하얀점은 분류가 안된 새로운 데이터이다 k-최근접 이웃 알고리즘의 목적은 이렇게 새점이 등장했을때, 이걸 초록이나 빨강으로 분류하는 것이다.\n",
    "k=1일때, 인접 이웃이1명이라는 뜻 가장 가까운 초록이랑 묶여서 초록이 된다."
   ]
  },
  {
   "cell_type": "markdown",
   "id": "35db5bc7",
   "metadata": {},
   "source": [
    "![nn](image/knn02.PNG)"
   ]
  },
  {
   "cell_type": "markdown",
   "id": "02e37215",
   "metadata": {},
   "source": [
    "k=2이면 인접이웃이2명 아직초록이다"
   ]
  },
  {
   "cell_type": "markdown",
   "id": "a8325c29",
   "metadata": {},
   "source": [
    "![nn](image/knn03.PNG)"
   ]
  },
  {
   "cell_type": "markdown",
   "id": "690ca0cc",
   "metadata": {},
   "source": [
    "k=3,이때 빨강이 들어왔지만, 다수결로 초록으로 분류"
   ]
  },
  {
   "cell_type": "markdown",
   "id": "aef1513f",
   "metadata": {},
   "source": [
    "![nn](image/knn04.PNG)"
   ]
  },
  {
   "cell_type": "markdown",
   "id": "02e36ecc",
   "metadata": {},
   "source": [
    "k=4 이때는 동률(tie)가 나온다. 잘나오지 않는 상황이므로 가장가까운 이웃을 따른다거나 랜덤으로 찍는다거나 등등 을 선택한다."
   ]
  },
  {
   "cell_type": "markdown",
   "id": "60499bdb",
   "metadata": {},
   "source": [
    "![nn](image/knn05.PNG)"
   ]
  },
  {
   "cell_type": "markdown",
   "id": "1a4ddb04",
   "metadata": {},
   "source": [
    "k=5일때, red=3, green=2이므로 비로소 빨강으로 분류가 된다. 즉, 각점들의 분유를 알고 있으면 새로운 점이 등장했을때, 그녀석을 어디로 분류할지 정할수 있다."
   ]
  },
  {
   "cell_type": "markdown",
   "id": "712d20fb",
   "metadata": {},
   "source": [
    "# 단점\n",
    " ## 정규화\n",
    " ##### x와 y값이 소수점안의 값으로 매우 작으면 정규화 해줘서 분포를 넓게 해줘야한다. =>최소값0,최대값 1로 고정한뒤 모든값을 그사이값으로 변환, 평균과 표준편차를 이용한 z정규화\n",
    "## k의 개수 : 너무작으면 과적합, 너무크면 과소적합이 일어난다."
   ]
  },
  {
   "cell_type": "code",
   "execution_count": null,
   "id": "03a6cc62",
   "metadata": {},
   "outputs": [],
   "source": []
  }
 ],
 "metadata": {
  "kernelspec": {
   "display_name": "Python 3 (ipykernel)",
   "language": "python",
   "name": "python3"
  },
  "language_info": {
   "codemirror_mode": {
    "name": "ipython",
    "version": 3
   },
   "file_extension": ".py",
   "mimetype": "text/x-python",
   "name": "python",
   "nbconvert_exporter": "python",
   "pygments_lexer": "ipython3",
   "version": "3.9.7"
  }
 },
 "nbformat": 4,
 "nbformat_minor": 5
}
