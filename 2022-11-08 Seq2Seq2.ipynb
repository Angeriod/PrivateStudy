{
 "cells": [
  {
   "cell_type": "markdown",
   "id": "bca8b79f",
   "metadata": {},
   "source": [
    "https://deep-learning-study.tistory.com/686"
   ]
  },
  {
   "cell_type": "markdown",
   "id": "0049835b",
   "metadata": {},
   "source": [
    "https://stackoverflow.com/questions/71818652/attributeerror-module-torchtext-has-no-attribute-legacy\n",
    "torchtext import 안될때 버전변경"
   ]
  },
  {
   "cell_type": "markdown",
   "id": "b96540c3",
   "metadata": {},
   "source": [
    "https://codlingual.tistory.com/91"
   ]
  },
  {
   "cell_type": "code",
   "execution_count": 1,
   "id": "49057945",
   "metadata": {},
   "outputs": [],
   "source": [
    "import torch\n",
    "import torch.nn as nn\n",
    "import torch.optim as optim\n",
    "\n",
    "from torchtext.legacy.datasets import Multi30k#stack-overflow 형님들은 신임\n",
    "from torchtext.legacy.data import Field, BucketIterator\n",
    "import spacy\n",
    "import numpy as np\n",
    "import random\n",
    "import math\n",
    "import time"
   ]
  },
  {
   "cell_type": "code",
   "execution_count": 2,
   "id": "b8b3d8fe",
   "metadata": {},
   "outputs": [],
   "source": [
    "seed=1234\n",
    "\n",
    "random.seed(seed)\n",
    "np.random.seed(seed)\n",
    "torch.manual_seed(seed)#pytorch의 randomseed고정\n",
    "torch.cuda.manual_seed(seed)#pytorch randomseed 고정\n",
    "torch.backends.cudnn.deterministic=True#cudnn randomseed 를 고정"
   ]
  },
  {
   "cell_type": "markdown",
   "id": "f90f92ad",
   "metadata": {},
   "source": [
    "python -m spacy download en\n",
    "\n",
    "python -m spacy download de"
   ]
  },
  {
   "cell_type": "code",
   "execution_count": 7,
   "id": "f21e3f52",
   "metadata": {},
   "outputs": [],
   "source": [
    "import de_core_news_sm\n",
    "import en_core_web_sm\n",
    "\n",
    "spacy_en= en_core_web_sm.load()\n",
    "spacy_de=de_core_news_sm.load()\n",
    "\n",
    "def tokenize_de(text):\n",
    "    return [tok.text for tok in spacy_de.tokenizer(text)][::-1]#reverse\n",
    "\n",
    "def tokenize_en(text):\n",
    "    return [tok.text for tok in spacy_en.tokenizer(text)]\n",
    "\n",
    "SRC=Field(tokenize=tokenize_de, init_token='<sos>', eos_token='<sos>', lower=True)\n",
    "TRG=Field(tokenize=tokenize_en, init_token='<sos>', eos_token='<sos>', lower=True)"
   ]
  },
  {
   "cell_type": "code",
   "execution_count": 8,
   "id": "a1663e58",
   "metadata": {},
   "outputs": [
    {
     "name": "stdout",
     "output_type": "stream",
     "text": [
      "downloading training.tar.gz\n"
     ]
    },
    {
     "name": "stderr",
     "output_type": "stream",
     "text": [
      "C:\\Users\\Lee_JongWoo\\private\\20221107\\.data\\multi30k\\training.tar.gz: 100%|████████| 1.21M/1.21M [00:07<00:00, 165kB/s]\n"
     ]
    },
    {
     "name": "stdout",
     "output_type": "stream",
     "text": [
      "downloading validation.tar.gz\n"
     ]
    },
    {
     "name": "stderr",
     "output_type": "stream",
     "text": [
      "C:\\Users\\Lee_JongWoo\\private\\20221107\\.data\\multi30k\\validation.tar.gz: 100%|█████| 46.3k/46.3k [00:00<00:00, 80.3kB/s]\n"
     ]
    },
    {
     "name": "stdout",
     "output_type": "stream",
     "text": [
      "downloading mmt_task1_test2016.tar.gz\n"
     ]
    },
    {
     "name": "stderr",
     "output_type": "stream",
     "text": [
      "C:\\Users\\Lee_JongWoo\\private\\20221107\\.data\\multi30k\\mmt_task1_test2016.tar.gz: 100%|█| 66.2k/66.2k [00:01<00:00, 53.7k\n"
     ]
    }
   ],
   "source": [
    "train_data, valid_data, test_data=Multi30k.splits(exts=('.de','.en'),fields=(SRC,TRG))\n",
    "# train, validation, test 데이터를 불러오고, 다운로드 합니다.\n",
    "# Multi30k dataset을 사용하여, 30,000개의 영어, 독일, 프랑스어 문장을 포함합니다."
   ]
  },
  {
   "cell_type": "code",
   "execution_count": 23,
   "id": "726754d5",
   "metadata": {},
   "outputs": [
    {
     "name": "stdout",
     "output_type": "stream",
     "text": [
      "{'src': ['.', 'anstarrt', 'etwas', 'der', ',', 'hut', 'orangefarbenen', 'einem', 'mit', 'mann', 'ein'], 'trg': ['a', 'man', 'in', 'an', 'orange', 'hat', 'starring', 'at', 'something', '.']}\n"
     ]
    }
   ],
   "source": [
    "print(vars(test_data.examples[0]))#입력 src는 입력단어가 거꾸로"
   ]
  },
  {
   "cell_type": "code",
   "execution_count": 15,
   "id": "15f85f75",
   "metadata": {},
   "outputs": [
    {
     "name": "stdout",
     "output_type": "stream",
     "text": [
      "{'src': ['.', 'büsche', 'vieler', 'nähe', 'der', 'in', 'freien', 'im', 'sind', 'männer', 'weiße', 'junge', 'zwei'], 'trg': ['two', 'young', ',', 'white', 'males', 'are', 'outside', 'near', 'many', 'bushes', '.']}\n"
     ]
    }
   ],
   "source": [
    "print(vars(train_data.examples[0]))"
   ]
  },
  {
   "cell_type": "code",
   "execution_count": 9,
   "id": "7ebbc612",
   "metadata": {},
   "outputs": [
    {
     "name": "stdout",
     "output_type": "stream",
     "text": [
      "Number of training examples:29000\n",
      "Number of validation examples:1014\n",
      "Number of testing examples:1000\n"
     ]
    }
   ],
   "source": [
    "print(f'Number of training examples:{len(train_data.examples)}')\n",
    "print(f'Number of validation examples:{len(valid_data.examples)}')\n",
    "print(f'Number of testing examples:{len(test_data.examples)}')"
   ]
  },
  {
   "cell_type": "code",
   "execution_count": 10,
   "id": "0618dcc6",
   "metadata": {},
   "outputs": [],
   "source": [
    "SRC.build_vocab(train_data, min_freq=2)\n",
    "TRG.build_vocab(train_data,min_freq=2)\n",
    "#토큰화 전처리가 끝나면, 각단어에 고유한 정수를 맵핑해주는 정수 인코딩작업이 필요하다. 그리고 이 전처리를 위해서는 단어집합이 필요한데, \n",
    "#정의한 filed에 build_vocab을 이용하면 단어집합을 만들수 있다.\n",
    "# min_freq=2는 2번 이상 등장한 토큰을 출력합니다.\n",
    "# 토큰이 1번만 등장했다면 <unk>로 대체합니다."
   ]
  },
  {
   "cell_type": "code",
   "execution_count": 11,
   "id": "747b93ca",
   "metadata": {},
   "outputs": [],
   "source": [
    "device=torch.device('cuda' if torch.cuda.is_available() else 'cpu')\n",
    "\n",
    "batch_size=128\n",
    "train_iterator, valid_iterator, test_iterator=BucketIterator.splits((train_data, valid_data, test_data),batch_size=batch_size,device=device)"
   ]
  },
  {
   "cell_type": "code",
   "execution_count": 12,
   "id": "f9210e2e",
   "metadata": {},
   "outputs": [],
   "source": [
    "class Encoder(nn.Module):\n",
    "    def __init__(self, input_dim, emb_dim, hid_dim, n_layers, dropout):\n",
    "        super().__init__()\n",
    "        \n",
    "        self.hid_dim=hid_dim\n",
    "        self.n_layers=n_layers\n",
    "        #임베딩:입력값을 emb_dim벡터로 변경\n",
    "        self.embedding=nn.Embeding(input_dim, emb_dim)\n",
    "        \n",
    "        #embeding을 입력받아 hid_dim크기의 hidden state,cell출력\n",
    "        self.rnn=nn.LSTM(emb_dim, hid_dim, n_layers, dropout=dropout)\n",
    "        \n",
    "        self.dropout=nn.Dropout(dropout)\n",
    "    \n",
    "    def forward(self,src):\n",
    "        #src=[src.len,batch_size]\n",
    "        embedded= self.dropout(self.embedding(src))\n",
    "        #initial hidden state는 제로텐서\n",
    "        outputs, (hidden,cell)=self.rnn(embedded)\n",
    "        # output: [src_len, batch_size, hid dim * n directions]\n",
    "        # hidden: [n layers * n directions, batch_size, hid dim]\n",
    "        # cell: [n layers * n directions, batch_size, hid dim]\n",
    "        return hidden, cell"
   ]
  },
  {
   "cell_type": "code",
   "execution_count": 13,
   "id": "7bab6d8e",
   "metadata": {},
   "outputs": [],
   "source": [
    "class Decoder(nn.Module):\n",
    "    def __init__(self, out_dim, emb_dim, hid_dim, n_layers, dropouts):\n",
    "        super().__init__()\n",
    "        \n",
    "        self.output_dim=output_dim\n",
    "        self.hid_dim=hid_dim\n",
    "        self.n_layers=n_layers\n",
    "        \n",
    "        #context vector를 받아  embdim으로 출력\n",
    "        self.embedding=nn.Embeding(output_dim,emb_dim)\n",
    "        self.rnn=nn.LSTM(emb_dim, hid_dim, n_layers, dropout=dropout)\n",
    "        self.fc_out=nn.Linear(hid_dim, output_dim)\n",
    "        \n",
    "        self.dropout=nn.Dropout(dropout)\n",
    "        \n",
    "    def forward(self, input, hidden, cell):\n",
    "        input= input.unsqueeze(0) #입력 [1,batchsize] 첫번째 input 은 <sos>\n",
    "        \n",
    "        embedded=self.dropout(self.embedding(input))\n",
    "        \n",
    "        output, (hidden,cell)= self.rnn(embedded, (hidden,cell))\n",
    "        \n",
    "        prediction=self.fc_out(output.squeeze(0))\n",
    "        \n",
    "        return prediction, hidden, cell"
   ]
  },
  {
   "cell_type": "code",
   "execution_count": 14,
   "id": "050def24",
   "metadata": {},
   "outputs": [],
   "source": [
    "class Seq2Seq(nn.Module):\n",
    "    def __init__(self, encoder, decoder, device):\n",
    "        super.__init__()\n",
    "        \n",
    "        self.encoder=encoder\n",
    "        self.decoder=decoder\n",
    "        self.device=device\n",
    "         # encoder와 decoder의 hid_dim이 일치하지 않는 경우 에러메세지\n",
    "        assert encoder.hidden_dim == decoder.hidden_dim, \\\n",
    "            'Hidden dimensions of encoder decoder must be equal'\n",
    "         # encoder와 decoder의 hid_dim이 일치하지 않는 경우 에러메세지\n",
    "        assert encoder.n_layers == decoder.n_layers, \\\n",
    "            'Encoder and decoder must have equal number of layers'\n",
    "    def forward(self, src, trg, teacher_forcing_ratio=0.5):\n",
    "        #target word(Ground Truth)를 디코더의 다음 입력으로 넣어주는 기법\n",
    "        #src=[src len,batch_size]\n",
    "        #trg=[trg len,batch_size]\n",
    "        \n",
    "        batch_size=trg.shape[1]\n",
    "        trg_len=trg.shape[0] # 타겟 토큰 길이 얻기\n",
    "        trg_vocab_size=self.decoder.output_dim # context vector의 차원\n",
    "        # decoder의 output을 저장하기 위한 tensor\n",
    "        outputs = torch.zeros(trg_len, batch_size, trg_vocab_size).to(self.device)\n",
    "        # initial hidden state\n",
    "        hidden, cell=self.encoder(src)\n",
    "        \n",
    "        input=trg[0,:]\n",
    "        \n",
    "        for t in range(1, trg_len):# <eos> 제외하고 trg_len-1 만큼 반복\n",
    "            output, hidden, cell = self.encoder(input, hidden, cell)\n",
    "            \n",
    "            outputs[t]=output# prediction 저장\n",
    "            teacher_force=random.randorm()<teacher_forcing_ratio# teacher forcing을 사용할지, 말지 결정\n",
    "            top1=output.argmax[1]# 가장 높은 확률을 갖은 값 얻기\n",
    "            input=trg[t] if teacher_force else top1# teacher forcing의 경우에 다음 lstm에 target token 입력\n",
    "            \n",
    "        return outputs"
   ]
  },
  {
   "cell_type": "code",
   "execution_count": null,
   "id": "f2508ac9",
   "metadata": {},
   "outputs": [],
   "source": []
  }
 ],
 "metadata": {
  "kernelspec": {
   "display_name": "Python 3 (ipykernel)",
   "language": "python",
   "name": "python3"
  },
  "language_info": {
   "codemirror_mode": {
    "name": "ipython",
    "version": 3
   },
   "file_extension": ".py",
   "mimetype": "text/x-python",
   "name": "python",
   "nbconvert_exporter": "python",
   "pygments_lexer": "ipython3",
   "version": "3.9.12"
  }
 },
 "nbformat": 4,
 "nbformat_minor": 5
}
